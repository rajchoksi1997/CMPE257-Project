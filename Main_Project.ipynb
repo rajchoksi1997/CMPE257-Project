{
  "nbformat": 4,
  "nbformat_minor": 0,
  "metadata": {
    "colab": {
      "provenance": [],
      "include_colab_link": true
    },
    "kernelspec": {
      "name": "python3",
      "display_name": "Python 3"
    },
    "language_info": {
      "name": "python"
    }
  },
  "cells": [
    {
      "cell_type": "markdown",
      "metadata": {
        "id": "view-in-github",
        "colab_type": "text"
      },
      "source": [
        "<a href=\"https://colab.research.google.com/github/rajchoksi1997/CMPE257-Project/blob/main/Main_Project.ipynb\" target=\"_parent\"><img src=\"https://colab.research.google.com/assets/colab-badge.svg\" alt=\"Open In Colab\"/></a>"
      ]
    },
    {
      "cell_type": "code",
      "execution_count": null,
      "metadata": {
        "id": "vcAKN7QCGtYk"
      },
      "outputs": [],
      "source": [
        "import pandas as pd"
      ]
    },
    {
      "cell_type": "code",
      "execution_count": null,
      "metadata": {
        "id": "XzROgwRZGyFd"
      },
      "outputs": [],
      "source": [
        "dataSet = pd.read_csv(\"train_timeseries.csv\")"
      ]
    },
    {
      "cell_type": "code",
      "execution_count": null,
      "metadata": {
        "id": "9cYtO7d8u9mD",
        "outputId": "387f59f7-b183-467b-a285-28b9747f4ed1"
      },
      "outputs": [
        {
          "name": "stdout",
          "output_type": "stream",
          "text": [
            "First 5 Rows\n",
            "\n"
          ]
        },
        {
          "data": {
            "text/html": [
              "<div>\n",
              "<style scoped>\n",
              "    .dataframe tbody tr th:only-of-type {\n",
              "        vertical-align: middle;\n",
              "    }\n",
              "\n",
              "    .dataframe tbody tr th {\n",
              "        vertical-align: top;\n",
              "    }\n",
              "\n",
              "    .dataframe thead th {\n",
              "        text-align: right;\n",
              "    }\n",
              "</style>\n",
              "<table border=\"1\" class=\"dataframe\">\n",
              "  <thead>\n",
              "    <tr style=\"text-align: right;\">\n",
              "      <th></th>\n",
              "      <th>fips</th>\n",
              "      <th>date</th>\n",
              "      <th>PRECTOT</th>\n",
              "      <th>PS</th>\n",
              "      <th>QV2M</th>\n",
              "      <th>T2M</th>\n",
              "      <th>T2MDEW</th>\n",
              "      <th>T2MWET</th>\n",
              "      <th>T2M_MAX</th>\n",
              "      <th>T2M_MIN</th>\n",
              "      <th>...</th>\n",
              "      <th>TS</th>\n",
              "      <th>WS10M</th>\n",
              "      <th>WS10M_MAX</th>\n",
              "      <th>WS10M_MIN</th>\n",
              "      <th>WS10M_RANGE</th>\n",
              "      <th>WS50M</th>\n",
              "      <th>WS50M_MAX</th>\n",
              "      <th>WS50M_MIN</th>\n",
              "      <th>WS50M_RANGE</th>\n",
              "      <th>score</th>\n",
              "    </tr>\n",
              "  </thead>\n",
              "  <tbody>\n",
              "    <tr>\n",
              "      <th>0</th>\n",
              "      <td>1001</td>\n",
              "      <td>2000-01-01</td>\n",
              "      <td>0.22</td>\n",
              "      <td>100.51</td>\n",
              "      <td>9.65</td>\n",
              "      <td>14.74</td>\n",
              "      <td>13.51</td>\n",
              "      <td>13.51</td>\n",
              "      <td>20.96</td>\n",
              "      <td>11.46</td>\n",
              "      <td>...</td>\n",
              "      <td>14.65</td>\n",
              "      <td>2.20</td>\n",
              "      <td>2.94</td>\n",
              "      <td>1.49</td>\n",
              "      <td>1.46</td>\n",
              "      <td>4.85</td>\n",
              "      <td>6.04</td>\n",
              "      <td>3.23</td>\n",
              "      <td>2.81</td>\n",
              "      <td>NaN</td>\n",
              "    </tr>\n",
              "    <tr>\n",
              "      <th>1</th>\n",
              "      <td>1001</td>\n",
              "      <td>2000-01-02</td>\n",
              "      <td>0.20</td>\n",
              "      <td>100.55</td>\n",
              "      <td>10.42</td>\n",
              "      <td>16.69</td>\n",
              "      <td>14.71</td>\n",
              "      <td>14.71</td>\n",
              "      <td>22.80</td>\n",
              "      <td>12.61</td>\n",
              "      <td>...</td>\n",
              "      <td>16.60</td>\n",
              "      <td>2.52</td>\n",
              "      <td>3.43</td>\n",
              "      <td>1.83</td>\n",
              "      <td>1.60</td>\n",
              "      <td>5.33</td>\n",
              "      <td>6.13</td>\n",
              "      <td>3.72</td>\n",
              "      <td>2.41</td>\n",
              "      <td>NaN</td>\n",
              "    </tr>\n",
              "    <tr>\n",
              "      <th>2</th>\n",
              "      <td>1001</td>\n",
              "      <td>2000-01-03</td>\n",
              "      <td>3.65</td>\n",
              "      <td>100.15</td>\n",
              "      <td>11.76</td>\n",
              "      <td>18.49</td>\n",
              "      <td>16.52</td>\n",
              "      <td>16.52</td>\n",
              "      <td>22.73</td>\n",
              "      <td>15.32</td>\n",
              "      <td>...</td>\n",
              "      <td>18.41</td>\n",
              "      <td>4.03</td>\n",
              "      <td>5.33</td>\n",
              "      <td>2.66</td>\n",
              "      <td>2.67</td>\n",
              "      <td>7.53</td>\n",
              "      <td>9.52</td>\n",
              "      <td>5.87</td>\n",
              "      <td>3.66</td>\n",
              "      <td>NaN</td>\n",
              "    </tr>\n",
              "    <tr>\n",
              "      <th>3</th>\n",
              "      <td>1001</td>\n",
              "      <td>2000-01-04</td>\n",
              "      <td>15.95</td>\n",
              "      <td>100.29</td>\n",
              "      <td>6.42</td>\n",
              "      <td>11.40</td>\n",
              "      <td>6.09</td>\n",
              "      <td>6.10</td>\n",
              "      <td>18.09</td>\n",
              "      <td>2.16</td>\n",
              "      <td>...</td>\n",
              "      <td>11.31</td>\n",
              "      <td>3.84</td>\n",
              "      <td>5.67</td>\n",
              "      <td>2.08</td>\n",
              "      <td>3.59</td>\n",
              "      <td>6.73</td>\n",
              "      <td>9.31</td>\n",
              "      <td>3.74</td>\n",
              "      <td>5.58</td>\n",
              "      <td>1.0</td>\n",
              "    </tr>\n",
              "    <tr>\n",
              "      <th>4</th>\n",
              "      <td>1001</td>\n",
              "      <td>2000-01-05</td>\n",
              "      <td>0.00</td>\n",
              "      <td>101.15</td>\n",
              "      <td>2.95</td>\n",
              "      <td>3.86</td>\n",
              "      <td>-3.29</td>\n",
              "      <td>-3.20</td>\n",
              "      <td>10.82</td>\n",
              "      <td>-2.66</td>\n",
              "      <td>...</td>\n",
              "      <td>2.65</td>\n",
              "      <td>1.60</td>\n",
              "      <td>2.50</td>\n",
              "      <td>0.52</td>\n",
              "      <td>1.98</td>\n",
              "      <td>2.94</td>\n",
              "      <td>4.85</td>\n",
              "      <td>0.65</td>\n",
              "      <td>4.19</td>\n",
              "      <td>NaN</td>\n",
              "    </tr>\n",
              "  </tbody>\n",
              "</table>\n",
              "<p>5 rows × 21 columns</p>\n",
              "</div>"
            ],
            "text/plain": [
              "   fips        date  PRECTOT      PS   QV2M    T2M  T2MDEW  T2MWET  T2M_MAX  \\\n",
              "0  1001  2000-01-01     0.22  100.51   9.65  14.74   13.51   13.51    20.96   \n",
              "1  1001  2000-01-02     0.20  100.55  10.42  16.69   14.71   14.71    22.80   \n",
              "2  1001  2000-01-03     3.65  100.15  11.76  18.49   16.52   16.52    22.73   \n",
              "3  1001  2000-01-04    15.95  100.29   6.42  11.40    6.09    6.10    18.09   \n",
              "4  1001  2000-01-05     0.00  101.15   2.95   3.86   -3.29   -3.20    10.82   \n",
              "\n",
              "   T2M_MIN  ...     TS  WS10M  WS10M_MAX  WS10M_MIN  WS10M_RANGE  WS50M  \\\n",
              "0    11.46  ...  14.65   2.20       2.94       1.49         1.46   4.85   \n",
              "1    12.61  ...  16.60   2.52       3.43       1.83         1.60   5.33   \n",
              "2    15.32  ...  18.41   4.03       5.33       2.66         2.67   7.53   \n",
              "3     2.16  ...  11.31   3.84       5.67       2.08         3.59   6.73   \n",
              "4    -2.66  ...   2.65   1.60       2.50       0.52         1.98   2.94   \n",
              "\n",
              "   WS50M_MAX  WS50M_MIN  WS50M_RANGE  score  \n",
              "0       6.04       3.23         2.81    NaN  \n",
              "1       6.13       3.72         2.41    NaN  \n",
              "2       9.52       5.87         3.66    NaN  \n",
              "3       9.31       3.74         5.58    1.0  \n",
              "4       4.85       0.65         4.19    NaN  \n",
              "\n",
              "[5 rows x 21 columns]"
            ]
          },
          "execution_count": 7,
          "metadata": {},
          "output_type": "execute_result"
        }
      ],
      "source": [
        "print(\"First 5 Rows\\n\")\n",
        "dataSet.head()"
      ]
    },
    {
      "cell_type": "code",
      "execution_count": null,
      "metadata": {
        "id": "-H-1Z-LEvJM7",
        "outputId": "0a532b9c-4d38-43a6-a89e-c9cbe9ded98a"
      },
      "outputs": [
        {
          "name": "stdout",
          "output_type": "stream",
          "text": [
            "Last five rows\n",
            "\n"
          ]
        },
        {
          "data": {
            "text/html": [
              "<div>\n",
              "<style scoped>\n",
              "    .dataframe tbody tr th:only-of-type {\n",
              "        vertical-align: middle;\n",
              "    }\n",
              "\n",
              "    .dataframe tbody tr th {\n",
              "        vertical-align: top;\n",
              "    }\n",
              "\n",
              "    .dataframe thead th {\n",
              "        text-align: right;\n",
              "    }\n",
              "</style>\n",
              "<table border=\"1\" class=\"dataframe\">\n",
              "  <thead>\n",
              "    <tr style=\"text-align: right;\">\n",
              "      <th></th>\n",
              "      <th>fips</th>\n",
              "      <th>date</th>\n",
              "      <th>PRECTOT</th>\n",
              "      <th>PS</th>\n",
              "      <th>QV2M</th>\n",
              "      <th>T2M</th>\n",
              "      <th>T2MDEW</th>\n",
              "      <th>T2MWET</th>\n",
              "      <th>T2M_MAX</th>\n",
              "      <th>T2M_MIN</th>\n",
              "      <th>...</th>\n",
              "      <th>TS</th>\n",
              "      <th>WS10M</th>\n",
              "      <th>WS10M_MAX</th>\n",
              "      <th>WS10M_MIN</th>\n",
              "      <th>WS10M_RANGE</th>\n",
              "      <th>WS50M</th>\n",
              "      <th>WS50M_MAX</th>\n",
              "      <th>WS50M_MIN</th>\n",
              "      <th>WS50M_RANGE</th>\n",
              "      <th>score</th>\n",
              "    </tr>\n",
              "  </thead>\n",
              "  <tbody>\n",
              "    <tr>\n",
              "      <th>19300675</th>\n",
              "      <td>56043</td>\n",
              "      <td>2016-12-27</td>\n",
              "      <td>0.16</td>\n",
              "      <td>82.88</td>\n",
              "      <td>1.63</td>\n",
              "      <td>-7.97</td>\n",
              "      <td>-13.49</td>\n",
              "      <td>-12.81</td>\n",
              "      <td>-1.39</td>\n",
              "      <td>-13.60</td>\n",
              "      <td>...</td>\n",
              "      <td>-9.41</td>\n",
              "      <td>5.90</td>\n",
              "      <td>7.63</td>\n",
              "      <td>3.61</td>\n",
              "      <td>4.02</td>\n",
              "      <td>8.58</td>\n",
              "      <td>10.39</td>\n",
              "      <td>5.92</td>\n",
              "      <td>4.47</td>\n",
              "      <td>0.0</td>\n",
              "    </tr>\n",
              "    <tr>\n",
              "      <th>19300676</th>\n",
              "      <td>56043</td>\n",
              "      <td>2016-12-28</td>\n",
              "      <td>0.02</td>\n",
              "      <td>83.33</td>\n",
              "      <td>1.41</td>\n",
              "      <td>-8.71</td>\n",
              "      <td>-14.10</td>\n",
              "      <td>-13.84</td>\n",
              "      <td>-2.49</td>\n",
              "      <td>-13.56</td>\n",
              "      <td>...</td>\n",
              "      <td>-10.55</td>\n",
              "      <td>6.50</td>\n",
              "      <td>11.43</td>\n",
              "      <td>4.11</td>\n",
              "      <td>7.32</td>\n",
              "      <td>9.92</td>\n",
              "      <td>14.49</td>\n",
              "      <td>7.26</td>\n",
              "      <td>7.22</td>\n",
              "      <td>NaN</td>\n",
              "    </tr>\n",
              "    <tr>\n",
              "      <th>19300677</th>\n",
              "      <td>56043</td>\n",
              "      <td>2016-12-29</td>\n",
              "      <td>0.00</td>\n",
              "      <td>83.75</td>\n",
              "      <td>1.59</td>\n",
              "      <td>-7.96</td>\n",
              "      <td>-13.30</td>\n",
              "      <td>-13.03</td>\n",
              "      <td>0.42</td>\n",
              "      <td>-14.51</td>\n",
              "      <td>...</td>\n",
              "      <td>-10.29</td>\n",
              "      <td>4.29</td>\n",
              "      <td>6.24</td>\n",
              "      <td>2.03</td>\n",
              "      <td>4.22</td>\n",
              "      <td>6.56</td>\n",
              "      <td>10.07</td>\n",
              "      <td>3.20</td>\n",
              "      <td>6.87</td>\n",
              "      <td>NaN</td>\n",
              "    </tr>\n",
              "    <tr>\n",
              "      <th>19300678</th>\n",
              "      <td>56043</td>\n",
              "      <td>2016-12-30</td>\n",
              "      <td>1.22</td>\n",
              "      <td>82.49</td>\n",
              "      <td>2.63</td>\n",
              "      <td>-2.94</td>\n",
              "      <td>-7.40</td>\n",
              "      <td>-7.33</td>\n",
              "      <td>3.76</td>\n",
              "      <td>-6.86</td>\n",
              "      <td>...</td>\n",
              "      <td>-4.14</td>\n",
              "      <td>4.98</td>\n",
              "      <td>7.34</td>\n",
              "      <td>1.99</td>\n",
              "      <td>5.35</td>\n",
              "      <td>7.28</td>\n",
              "      <td>10.12</td>\n",
              "      <td>3.24</td>\n",
              "      <td>6.89</td>\n",
              "      <td>NaN</td>\n",
              "    </tr>\n",
              "    <tr>\n",
              "      <th>19300679</th>\n",
              "      <td>56043</td>\n",
              "      <td>2016-12-31</td>\n",
              "      <td>0.44</td>\n",
              "      <td>82.19</td>\n",
              "      <td>1.75</td>\n",
              "      <td>-7.56</td>\n",
              "      <td>-11.98</td>\n",
              "      <td>-11.82</td>\n",
              "      <td>-0.95</td>\n",
              "      <td>-11.61</td>\n",
              "      <td>...</td>\n",
              "      <td>-10.17</td>\n",
              "      <td>2.31</td>\n",
              "      <td>3.47</td>\n",
              "      <td>0.41</td>\n",
              "      <td>3.06</td>\n",
              "      <td>3.37</td>\n",
              "      <td>5.26</td>\n",
              "      <td>0.66</td>\n",
              "      <td>4.60</td>\n",
              "      <td>NaN</td>\n",
              "    </tr>\n",
              "  </tbody>\n",
              "</table>\n",
              "<p>5 rows × 21 columns</p>\n",
              "</div>"
            ],
            "text/plain": [
              "           fips        date  PRECTOT     PS  QV2M   T2M  T2MDEW  T2MWET  \\\n",
              "19300675  56043  2016-12-27     0.16  82.88  1.63 -7.97  -13.49  -12.81   \n",
              "19300676  56043  2016-12-28     0.02  83.33  1.41 -8.71  -14.10  -13.84   \n",
              "19300677  56043  2016-12-29     0.00  83.75  1.59 -7.96  -13.30  -13.03   \n",
              "19300678  56043  2016-12-30     1.22  82.49  2.63 -2.94   -7.40   -7.33   \n",
              "19300679  56043  2016-12-31     0.44  82.19  1.75 -7.56  -11.98  -11.82   \n",
              "\n",
              "          T2M_MAX  T2M_MIN  ...     TS  WS10M  WS10M_MAX  WS10M_MIN  \\\n",
              "19300675    -1.39   -13.60  ...  -9.41   5.90       7.63       3.61   \n",
              "19300676    -2.49   -13.56  ... -10.55   6.50      11.43       4.11   \n",
              "19300677     0.42   -14.51  ... -10.29   4.29       6.24       2.03   \n",
              "19300678     3.76    -6.86  ...  -4.14   4.98       7.34       1.99   \n",
              "19300679    -0.95   -11.61  ... -10.17   2.31       3.47       0.41   \n",
              "\n",
              "          WS10M_RANGE  WS50M  WS50M_MAX  WS50M_MIN  WS50M_RANGE  score  \n",
              "19300675         4.02   8.58      10.39       5.92         4.47    0.0  \n",
              "19300676         7.32   9.92      14.49       7.26         7.22    NaN  \n",
              "19300677         4.22   6.56      10.07       3.20         6.87    NaN  \n",
              "19300678         5.35   7.28      10.12       3.24         6.89    NaN  \n",
              "19300679         3.06   3.37       5.26       0.66         4.60    NaN  \n",
              "\n",
              "[5 rows x 21 columns]"
            ]
          },
          "execution_count": 8,
          "metadata": {},
          "output_type": "execute_result"
        }
      ],
      "source": [
        "print(\"Last five rows\\n\")\n",
        "dataSet.tail()"
      ]
    },
    {
      "cell_type": "code",
      "execution_count": null,
      "metadata": {
        "id": "Du3Wl-_5vqnO",
        "outputId": "81216465-73fd-4e71-fd10-4bfad376b009"
      },
      "outputs": [
        {
          "name": "stdout",
          "output_type": "stream",
          "text": [
            "Data Show Describe\n"
          ]
        },
        {
          "data": {
            "text/html": [
              "<div>\n",
              "<style scoped>\n",
              "    .dataframe tbody tr th:only-of-type {\n",
              "        vertical-align: middle;\n",
              "    }\n",
              "\n",
              "    .dataframe tbody tr th {\n",
              "        vertical-align: top;\n",
              "    }\n",
              "\n",
              "    .dataframe thead th {\n",
              "        text-align: right;\n",
              "    }\n",
              "</style>\n",
              "<table border=\"1\" class=\"dataframe\">\n",
              "  <thead>\n",
              "    <tr style=\"text-align: right;\">\n",
              "      <th></th>\n",
              "      <th>fips</th>\n",
              "      <th>PRECTOT</th>\n",
              "      <th>PS</th>\n",
              "      <th>QV2M</th>\n",
              "      <th>T2M</th>\n",
              "      <th>T2MDEW</th>\n",
              "      <th>T2MWET</th>\n",
              "      <th>T2M_MAX</th>\n",
              "      <th>T2M_MIN</th>\n",
              "      <th>T2M_RANGE</th>\n",
              "      <th>TS</th>\n",
              "      <th>WS10M</th>\n",
              "      <th>WS10M_MAX</th>\n",
              "      <th>WS10M_MIN</th>\n",
              "      <th>WS10M_RANGE</th>\n",
              "      <th>WS50M</th>\n",
              "      <th>WS50M_MAX</th>\n",
              "      <th>WS50M_MIN</th>\n",
              "      <th>WS50M_RANGE</th>\n",
              "      <th>score</th>\n",
              "    </tr>\n",
              "  </thead>\n",
              "  <tbody>\n",
              "    <tr>\n",
              "      <th>count</th>\n",
              "      <td>1.930068e+07</td>\n",
              "      <td>1.930068e+07</td>\n",
              "      <td>1.930068e+07</td>\n",
              "      <td>1.930068e+07</td>\n",
              "      <td>1.930068e+07</td>\n",
              "      <td>1.930068e+07</td>\n",
              "      <td>1.930068e+07</td>\n",
              "      <td>1.930068e+07</td>\n",
              "      <td>1.930068e+07</td>\n",
              "      <td>1.930068e+07</td>\n",
              "      <td>1.930068e+07</td>\n",
              "      <td>1.930068e+07</td>\n",
              "      <td>1.930068e+07</td>\n",
              "      <td>1.930068e+07</td>\n",
              "      <td>1.930068e+07</td>\n",
              "      <td>1.930068e+07</td>\n",
              "      <td>1.930068e+07</td>\n",
              "      <td>1.930068e+07</td>\n",
              "      <td>1.930068e+07</td>\n",
              "      <td>2.756796e+06</td>\n",
              "    </tr>\n",
              "    <tr>\n",
              "      <th>mean</th>\n",
              "      <td>3.067038e+04</td>\n",
              "      <td>2.644145e+00</td>\n",
              "      <td>9.665578e+01</td>\n",
              "      <td>7.816178e+00</td>\n",
              "      <td>1.280146e+01</td>\n",
              "      <td>6.951072e+00</td>\n",
              "      <td>6.986916e+00</td>\n",
              "      <td>1.868141e+01</td>\n",
              "      <td>7.411665e+00</td>\n",
              "      <td>1.126974e+01</td>\n",
              "      <td>1.288900e+01</td>\n",
              "      <td>3.564013e+00</td>\n",
              "      <td>5.195993e+00</td>\n",
              "      <td>1.928879e+00</td>\n",
              "      <td>3.267113e+00</td>\n",
              "      <td>5.525151e+00</td>\n",
              "      <td>7.811798e+00</td>\n",
              "      <td>3.130077e+00</td>\n",
              "      <td>4.681721e+00</td>\n",
              "      <td>8.245298e-01</td>\n",
              "    </tr>\n",
              "    <tr>\n",
              "      <th>std</th>\n",
              "      <td>1.497911e+04</td>\n",
              "      <td>6.226305e+00</td>\n",
              "      <td>5.447994e+00</td>\n",
              "      <td>4.694305e+00</td>\n",
              "      <td>1.092674e+01</td>\n",
              "      <td>1.014551e+01</td>\n",
              "      <td>1.009116e+01</td>\n",
              "      <td>1.154487e+01</td>\n",
              "      <td>1.057680e+01</td>\n",
              "      <td>4.005165e+00</td>\n",
              "      <td>1.114961e+01</td>\n",
              "      <td>1.862297e+00</td>\n",
              "      <td>2.627969e+00</td>\n",
              "      <td>1.351713e+00</td>\n",
              "      <td>1.947028e+00</td>\n",
              "      <td>2.321549e+00</td>\n",
              "      <td>2.861210e+00</td>\n",
              "      <td>2.122751e+00</td>\n",
              "      <td>2.171263e+00</td>\n",
              "      <td>1.223727e+00</td>\n",
              "    </tr>\n",
              "    <tr>\n",
              "      <th>min</th>\n",
              "      <td>1.001000e+03</td>\n",
              "      <td>0.000000e+00</td>\n",
              "      <td>6.612000e+01</td>\n",
              "      <td>1.200000e-01</td>\n",
              "      <td>-3.734000e+01</td>\n",
              "      <td>-3.770000e+01</td>\n",
              "      <td>-3.746000e+01</td>\n",
              "      <td>-3.220000e+01</td>\n",
              "      <td>-4.596000e+01</td>\n",
              "      <td>3.000000e-02</td>\n",
              "      <td>-3.823000e+01</td>\n",
              "      <td>2.500000e-01</td>\n",
              "      <td>5.400000e-01</td>\n",
              "      <td>0.000000e+00</td>\n",
              "      <td>1.600000e-01</td>\n",
              "      <td>4.000000e-01</td>\n",
              "      <td>7.000000e-01</td>\n",
              "      <td>0.000000e+00</td>\n",
              "      <td>3.200000e-01</td>\n",
              "      <td>0.000000e+00</td>\n",
              "    </tr>\n",
              "    <tr>\n",
              "      <th>25%</th>\n",
              "      <td>1.904450e+04</td>\n",
              "      <td>0.000000e+00</td>\n",
              "      <td>9.584000e+01</td>\n",
              "      <td>3.780000e+00</td>\n",
              "      <td>4.450000e+00</td>\n",
              "      <td>-9.600000e-01</td>\n",
              "      <td>-9.200000e-01</td>\n",
              "      <td>1.027000e+01</td>\n",
              "      <td>-7.000000e-01</td>\n",
              "      <td>8.420000e+00</td>\n",
              "      <td>4.340000e+00</td>\n",
              "      <td>2.140000e+00</td>\n",
              "      <td>3.110000e+00</td>\n",
              "      <td>9.600000e-01</td>\n",
              "      <td>1.810000e+00</td>\n",
              "      <td>3.790000e+00</td>\n",
              "      <td>5.680000e+00</td>\n",
              "      <td>1.450000e+00</td>\n",
              "      <td>3.130000e+00</td>\n",
              "      <td>0.000000e+00</td>\n",
              "    </tr>\n",
              "    <tr>\n",
              "      <th>50%</th>\n",
              "      <td>2.921200e+04</td>\n",
              "      <td>1.800000e-01</td>\n",
              "      <td>9.830000e+01</td>\n",
              "      <td>6.840000e+00</td>\n",
              "      <td>1.402000e+01</td>\n",
              "      <td>7.570000e+00</td>\n",
              "      <td>7.580000e+00</td>\n",
              "      <td>2.040000e+01</td>\n",
              "      <td>8.030000e+00</td>\n",
              "      <td>1.124000e+01</td>\n",
              "      <td>1.404000e+01</td>\n",
              "      <td>3.140000e+00</td>\n",
              "      <td>4.670000e+00</td>\n",
              "      <td>1.660000e+00</td>\n",
              "      <td>2.800000e+00</td>\n",
              "      <td>5.120000e+00</td>\n",
              "      <td>7.310000e+00</td>\n",
              "      <td>2.770000e+00</td>\n",
              "      <td>4.250000e+00</td>\n",
              "      <td>0.000000e+00</td>\n",
              "    </tr>\n",
              "    <tr>\n",
              "      <th>75%</th>\n",
              "      <td>4.600750e+04</td>\n",
              "      <td>2.160000e+00</td>\n",
              "      <td>9.996000e+01</td>\n",
              "      <td>1.135000e+01</td>\n",
              "      <td>2.188000e+01</td>\n",
              "      <td>1.552000e+01</td>\n",
              "      <td>1.552000e+01</td>\n",
              "      <td>2.787000e+01</td>\n",
              "      <td>1.614000e+01</td>\n",
              "      <td>1.408000e+01</td>\n",
              "      <td>2.207000e+01</td>\n",
              "      <td>4.600000e+00</td>\n",
              "      <td>6.750000e+00</td>\n",
              "      <td>2.580000e+00</td>\n",
              "      <td>4.250000e+00</td>\n",
              "      <td>6.880000e+00</td>\n",
              "      <td>9.460000e+00</td>\n",
              "      <td>4.410000e+00</td>\n",
              "      <td>5.770000e+00</td>\n",
              "      <td>1.189600e+00</td>\n",
              "    </tr>\n",
              "    <tr>\n",
              "      <th>max</th>\n",
              "      <td>5.604300e+04</td>\n",
              "      <td>2.345900e+02</td>\n",
              "      <td>1.043200e+02</td>\n",
              "      <td>2.292000e+01</td>\n",
              "      <td>4.139000e+01</td>\n",
              "      <td>2.755000e+01</td>\n",
              "      <td>2.755000e+01</td>\n",
              "      <td>4.991000e+01</td>\n",
              "      <td>3.380000e+01</td>\n",
              "      <td>3.461000e+01</td>\n",
              "      <td>4.385000e+01</td>\n",
              "      <td>2.369000e+01</td>\n",
              "      <td>3.628000e+01</td>\n",
              "      <td>1.720000e+01</td>\n",
              "      <td>2.825000e+01</td>\n",
              "      <td>2.835000e+01</td>\n",
              "      <td>4.273000e+01</td>\n",
              "      <td>2.087000e+01</td>\n",
              "      <td>3.243000e+01</td>\n",
              "      <td>5.000000e+00</td>\n",
              "    </tr>\n",
              "  </tbody>\n",
              "</table>\n",
              "</div>"
            ],
            "text/plain": [
              "               fips       PRECTOT            PS          QV2M           T2M  \\\n",
              "count  1.930068e+07  1.930068e+07  1.930068e+07  1.930068e+07  1.930068e+07   \n",
              "mean   3.067038e+04  2.644145e+00  9.665578e+01  7.816178e+00  1.280146e+01   \n",
              "std    1.497911e+04  6.226305e+00  5.447994e+00  4.694305e+00  1.092674e+01   \n",
              "min    1.001000e+03  0.000000e+00  6.612000e+01  1.200000e-01 -3.734000e+01   \n",
              "25%    1.904450e+04  0.000000e+00  9.584000e+01  3.780000e+00  4.450000e+00   \n",
              "50%    2.921200e+04  1.800000e-01  9.830000e+01  6.840000e+00  1.402000e+01   \n",
              "75%    4.600750e+04  2.160000e+00  9.996000e+01  1.135000e+01  2.188000e+01   \n",
              "max    5.604300e+04  2.345900e+02  1.043200e+02  2.292000e+01  4.139000e+01   \n",
              "\n",
              "             T2MDEW        T2MWET       T2M_MAX       T2M_MIN     T2M_RANGE  \\\n",
              "count  1.930068e+07  1.930068e+07  1.930068e+07  1.930068e+07  1.930068e+07   \n",
              "mean   6.951072e+00  6.986916e+00  1.868141e+01  7.411665e+00  1.126974e+01   \n",
              "std    1.014551e+01  1.009116e+01  1.154487e+01  1.057680e+01  4.005165e+00   \n",
              "min   -3.770000e+01 -3.746000e+01 -3.220000e+01 -4.596000e+01  3.000000e-02   \n",
              "25%   -9.600000e-01 -9.200000e-01  1.027000e+01 -7.000000e-01  8.420000e+00   \n",
              "50%    7.570000e+00  7.580000e+00  2.040000e+01  8.030000e+00  1.124000e+01   \n",
              "75%    1.552000e+01  1.552000e+01  2.787000e+01  1.614000e+01  1.408000e+01   \n",
              "max    2.755000e+01  2.755000e+01  4.991000e+01  3.380000e+01  3.461000e+01   \n",
              "\n",
              "                 TS         WS10M     WS10M_MAX     WS10M_MIN   WS10M_RANGE  \\\n",
              "count  1.930068e+07  1.930068e+07  1.930068e+07  1.930068e+07  1.930068e+07   \n",
              "mean   1.288900e+01  3.564013e+00  5.195993e+00  1.928879e+00  3.267113e+00   \n",
              "std    1.114961e+01  1.862297e+00  2.627969e+00  1.351713e+00  1.947028e+00   \n",
              "min   -3.823000e+01  2.500000e-01  5.400000e-01  0.000000e+00  1.600000e-01   \n",
              "25%    4.340000e+00  2.140000e+00  3.110000e+00  9.600000e-01  1.810000e+00   \n",
              "50%    1.404000e+01  3.140000e+00  4.670000e+00  1.660000e+00  2.800000e+00   \n",
              "75%    2.207000e+01  4.600000e+00  6.750000e+00  2.580000e+00  4.250000e+00   \n",
              "max    4.385000e+01  2.369000e+01  3.628000e+01  1.720000e+01  2.825000e+01   \n",
              "\n",
              "              WS50M     WS50M_MAX     WS50M_MIN   WS50M_RANGE         score  \n",
              "count  1.930068e+07  1.930068e+07  1.930068e+07  1.930068e+07  2.756796e+06  \n",
              "mean   5.525151e+00  7.811798e+00  3.130077e+00  4.681721e+00  8.245298e-01  \n",
              "std    2.321549e+00  2.861210e+00  2.122751e+00  2.171263e+00  1.223727e+00  \n",
              "min    4.000000e-01  7.000000e-01  0.000000e+00  3.200000e-01  0.000000e+00  \n",
              "25%    3.790000e+00  5.680000e+00  1.450000e+00  3.130000e+00  0.000000e+00  \n",
              "50%    5.120000e+00  7.310000e+00  2.770000e+00  4.250000e+00  0.000000e+00  \n",
              "75%    6.880000e+00  9.460000e+00  4.410000e+00  5.770000e+00  1.189600e+00  \n",
              "max    2.835000e+01  4.273000e+01  2.087000e+01  3.243000e+01  5.000000e+00  "
            ]
          },
          "execution_count": 9,
          "metadata": {},
          "output_type": "execute_result"
        }
      ],
      "source": [
        "print(\"Data Show Describe\")\n",
        "dataSet.describe()"
      ]
    },
    {
      "cell_type": "code",
      "execution_count": null,
      "metadata": {
        "id": "aO2UmELwvNvD",
        "outputId": "0a19a339-5fcd-4ad0-8c09-b5acc8d32a8a"
      },
      "outputs": [
        {
          "name": "stdout",
          "output_type": "stream",
          "text": [
            "Datatype of Attributes\n",
            "\n",
            "<class 'pandas.core.frame.DataFrame'>\n",
            "RangeIndex: 19300680 entries, 0 to 19300679\n",
            "Data columns (total 21 columns):\n",
            " #   Column       Dtype  \n",
            "---  ------       -----  \n",
            " 0   fips         int64  \n",
            " 1   date         object \n",
            " 2   PRECTOT      float64\n",
            " 3   PS           float64\n",
            " 4   QV2M         float64\n",
            " 5   T2M          float64\n",
            " 6   T2MDEW       float64\n",
            " 7   T2MWET       float64\n",
            " 8   T2M_MAX      float64\n",
            " 9   T2M_MIN      float64\n",
            " 10  T2M_RANGE    float64\n",
            " 11  TS           float64\n",
            " 12  WS10M        float64\n",
            " 13  WS10M_MAX    float64\n",
            " 14  WS10M_MIN    float64\n",
            " 15  WS10M_RANGE  float64\n",
            " 16  WS50M        float64\n",
            " 17  WS50M_MAX    float64\n",
            " 18  WS50M_MIN    float64\n",
            " 19  WS50M_RANGE  float64\n",
            " 20  score        float64\n",
            "dtypes: float64(19), int64(1), object(1)\n",
            "memory usage: 3.0+ GB\n"
          ]
        }
      ],
      "source": [
        "print(\"Datatype of Attributes\\n\")\n",
        "dataSet.info()"
      ]
    },
    {
      "cell_type": "code",
      "execution_count": null,
      "metadata": {
        "id": "MKTQGqsNv98I",
        "outputId": "e94cd92f-bf8a-4923-f59e-3b7f53860a25"
      },
      "outputs": [
        {
          "name": "stdout",
          "output_type": "stream",
          "text": [
            "Data Show Columns:\n",
            "\n"
          ]
        },
        {
          "data": {
            "text/plain": [
              "Index(['fips', 'date', 'PRECTOT', 'PS', 'QV2M', 'T2M', 'T2MDEW', 'T2MWET',\n",
              "       'T2M_MAX', 'T2M_MIN', 'T2M_RANGE', 'TS', 'WS10M', 'WS10M_MAX',\n",
              "       'WS10M_MIN', 'WS10M_RANGE', 'WS50M', 'WS50M_MAX', 'WS50M_MIN',\n",
              "       'WS50M_RANGE', 'score'],\n",
              "      dtype='object')"
            ]
          },
          "execution_count": 11,
          "metadata": {},
          "output_type": "execute_result"
        }
      ],
      "source": [
        "print(\"Data Show Columns:\\n\")\n",
        "dataSet.columns"
      ]
    },
    {
      "cell_type": "code",
      "execution_count": null,
      "metadata": {
        "id": "oz_UiHUDwD6M",
        "outputId": "94d04e1f-5c00-4a2d-b52e-d003dd366b14"
      },
      "outputs": [
        {
          "name": "stdout",
          "output_type": "stream",
          "text": [
            "Data Show Shape\n"
          ]
        },
        {
          "data": {
            "text/plain": [
              "(19300680, 21)"
            ]
          },
          "execution_count": 12,
          "metadata": {},
          "output_type": "execute_result"
        }
      ],
      "source": [
        "print(\"Data Show Shape\")\n",
        "dataSet.shape"
      ]
    },
    {
      "cell_type": "markdown",
      "source": [
        "# Initial Data Exploration and Data Cleaning"
      ],
      "metadata": {
        "id": "RwKenh1ILXJv"
      }
    },
    {
      "cell_type": "markdown",
      "source": [
        "## Handling missing values"
      ],
      "metadata": {
        "id": "wLbU1uLyLg6s"
      }
    },
    {
      "cell_type": "code",
      "execution_count": null,
      "metadata": {
        "id": "jr9sw4YBwLUH",
        "outputId": "49d305d7-a6be-46ff-fa8f-e09157da1bb0"
      },
      "outputs": [
        {
          "name": "stdout",
          "output_type": "stream",
          "text": [
            "Sum of null values\n"
          ]
        },
        {
          "data": {
            "text/plain": [
              "fips                  0\n",
              "date                  0\n",
              "PRECTOT               0\n",
              "PS                    0\n",
              "QV2M                  0\n",
              "T2M                   0\n",
              "T2MDEW                0\n",
              "T2MWET                0\n",
              "T2M_MAX               0\n",
              "T2M_MIN               0\n",
              "T2M_RANGE             0\n",
              "TS                    0\n",
              "WS10M                 0\n",
              "WS10M_MAX             0\n",
              "WS10M_MIN             0\n",
              "WS10M_RANGE           0\n",
              "WS50M                 0\n",
              "WS50M_MAX             0\n",
              "WS50M_MIN             0\n",
              "WS50M_RANGE           0\n",
              "score          16543884\n",
              "dtype: int64"
            ]
          },
          "execution_count": 13,
          "metadata": {},
          "output_type": "execute_result"
        }
      ],
      "source": [
        "print(\"Sum of null values\")\n",
        "dataSet.isnull().sum()"
      ]
    },
    {
      "cell_type": "code",
      "execution_count": null,
      "metadata": {
        "id": "dA0b58cDwSYU",
        "outputId": "1282ea8b-7df8-44b2-e59b-abd753fbf37c"
      },
      "outputs": [
        {
          "name": "stdout",
          "output_type": "stream",
          "text": [
            "Null values in the data\n",
            "\n"
          ]
        },
        {
          "data": {
            "text/plain": [
              "True"
            ]
          },
          "execution_count": 15,
          "metadata": {},
          "output_type": "execute_result"
        }
      ],
      "source": [
        "print(\"Null values in the data\\n\")\n",
        "dataSet.isnull().values.any()"
      ]
    },
    {
      "cell_type": "code",
      "execution_count": null,
      "metadata": {
        "id": "wTFMjtN8woq7",
        "outputId": "9929487a-2d3f-4733-b599-2a480e3faa3a"
      },
      "outputs": [
        {
          "data": {
            "text/plain": [
              "fips           0\n",
              "date           0\n",
              "PRECTOT        0\n",
              "PS             0\n",
              "QV2M           0\n",
              "T2M            0\n",
              "T2MDEW         0\n",
              "T2MWET         0\n",
              "T2M_MAX        0\n",
              "T2M_MIN        0\n",
              "T2M_RANGE      0\n",
              "TS             0\n",
              "WS10M          0\n",
              "WS10M_MAX      0\n",
              "WS10M_MIN      0\n",
              "WS10M_RANGE    0\n",
              "WS50M          0\n",
              "WS50M_MAX      0\n",
              "WS50M_MIN      0\n",
              "WS50M_RANGE    0\n",
              "score          0\n",
              "dtype: int64"
            ]
          },
          "execution_count": 20,
          "metadata": {},
          "output_type": "execute_result"
        }
      ],
      "source": [
        "# Drop missing values in target variable\n",
        "dataSet = dataSet.dropna()\n",
        "dataSet.isnull().sum()"
      ]
    },
    {
      "cell_type": "code",
      "execution_count": null,
      "metadata": {
        "id": "udXpVEtHzLC0",
        "outputId": "814ea5dc-e39c-4e66-f69e-2242a22c67bd"
      },
      "outputs": [
        {
          "data": {
            "image/png": "[encoded data removed]",
            "text/plain": [
              "<Figure size 864x432 with 2 Axes>"
            ]
          },
          "metadata": {
            "needs_background": "light"
          },
          "output_type": "display_data"
        }
      ],
      "source": [
        "plt.figure(figsize=(12,6))\n",
        "sns.heatmap(dataSet.isnull(),cmap='RdPu')\n",
        "plt.show()"
      ]
    },
    {
      "cell_type": "markdown",
      "source": [
        "## Reformatting the data"
      ],
      "metadata": {
        "id": "3kR844g8LxAq"
      }
    },
    {
      "cell_type": "code",
      "execution_count": null,
      "metadata": {
        "id": "Ba0H3s48LMcO",
        "outputId": "b3c5ee82-8734-4fbf-89e8-50c685f897fd"
      },
      "outputs": [
        {
          "data": {
            "text/plain": [
              "['fips',\n",
              " 'date',\n",
              " 'PRECTOT',\n",
              " 'PS',\n",
              " 'QV2M',\n",
              " 'T2M',\n",
              " 'T2MDEW',\n",
              " 'T2MWET',\n",
              " 'T2M_MAX',\n",
              " 'T2M_MIN',\n",
              " 'T2M_RANGE',\n",
              " 'TS',\n",
              " 'WS10M',\n",
              " 'WS10M_MAX',\n",
              " 'WS10M_MIN',\n",
              " 'WS10M_RANGE',\n",
              " 'WS50M',\n",
              " 'WS50M_MAX',\n",
              " 'WS50M_MIN',\n",
              " 'WS50M_RANGE',\n",
              " 'score']"
            ]
          },
          "execution_count": 26,
          "metadata": {},
          "output_type": "execute_result"
        }
      ],
      "source": [
        "column_list = list(dataSet.columns)\n",
        "column_list"
      ]
    },
    {
      "cell_type": "code",
      "execution_count": null,
      "metadata": {
        "id": "QuXyydvwLMcO",
        "outputId": "2b749d2a-23b5-4cea-9474-c1cadde196bc"
      },
      "outputs": [
        {
          "data": {
            "text/plain": [
              "fips            3108\n",
              "date             887\n",
              "PRECTOT         6737\n",
              "PS              3636\n",
              "QV2M            2165\n",
              "T2M             6606\n",
              "T2MDEW          5582\n",
              "T2MWET          5530\n",
              "T2M_MAX         6905\n",
              "T2M_MIN         6557\n",
              "T2M_RANGE       2787\n",
              "TS              6928\n",
              "WS10M           1513\n",
              "WS10M_MAX       1877\n",
              "WS10M_MIN       1276\n",
              "WS10M_RANGE     1592\n",
              "WS50M           1854\n",
              "WS50M_MAX       2286\n",
              "WS50M_MIN       1572\n",
              "WS50M_RANGE     1935\n",
              "score          55395\n",
              "dtype: int64"
            ]
          },
          "execution_count": 28,
          "metadata": {},
          "output_type": "execute_result"
        }
      ],
      "source": [
        "# Number of unique values in each of the columns.\n",
        "dataSet.nunique()"
      ]
    },
    {
      "cell_type": "code",
      "execution_count": null,
      "metadata": {
        "id": "pX4l5CH3LMcP",
        "outputId": "2602f93e-ef31-41cb-9949-32fa755f0e8a"
      },
      "outputs": [
        {
          "data": {
            "text/plain": [
              "3     2000-01-04\n",
              "10    2000-01-11\n",
              "17    2000-01-18\n",
              "24    2000-01-25\n",
              "31    2000-02-01\n",
              "Name: date, dtype: object"
            ]
          },
          "execution_count": 31,
          "metadata": {},
          "output_type": "execute_result"
        }
      ],
      "source": [
        "date = dataSet['date']\n",
        "date.head()"
      ]
    },
    {
      "cell_type": "code",
      "execution_count": null,
      "metadata": {
        "id": "B0XAXyeVLMcP",
        "outputId": "86be8546-d26d-43ce-953d-ea5a8e431b8e"
      },
      "outputs": [
        {
          "data": {
            "text/plain": [
              "fips             int64\n",
              "date            object\n",
              "PRECTOT        float64\n",
              "PS             float64\n",
              "QV2M           float64\n",
              "T2M            float64\n",
              "T2MDEW         float64\n",
              "T2MWET         float64\n",
              "T2M_MAX        float64\n",
              "T2M_MIN        float64\n",
              "T2M_RANGE      float64\n",
              "TS             float64\n",
              "WS10M          float64\n",
              "WS10M_MAX      float64\n",
              "WS10M_MIN      float64\n",
              "WS10M_RANGE    float64\n",
              "WS50M          float64\n",
              "WS50M_MAX      float64\n",
              "WS50M_MIN      float64\n",
              "WS50M_RANGE    float64\n",
              "score          float64\n",
              "year             int64\n",
              "month            int64\n",
              "day              int64\n",
              "dtype: object"
            ]
          },
          "execution_count": 30,
          "metadata": {},
          "output_type": "execute_result"
        }
      ],
      "source": [
        "# Extract year, day and month into new columns\n",
        "dataSet['year'] = pd.DatetimeIndex(date).year\n",
        "dataSet['month'] = pd.DatetimeIndex(date).month\n",
        "dataSet['day'] = pd.DatetimeIndex(date).day\n",
        "dataSet.dtypes"
      ]
    },
    {
      "cell_type": "code",
      "execution_count": null,
      "metadata": {
        "id": "0--QIZWHLMcQ",
        "outputId": "9fe8fb13-46e2-4f5a-a046-5f8c6a3cd0ea"
      },
      "outputs": [
        {
          "data": {
            "text/plain": [
              "0.0000    1480827\n",
              "1.0000     219135\n",
              "2.0000     123789\n",
              "3.0000      82801\n",
              "4.0000      45841\n",
              "           ...   \n",
              "0.1145          1\n",
              "2.0172          1\n",
              "0.6750          1\n",
              "1.3998          1\n",
              "0.6060          1\n",
              "Name: score, Length: 55395, dtype: int64"
            ]
          },
          "execution_count": 33,
          "metadata": {},
          "output_type": "execute_result"
        }
      ],
      "source": [
        "dataSet['score'].value_counts()"
      ]
    },
    {
      "cell_type": "code",
      "execution_count": null,
      "metadata": {
        "id": "pRfU_mHmLMcQ"
      },
      "outputs": [],
      "source": [
        "# Binning target variable into 6classes\n",
        "dataSet['score'] = dataSet['score'].round().astype(int)"
      ]
    },
    {
      "cell_type": "code",
      "execution_count": null,
      "metadata": {
        "id": "xntTHncvLMcR",
        "outputId": "7a519f81-106c-48cd-e584-00e3cd9f4d09"
      },
      "outputs": [
        {
          "data": {
            "text/plain": [
              "0    1652230\n",
              "1     466944\n",
              "2     295331\n",
              "3     196802\n",
              "4     106265\n",
              "5      39224\n",
              "Name: score, dtype: int64"
            ]
          },
          "execution_count": 37,
          "metadata": {},
          "output_type": "execute_result"
        }
      ],
      "source": [
        "dataSet['score'].value_counts()"
      ]
    },
    {
      "cell_type": "code",
      "execution_count": null,
      "metadata": {
        "id": "BG7bPw2LLMcR",
        "outputId": "e465bc93-06ef-4869-e86e-f59ca3583924"
      },
      "outputs": [
        {
          "data": {
            "text/html": [
              "<div>\n",
              "<style scoped>\n",
              "    .dataframe tbody tr th:only-of-type {\n",
              "        vertical-align: middle;\n",
              "    }\n",
              "\n",
              "    .dataframe tbody tr th {\n",
              "        vertical-align: top;\n",
              "    }\n",
              "\n",
              "    .dataframe thead th {\n",
              "        text-align: right;\n",
              "    }\n",
              "</style>\n",
              "<table border=\"1\" class=\"dataframe\">\n",
              "  <thead>\n",
              "    <tr style=\"text-align: right;\">\n",
              "      <th></th>\n",
              "      <th>date</th>\n",
              "    </tr>\n",
              "  </thead>\n",
              "  <tbody>\n",
              "    <tr>\n",
              "      <th>count</th>\n",
              "      <td>2756796</td>\n",
              "    </tr>\n",
              "    <tr>\n",
              "      <th>unique</th>\n",
              "      <td>887</td>\n",
              "    </tr>\n",
              "    <tr>\n",
              "      <th>top</th>\n",
              "      <td>2000-01-04</td>\n",
              "    </tr>\n",
              "    <tr>\n",
              "      <th>freq</th>\n",
              "      <td>3108</td>\n",
              "    </tr>\n",
              "  </tbody>\n",
              "</table>\n",
              "</div>"
            ],
            "text/plain": [
              "              date\n",
              "count      2756796\n",
              "unique         887\n",
              "top     2000-01-04\n",
              "freq          3108"
            ]
          },
          "execution_count": 39,
          "metadata": {},
          "output_type": "execute_result"
        }
      ],
      "source": [
        "dataSet.describe(include=['object'])"
      ]
    },
    {
      "cell_type": "code",
      "execution_count": null,
      "metadata": {
        "id": "72o_6qPELMcR",
        "outputId": "b3c135c8-cdaa-4736-f593-788b926b49ac"
      },
      "outputs": [
        {
          "name": "stdout",
          "output_type": "stream",
          "text": [
            "Unique values in  fips are  [ 1001  1003  1005 ... 56039 56041 56043]\n",
            "Unique values in  date are  ['2000-01-04' '2000-01-11' '2000-01-18' '2000-01-25' '2000-02-01'\n",
            " '2000-02-08' '2000-02-15' '2000-02-22' '2000-02-29' '2000-03-07'\n",
            " '2000-03-14' '2000-03-21' '2000-03-28' '2000-04-04' '2000-04-11'\n",
            " '2000-04-18' '2000-04-25' '2000-05-02' '2000-05-09' '2000-05-16'\n",
            " '2000-05-23' '2000-05-30' '2000-06-06' '2000-06-13' '2000-06-20'\n",
            " '2000-06-27' '2000-07-04' '2000-07-11' '2000-07-18' '2000-07-25'\n",
            " '2000-08-01' '2000-08-08' '2000-08-15' '2000-08-22' '2000-08-29'\n",
            " '2000-09-05' '2000-09-12' '2000-09-19' '2000-09-26' '2000-10-03'\n",
            " '2000-10-10' '2000-10-17' '2000-10-24' '2000-10-31' '2000-11-07'\n",
            " '2000-11-14' '2000-11-21' '2000-11-28' '2000-12-05' '2000-12-12'\n",
            " '2000-12-19' '2000-12-26' '2001-01-02' '2001-01-09' '2001-01-16'\n",
            " '2001-01-23' '2001-01-30' '2001-02-06' '2001-02-13' '2001-02-20'\n",
            " '2001-02-27' '2001-03-06' '2001-03-13' '2001-03-20' '2001-03-27'\n",
            " '2001-04-03' '2001-04-10' '2001-04-17' '2001-04-24' '2001-05-01'\n",
            " '2001-05-08' '2001-05-15' '2001-05-22' '2001-05-29' '2001-06-05'\n",
            " '2001-06-12' '2001-06-19' '2001-06-26' '2001-07-03' '2001-07-10'\n",
            " '2001-07-17' '2001-07-24' '2001-07-31' '2001-08-07' '2001-08-14'\n",
            " '2001-08-21' '2001-08-28' '2001-09-04' '2001-09-11' '2001-09-18'\n",
            " '2001-09-25' '2001-10-02' '2001-10-09' '2001-10-16' '2001-10-23'\n",
            " '2001-10-30' '2001-11-06' '2001-11-13' '2001-11-20' '2001-11-27'\n",
            " '2001-12-04' '2001-12-11' '2001-12-18' '2001-12-25' '2002-01-01'\n",
            " '2002-01-08' '2002-01-15' '2002-01-22' '2002-01-29' '2002-02-05'\n",
            " '2002-02-12' '2002-02-19' '2002-02-26' '2002-03-05' '2002-03-12'\n",
            " '2002-03-19' '2002-03-26' '2002-04-02' '2002-04-09' '2002-04-16'\n",
            " '2002-04-23' '2002-04-30' '2002-05-07' '2002-05-14' '2002-05-21'\n",
            " '2002-05-28' '2002-06-04' '2002-06-11' '2002-06-18' '2002-06-25'\n",
            " '2002-07-02' '2002-07-09' '2002-07-16' '2002-07-23' '2002-07-30'\n",
            " '2002-08-06' '2002-08-13' '2002-08-20' '2002-08-27' '2002-09-03'\n",
            " '2002-09-10' '2002-09-17' '2002-09-24' '2002-10-01' '2002-10-08'\n",
            " '2002-10-15' '2002-10-22' '2002-10-29' '2002-11-05' '2002-11-12'\n",
            " '2002-11-19' '2002-11-26' '2002-12-03' '2002-12-10' '2002-12-17'\n",
            " '2002-12-24' '2002-12-31' '2003-01-07' '2003-01-14' '2003-01-21'\n",
            " '2003-01-28' '2003-02-04' '2003-02-11' '2003-02-18' '2003-02-25'\n",
            " '2003-03-04' '2003-03-11' '2003-03-18' '2003-03-25' '2003-04-01'\n",
            " '2003-04-08' '2003-04-15' '2003-04-22' '2003-04-29' '2003-05-06'\n",
            " '2003-05-13' '2003-05-20' '2003-05-27' '2003-06-03' '2003-06-10'\n",
            " '2003-06-17' '2003-06-24' '2003-07-01' '2003-07-08' '2003-07-15'\n",
            " '2003-07-22' '2003-07-29' '2003-08-05' '2003-08-12' '2003-08-19'\n",
            " '2003-08-26' '2003-09-02' '2003-09-09' '2003-09-16' '2003-09-23'\n",
            " '2003-09-30' '2003-10-07' '2003-10-14' '2003-10-21' '2003-10-28'\n",
            " '2003-11-04' '2003-11-11' '2003-11-18' '2003-11-25' '2003-12-02'\n",
            " '2003-12-09' '2003-12-16' '2003-12-23' '2003-12-30' '2004-01-06'\n",
            " '2004-01-13' '2004-01-20' '2004-01-27' '2004-02-03' '2004-02-10'\n",
            " '2004-02-17' '2004-02-24' '2004-03-02' '2004-03-09' '2004-03-16'\n",
            " '2004-03-23' '2004-03-30' '2004-04-06' '2004-04-13' '2004-04-20'\n",
            " '2004-04-27' '2004-05-04' '2004-05-11' '2004-05-18' '2004-05-25'\n",
            " '2004-06-01' '2004-06-08' '2004-06-15' '2004-06-22' '2004-06-29'\n",
            " '2004-07-06' '2004-07-13' '2004-07-20' '2004-07-27' '2004-08-03'\n",
            " '2004-08-10' '2004-08-17' '2004-08-24' '2004-08-31' '2004-09-07'\n",
            " '2004-09-14' '2004-09-21' '2004-09-28' '2004-10-05' '2004-10-12'\n",
            " '2004-10-19' '2004-10-26' '2004-11-02' '2004-11-09' '2004-11-16'\n",
            " '2004-11-23' '2004-11-30' '2004-12-07' '2004-12-14' '2004-12-21'\n",
            " '2004-12-28' '2005-01-04' '2005-01-11' '2005-01-18' '2005-01-25'\n",
            " '2005-02-01' '2005-02-08' '2005-02-15' '2005-02-22' '2005-03-01'\n",
            " '2005-03-08' '2005-03-15' '2005-03-22' '2005-03-29' '2005-04-05'\n",
            " '2005-04-12' '2005-04-19' '2005-04-26' '2005-05-03' '2005-05-10'\n",
            " '2005-05-17' '2005-05-24' '2005-05-31' '2005-06-07' '2005-06-14'\n",
            " '2005-06-21' '2005-06-28' '2005-07-05' '2005-07-12' '2005-07-19'\n",
            " '2005-07-26' '2005-08-02' '2005-08-09' '2005-08-16' '2005-08-23'\n",
            " '2005-08-30' '2005-09-06' '2005-09-13' '2005-09-20' '2005-09-27'\n",
            " '2005-10-04' '2005-10-11' '2005-10-18' '2005-10-25' '2005-11-01'\n",
            " '2005-11-08' '2005-11-15' '2005-11-22' '2005-11-29' '2005-12-06'\n",
            " '2005-12-13' '2005-12-20' '2005-12-27' '2006-01-03' '2006-01-10'\n",
            " '2006-01-17' '2006-01-24' '2006-01-31' '2006-02-07' '2006-02-14'\n",
            " '2006-02-21' '2006-02-28' '2006-03-07' '2006-03-14' '2006-03-21'\n",
            " '2006-03-28' '2006-04-04' '2006-04-11' '2006-04-18' '2006-04-25'\n",
            " '2006-05-02' '2006-05-09' '2006-05-16' '2006-05-23' '2006-05-30'\n",
            " '2006-06-06' '2006-06-13' '2006-06-20' '2006-06-27' '2006-07-04'\n",
            " '2006-07-11' '2006-07-18' '2006-07-25' '2006-08-01' '2006-08-08'\n",
            " '2006-08-15' '2006-08-22' '2006-08-29' '2006-09-05' '2006-09-12'\n",
            " '2006-09-19' '2006-09-26' '2006-10-03' '2006-10-10' '2006-10-17'\n",
            " '2006-10-24' '2006-10-31' '2006-11-07' '2006-11-14' '2006-11-21'\n",
            " '2006-11-28' '2006-12-05' '2006-12-12' '2006-12-19' '2006-12-26'\n",
            " '2007-01-02' '2007-01-09' '2007-01-16' '2007-01-23' '2007-01-30'\n",
            " '2007-02-06' '2007-02-13' '2007-02-20' '2007-02-27' '2007-03-06'\n",
            " '2007-03-13' '2007-03-20' '2007-03-27' '2007-04-03' '2007-04-10'\n",
            " '2007-04-17' '2007-04-24' '2007-05-01' '2007-05-08' '2007-05-15'\n",
            " '2007-05-22' '2007-05-29' '2007-06-05' '2007-06-12' '2007-06-19'\n",
            " '2007-06-26' '2007-07-03' '2007-07-10' '2007-07-17' '2007-07-24'\n",
            " '2007-07-31' '2007-08-07' '2007-08-14' '2007-08-21' '2007-08-28'\n",
            " '2007-09-04' '2007-09-11' '2007-09-18' '2007-09-25' '2007-10-02'\n",
            " '2007-10-09' '2007-10-16' '2007-10-23' '2007-10-30' '2007-11-06'\n",
            " '2007-11-13' '2007-11-20' '2007-11-27' '2007-12-04' '2007-12-11'\n",
            " '2007-12-18' '2007-12-25' '2008-01-01' '2008-01-08' '2008-01-15'\n",
            " '2008-01-22' '2008-01-29' '2008-02-05' '2008-02-12' '2008-02-19'\n",
            " '2008-02-26' '2008-03-04' '2008-03-11' '2008-03-18' '2008-03-25'\n",
            " '2008-04-01' '2008-04-08' '2008-04-15' '2008-04-22' '2008-04-29'\n",
            " '2008-05-06' '2008-05-13' '2008-05-20' '2008-05-27' '2008-06-03'\n",
            " '2008-06-10' '2008-06-17' '2008-06-24' '2008-07-01' '2008-07-08'\n",
            " '2008-07-15' '2008-07-22' '2008-07-29' '2008-08-05' '2008-08-12'\n",
            " '2008-08-19' '2008-08-26' '2008-09-02' '2008-09-09' '2008-09-16'\n",
            " '2008-09-23' '2008-09-30' '2008-10-07' '2008-10-14' '2008-10-21'\n",
            " '2008-10-28' '2008-11-04' '2008-11-11' '2008-11-18' '2008-11-25'\n",
            " '2008-12-02' '2008-12-09' '2008-12-16' '2008-12-23' '2008-12-30'\n",
            " '2009-01-06' '2009-01-13' '2009-01-20' '2009-01-27' '2009-02-03'\n",
            " '2009-02-10' '2009-02-17' '2009-02-24' '2009-03-03' '2009-03-10'\n",
            " '2009-03-17' '2009-03-24' '2009-03-31' '2009-04-07' '2009-04-14'\n",
            " '2009-04-21' '2009-04-28' '2009-05-05' '2009-05-12' '2009-05-19'\n",
            " '2009-05-26' '2009-06-02' '2009-06-09' '2009-06-16' '2009-06-23'\n",
            " '2009-06-30' '2009-07-07' '2009-07-14' '2009-07-21' '2009-07-28'\n",
            " '2009-08-04' '2009-08-11' '2009-08-18' '2009-08-25' '2009-09-01'\n",
            " '2009-09-08' '2009-09-15' '2009-09-22' '2009-09-29' '2009-10-06'\n",
            " '2009-10-13' '2009-10-20' '2009-10-27' '2009-11-03' '2009-11-10'\n",
            " '2009-11-17' '2009-11-24' '2009-12-01' '2009-12-08' '2009-12-15'\n",
            " '2009-12-22' '2009-12-29' '2010-01-05' '2010-01-12' '2010-01-19'\n",
            " '2010-01-26' '2010-02-02' '2010-02-09' '2010-02-16' '2010-02-23'\n",
            " '2010-03-02' '2010-03-09' '2010-03-16' '2010-03-23' '2010-03-30'\n",
            " '2010-04-06' '2010-04-13' '2010-04-20' '2010-04-27' '2010-05-04'\n",
            " '2010-05-11' '2010-05-18' '2010-05-25' '2010-06-01' '2010-06-08'\n",
            " '2010-06-15' '2010-06-22' '2010-06-29' '2010-07-06' '2010-07-13'\n",
            " '2010-07-20' '2010-07-27' '2010-08-03' '2010-08-10' '2010-08-17'\n",
            " '2010-08-24' '2010-08-31' '2010-09-07' '2010-09-14' '2010-09-21'\n",
            " '2010-09-28' '2010-10-05' '2010-10-12' '2010-10-19' '2010-10-26'\n",
            " '2010-11-02' '2010-11-09' '2010-11-16' '2010-11-23' '2010-11-30'\n",
            " '2010-12-07' '2010-12-14' '2010-12-21' '2010-12-28' '2011-01-04'\n",
            " '2011-01-11' '2011-01-18' '2011-01-25' '2011-02-01' '2011-02-08'\n",
            " '2011-02-15' '2011-02-22' '2011-03-01' '2011-03-08' '2011-03-15'\n",
            " '2011-03-22' '2011-03-29' '2011-04-05' '2011-04-12' '2011-04-19'\n",
            " '2011-04-26' '2011-05-03' '2011-05-10' '2011-05-17' '2011-05-24'\n",
            " '2011-05-31' '2011-06-07' '2011-06-14' '2011-06-21' '2011-06-28'\n",
            " '2011-07-05' '2011-07-12' '2011-07-19' '2011-07-26' '2011-08-02'\n",
            " '2011-08-09' '2011-08-16' '2011-08-23' '2011-08-30' '2011-09-06'\n",
            " '2011-09-13' '2011-09-20' '2011-09-27' '2011-10-04' '2011-10-11'\n",
            " '2011-10-18' '2011-10-25' '2011-11-01' '2011-11-08' '2011-11-15'\n",
            " '2011-11-22' '2011-11-29' '2011-12-06' '2011-12-13' '2011-12-20'\n",
            " '2011-12-27' '2012-01-03' '2012-01-10' '2012-01-17' '2012-01-24'\n",
            " '2012-01-31' '2012-02-07' '2012-02-14' '2012-02-21' '2012-02-28'\n",
            " '2012-03-06' '2012-03-13' '2012-03-20' '2012-03-27' '2012-04-03'\n",
            " '2012-04-10' '2012-04-17' '2012-04-24' '2012-05-01' '2012-05-08'\n",
            " '2012-05-15' '2012-05-22' '2012-05-29' '2012-06-05' '2012-06-12'\n",
            " '2012-06-19' '2012-06-26' '2012-07-03' '2012-07-10' '2012-07-17'\n",
            " '2012-07-24' '2012-07-31' '2012-08-07' '2012-08-14' '2012-08-21'\n",
            " '2012-08-28' '2012-09-04' '2012-09-11' '2012-09-18' '2012-09-25'\n",
            " '2012-10-02' '2012-10-09' '2012-10-16' '2012-10-23' '2012-10-30'\n",
            " '2012-11-06' '2012-11-13' '2012-11-20' '2012-11-27' '2012-12-04'\n",
            " '2012-12-11' '2012-12-18' '2012-12-25' '2013-01-01' '2013-01-08'\n",
            " '2013-01-15' '2013-01-22' '2013-01-29' '2013-02-05' '2013-02-12'\n",
            " '2013-02-19' '2013-02-26' '2013-03-05' '2013-03-12' '2013-03-19'\n",
            " '2013-03-26' '2013-04-02' '2013-04-09' '2013-04-16' '2013-04-23'\n",
            " '2013-04-30' '2013-05-07' '2013-05-14' '2013-05-21' '2013-05-28'\n",
            " '2013-06-04' '2013-06-11' '2013-06-18' '2013-06-25' '2013-07-02'\n",
            " '2013-07-09' '2013-07-16' '2013-07-23' '2013-07-30' '2013-08-06'\n",
            " '2013-08-13' '2013-08-20' '2013-08-27' '2013-09-03' '2013-09-10'\n",
            " '2013-09-17' '2013-09-24' '2013-10-01' '2013-10-08' '2013-10-15'\n",
            " '2013-10-22' '2013-10-29' '2013-11-05' '2013-11-12' '2013-11-19'\n",
            " '2013-11-26' '2013-12-03' '2013-12-10' '2013-12-17' '2013-12-24'\n",
            " '2013-12-31' '2014-01-07' '2014-01-14' '2014-01-21' '2014-01-28'\n",
            " '2014-02-04' '2014-02-11' '2014-02-18' '2014-02-25' '2014-03-04'\n",
            " '2014-03-11' '2014-03-18' '2014-03-25' '2014-04-01' '2014-04-08'\n",
            " '2014-04-15' '2014-04-22' '2014-04-29' '2014-05-06' '2014-05-13'\n",
            " '2014-05-20' '2014-05-27' '2014-06-03' '2014-06-10' '2014-06-17'\n",
            " '2014-06-24' '2014-07-01' '2014-07-08' '2014-07-15' '2014-07-22'\n",
            " '2014-07-29' '2014-08-05' '2014-08-12' '2014-08-19' '2014-08-26'\n",
            " '2014-09-02' '2014-09-09' '2014-09-16' '2014-09-23' '2014-09-30'\n",
            " '2014-10-07' '2014-10-14' '2014-10-21' '2014-10-28' '2014-11-04'\n",
            " '2014-11-11' '2014-11-18' '2014-11-25' '2014-12-02' '2014-12-09'\n",
            " '2014-12-16' '2014-12-23' '2014-12-30' '2015-01-06' '2015-01-13'\n",
            " '2015-01-20' '2015-01-27' '2015-02-03' '2015-02-10' '2015-02-17'\n",
            " '2015-02-24' '2015-03-03' '2015-03-10' '2015-03-17' '2015-03-24'\n",
            " '2015-03-31' '2015-04-07' '2015-04-14' '2015-04-21' '2015-04-28'\n",
            " '2015-05-05' '2015-05-12' '2015-05-19' '2015-05-26' '2015-06-02'\n",
            " '2015-06-09' '2015-06-16' '2015-06-23' '2015-06-30' '2015-07-07'\n",
            " '2015-07-14' '2015-07-21' '2015-07-28' '2015-08-04' '2015-08-11'\n",
            " '2015-08-18' '2015-08-25' '2015-09-01' '2015-09-08' '2015-09-15'\n",
            " '2015-09-22' '2015-09-29' '2015-10-06' '2015-10-13' '2015-10-20'\n",
            " '2015-10-27' '2015-11-03' '2015-11-10' '2015-11-17' '2015-11-24'\n",
            " '2015-12-01' '2015-12-08' '2015-12-15' '2015-12-22' '2015-12-29'\n",
            " '2016-01-05' '2016-01-12' '2016-01-19' '2016-01-26' '2016-02-02'\n",
            " '2016-02-09' '2016-02-16' '2016-02-23' '2016-03-01' '2016-03-08'\n",
            " '2016-03-15' '2016-03-22' '2016-03-29' '2016-04-05' '2016-04-12'\n",
            " '2016-04-19' '2016-04-26' '2016-05-03' '2016-05-10' '2016-05-17'\n",
            " '2016-05-24' '2016-05-31' '2016-06-07' '2016-06-14' '2016-06-21'\n",
            " '2016-06-28' '2016-07-05' '2016-07-12' '2016-07-19' '2016-07-26'\n",
            " '2016-08-02' '2016-08-09' '2016-08-16' '2016-08-23' '2016-08-30'\n",
            " '2016-09-06' '2016-09-13' '2016-09-20' '2016-09-27' '2016-10-04'\n",
            " '2016-10-11' '2016-10-18' '2016-10-25' '2016-11-01' '2016-11-08'\n",
            " '2016-11-15' '2016-11-22' '2016-11-29' '2016-12-06' '2016-12-13'\n",
            " '2016-12-20' '2016-12-27']\n",
            "Unique values in  PRECTOT are  [15.95  1.33  1.11 ... 48.91 79.15 59.08]\n",
            "Unique values in  PS are  [100.29 100.4  100.39 ... 103.65 103.75 103.76]\n"
          ]
        },
        {
          "name": "stdout",
          "output_type": "stream",
          "text": [
            "Unique values in  QV2M are  [ 6.42  6.63  9.53 ... 21.54 21.64 21.44]\n",
            "Unique values in  T2M are  [ 11.4   11.48  14.28 ... -29.26 -28.93 -26.79]\n",
            "Unique values in  T2MDEW are  [  6.09   7.84  13.26 ... -29.93 -30.28 -29.54]\n",
            "Unique values in  T2MWET are  [  6.1    7.84  13.26 ... -29.91 -29.41 -27.54]\n",
            "Unique values in  T2M_MAX are  [ 18.09  18.88  18.04 ... -20.12 -24.42 -19.53]\n",
            "Unique values in  T2M_MIN are  [  2.16   5.72   8.98 ... -34.78 -35.15 -35.38]\n",
            "Unique values in  T2M_RANGE are  [15.92 13.16  9.06 ... 25.4  28.57 28.55]\n",
            "Unique values in  TS are  [ 11.31  10.43  14.19 ... -26.42 -30.38 -28.05]\n",
            "Unique values in  WS10M are  [ 3.84  1.76  2.63 ... 13.75 16.06 14.72]\n",
            "Unique values in  WS10M_MAX are  [ 5.67  2.48  3.6  ... 19.18 19.94 18.13]\n",
            "Unique values in  WS10M_MIN are  [ 2.08  1.05  1.67 ... 11.64 12.41 12.53]\n",
            "Unique values in  WS10M_RANGE are  [ 3.59  1.43  1.92 ... 17.21 17.09 16.89]\n",
            "Unique values in  WS50M are  [ 6.73  3.55  5.19 ... 19.05 18.39 17.95]\n",
            "Unique values in  WS50M_MAX are  [ 9.31  6.38  6.4  ...  1.1   1.17 21.98]\n",
            "Unique values in  WS50M_MIN are  [ 3.74  1.71  3.84 ... 16.58 14.83 15.86]\n",
            "Unique values in  WS50M_RANGE are  [ 5.58  4.67  2.55 ... 20.41 19.34 19.85]\n",
            "Unique values in  score are  [1 2 3 4 5 0]\n"
          ]
        }
      ],
      "source": [
        "# Removing special characters from continuous features\n",
        "for c in ['fips', 'date', 'PRECTOT', 'PS', 'QV2M', 'T2M', 'T2MDEW', 'T2MWET',\n",
        "       'T2M_MAX', 'T2M_MIN', 'T2M_RANGE', 'TS', 'WS10M', 'WS10M_MAX',\n",
        "       'WS10M_MIN', 'WS10M_RANGE', 'WS50M', 'WS50M_MAX', 'WS50M_MIN',\n",
        "       'WS50M_RANGE', 'score']:\n",
        "    unique_val_cols = dataSet[c].unique()\n",
        "    print ('Unique values in ' , c , 'are ', unique_val_cols)"
      ]
    },
    {
      "cell_type": "code",
      "execution_count": null,
      "metadata": {
        "id": "TUVmVVzBLMcR"
      },
      "outputs": [],
      "source": [
        "for c in ['fips', 'date', 'PRECTOT', 'PS', 'QV2M', 'T2M', 'T2MDEW', 'T2MWET',\n",
        "       'T2M_MAX', 'T2M_MIN', 'T2M_RANGE', 'TS', 'WS10M', 'WS10M_MAX',\n",
        "       'WS10M_MIN', 'WS10M_RANGE', 'WS50M', 'WS50M_MAX', 'WS50M_MIN',\n",
        "       'WS50M_RANGE', 'score']:\n",
        "    dataSet[c] = pd.to_numeric(dataSet[c], errors='coerce')"
      ]
    },
    {
      "cell_type": "code",
      "execution_count": null,
      "metadata": {
        "id": "lp__Gzv-LMcS",
        "outputId": "ea024b8a-af70-4c59-bb61-5579b769c421"
      },
      "outputs": [
        {
          "name": "stdout",
          "output_type": "stream",
          "text": [
            "<class 'pandas.core.frame.DataFrame'>\n",
            "Int64Index: 2756796 entries, 3 to 19300675\n",
            "Data columns (total 24 columns):\n",
            " #   Column       Dtype  \n",
            "---  ------       -----  \n",
            " 0   fips         int64  \n",
            " 1   date         float64\n",
            " 2   PRECTOT      float64\n",
            " 3   PS           float64\n",
            " 4   QV2M         float64\n",
            " 5   T2M          float64\n",
            " 6   T2MDEW       float64\n",
            " 7   T2MWET       float64\n",
            " 8   T2M_MAX      float64\n",
            " 9   T2M_MIN      float64\n",
            " 10  T2M_RANGE    float64\n",
            " 11  TS           float64\n",
            " 12  WS10M        float64\n",
            " 13  WS10M_MAX    float64\n",
            " 14  WS10M_MIN    float64\n",
            " 15  WS10M_RANGE  float64\n",
            " 16  WS50M        float64\n",
            " 17  WS50M_MAX    float64\n",
            " 18  WS50M_MIN    float64\n",
            " 19  WS50M_RANGE  float64\n",
            " 20  score        int32  \n",
            " 21  year         int64  \n",
            " 22  month        int64  \n",
            " 23  day          int64  \n",
            "dtypes: float64(19), int32(1), int64(4)\n",
            "memory usage: 515.3 MB\n"
          ]
        }
      ],
      "source": [
        "dataSet.info()"
      ]
    },
    {
      "cell_type": "code",
      "execution_count": null,
      "metadata": {
        "id": "UfQZJ6aoLMcS",
        "outputId": "2a5108d3-e82d-4c49-8032-014d2db80ba2"
      },
      "outputs": [
        {
          "data": {
            "image/png": "[encoded data removed]",
            "text/plain": [
              "<Figure size 1080x936 with 25 Axes>"
            ]
          },
          "metadata": {},
          "output_type": "display_data"
        }
      ],
      "source": [
        "sns.set(style=\"darkgrid\")\n",
        "dataSet.hist(bins=10,figsize=(15,13) ,color = 'navy', alpha = 0.5)\n",
        "plt.show()"
      ]
    },
    {
      "cell_type": "markdown",
      "metadata": {
        "id": "r7q7-aB9LMcT"
      },
      "source": [
        "## The Drought dataset is a labelled dataset. Distribution of scores is analyzed to identify if data is biased or not.\n",
        "## It can be seen that the features PRICTOT ,WS10M-MIN,WS50M-MIN,WS10M-RANGE are skewed to the left.\n",
        "## The features PS,T2M,T2M-MAX are skewed to the right while remaining features are fairly well distributed across all range."
      ]
    }
  ]
}
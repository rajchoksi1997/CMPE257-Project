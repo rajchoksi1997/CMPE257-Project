{
  "cells": [
    {
      "cell_type": "markdown",
      "metadata": {
        "id": "view-in-github",
        "colab_type": "text"
      },
      "source": [
        "<a href=\"https://colab.research.google.com/github/rajchoksi1997/CMPE257-Project/blob/main/Main_Project.ipynb\" target=\"_parent\"><img src=\"https://colab.research.google.com/assets/colab-badge.svg\" alt=\"Open In Colab\"/></a>"
      ]
    },
    {
      "cell_type": "code",
      "execution_count": null,
      "metadata": {
        "id": "vcAKN7QCGtYk"
      },
      "outputs": [],
      "source": [
        "import pandas as pd\n",
        "import numpy as np\n",
        "import matplotlib.pyplot as plt\n",
        "import seaborn as sns\n",
        "from scipy.stats import skew\n",
        "%matplotlib inline\n",
        "from sklearn.model_selection import train_test_split\n",
        "from sklearn.preprocessing import StandardScaler\n",
        "from sklearn.ensemble import RandomForestClassifier\n",
        "from sklearn.feature_selection import RFE\n",
        "from imblearn.over_sampling import SMOTE\n",
        "from imblearn.under_sampling import NeighbourhoodCleaningRule\n",
        "from imblearn.under_sampling import NearMiss\n",
        "from sklearn.discriminant_analysis import LinearDiscriminantAnalysis as LDA\n",
        "from sklearn.decomposition import PCA, KernelPCA\n",
        "from sklearn.tree import DecisionTreeClassifier\n",
        "from sklearn import tree\n",
        "from sklearn.metrics import confusion_matrix, ConfusionMatrixDisplay, classification_report\n",
        "from sklearn.metrics import accuracy_score\n",
        "from sklearn.metrics import precision_score\n",
        "from sklearn.metrics import recall_score\n",
        "from sklearn.metrics import f1_score\n",
        "from sklearn.metrics import roc_auc_score\n",
        "from sklearn.metrics import cohen_kappa_score\n",
        "from sklearn import metrics\n",
        "from sklearn.model_selection import GridSearchCV\n",
        "from sklearn.metrics import roc_curve, auc\n",
        "from sklearn.metrics import roc_auc_score\n",
        "import pickle"
      ]
    },
    {
      "cell_type": "markdown",
      "metadata": {
        "id": "pMOKNKd1Gs3o"
      },
      "source": [
        "## Reading the data"
      ]
    },
    {
      "cell_type": "code",
      "execution_count": null,
      "metadata": {
        "colab": {
          "base_uri": "https://localhost:8080/"
        },
        "id": "RWnZPYrAsQ9F",
        "outputId": "d5388a1d-ffbd-48e7-ae6b-4730d1679365"
      },
      "outputs": [
        {
          "output_type": "stream",
          "name": "stdout",
          "text": [
            "Drive already mounted at /content/drive; to attempt to forcibly remount, call drive.mount(\"/content/drive\", force_remount=True).\n"
          ]
        }
      ],
      "source": [
        "from google.colab import drive\n",
        "drive.mount('/content/drive')"
      ]
    },
    {
      "cell_type": "code",
      "source": [
        "dataSet = pd.read_csv('/content/drive/MyDrive/timeseries.csv')"
      ],
      "metadata": {
        "id": "XsyXeMI6Xhbn"
      },
      "execution_count": null,
      "outputs": []
    },
    {
      "cell_type": "code",
      "execution_count": null,
      "metadata": {
        "colab": {
          "base_uri": "https://localhost:8080/",
          "height": 422
        },
        "id": "9cYtO7d8u9mD",
        "outputId": "6f6d033a-252f-4a98-d59f-8414d88d14ee"
      },
      "outputs": [
        {
          "output_type": "stream",
          "name": "stdout",
          "text": [
            "First 5 Rows\n",
            "\n"
          ]
        },
        {
          "output_type": "execute_result",
          "data": {
            "text/plain": [
              "   fips        date  PRECTOT      PS   QV2M    T2M  T2MDEW  T2MWET  T2M_MAX  \\\n",
              "0  1001  2000-01-01     0.22  100.51   9.65  14.74   13.51   13.51    20.96   \n",
              "1  1001  2000-01-02     0.20  100.55  10.42  16.69   14.71   14.71    22.80   \n",
              "2  1001  2000-01-03     3.65  100.15  11.76  18.49   16.52   16.52    22.73   \n",
              "3  1001  2000-01-04    15.95  100.29   6.42  11.40    6.09    6.10    18.09   \n",
              "4  1001  2000-01-05     0.00  101.15   2.95   3.86   -3.29   -3.20    10.82   \n",
              "\n",
              "   T2M_MIN  ...     TS  WS10M  WS10M_MAX  WS10M_MIN  WS10M_RANGE  WS50M  \\\n",
              "0    11.46  ...  14.65   2.20       2.94       1.49         1.46   4.85   \n",
              "1    12.61  ...  16.60   2.52       3.43       1.83         1.60   5.33   \n",
              "2    15.32  ...  18.41   4.03       5.33       2.66         2.67   7.53   \n",
              "3     2.16  ...  11.31   3.84       5.67       2.08         3.59   6.73   \n",
              "4    -2.66  ...   2.65   1.60       2.50       0.52         1.98   2.94   \n",
              "\n",
              "   WS50M_MAX  WS50M_MIN  WS50M_RANGE  score  \n",
              "0       6.04       3.23         2.81    NaN  \n",
              "1       6.13       3.72         2.41    NaN  \n",
              "2       9.52       5.87         3.66    NaN  \n",
              "3       9.31       3.74         5.58    1.0  \n",
              "4       4.85       0.65         4.19    NaN  \n",
              "\n",
              "[5 rows x 21 columns]"
            ],
            "text/html": [
              "\n",
              "  <div id=\"df-7714e1ef-5361-444e-9bf0-5ace1bf18281\">\n",
              "    <div class=\"colab-df-container\">\n",
              "      <div>\n",
              "<style scoped>\n",
              "    .dataframe tbody tr th:only-of-type {\n",
              "        vertical-align: middle;\n",
              "    }\n",
              "\n",
              "    .dataframe tbody tr th {\n",
              "        vertical-align: top;\n",
              "    }\n",
              "\n",
              "    .dataframe thead th {\n",
              "        text-align: right;\n",
              "    }\n",
              "</style>\n",
              "<table border=\"1\" class=\"dataframe\">\n",
              "  <thead>\n",
              "    <tr style=\"text-align: right;\">\n",
              "      <th></th>\n",
              "      <th>fips</th>\n",
              "      <th>date</th>\n",
              "      <th>PRECTOT</th>\n",
              "      <th>PS</th>\n",
              "      <th>QV2M</th>\n",
              "      <th>T2M</th>\n",
              "      <th>T2MDEW</th>\n",
              "      <th>T2MWET</th>\n",
              "      <th>T2M_MAX</th>\n",
              "      <th>T2M_MIN</th>\n",
              "      <th>...</th>\n",
              "      <th>TS</th>\n",
              "      <th>WS10M</th>\n",
              "      <th>WS10M_MAX</th>\n",
              "      <th>WS10M_MIN</th>\n",
              "      <th>WS10M_RANGE</th>\n",
              "      <th>WS50M</th>\n",
              "      <th>WS50M_MAX</th>\n",
              "      <th>WS50M_MIN</th>\n",
              "      <th>WS50M_RANGE</th>\n",
              "      <th>score</th>\n",
              "    </tr>\n",
              "  </thead>\n",
              "  <tbody>\n",
              "    <tr>\n",
              "      <th>0</th>\n",
              "      <td>1001</td>\n",
              "      <td>2000-01-01</td>\n",
              "      <td>0.22</td>\n",
              "      <td>100.51</td>\n",
              "      <td>9.65</td>\n",
              "      <td>14.74</td>\n",
              "      <td>13.51</td>\n",
              "      <td>13.51</td>\n",
              "      <td>20.96</td>\n",
              "      <td>11.46</td>\n",
              "      <td>...</td>\n",
              "      <td>14.65</td>\n",
              "      <td>2.20</td>\n",
              "      <td>2.94</td>\n",
              "      <td>1.49</td>\n",
              "      <td>1.46</td>\n",
              "      <td>4.85</td>\n",
              "      <td>6.04</td>\n",
              "      <td>3.23</td>\n",
              "      <td>2.81</td>\n",
              "      <td>NaN</td>\n",
              "    </tr>\n",
              "    <tr>\n",
              "      <th>1</th>\n",
              "      <td>1001</td>\n",
              "      <td>2000-01-02</td>\n",
              "      <td>0.20</td>\n",
              "      <td>100.55</td>\n",
              "      <td>10.42</td>\n",
              "      <td>16.69</td>\n",
              "      <td>14.71</td>\n",
              "      <td>14.71</td>\n",
              "      <td>22.80</td>\n",
              "      <td>12.61</td>\n",
              "      <td>...</td>\n",
              "      <td>16.60</td>\n",
              "      <td>2.52</td>\n",
              "      <td>3.43</td>\n",
              "      <td>1.83</td>\n",
              "      <td>1.60</td>\n",
              "      <td>5.33</td>\n",
              "      <td>6.13</td>\n",
              "      <td>3.72</td>\n",
              "      <td>2.41</td>\n",
              "      <td>NaN</td>\n",
              "    </tr>\n",
              "    <tr>\n",
              "      <th>2</th>\n",
              "      <td>1001</td>\n",
              "      <td>2000-01-03</td>\n",
              "      <td>3.65</td>\n",
              "      <td>100.15</td>\n",
              "      <td>11.76</td>\n",
              "      <td>18.49</td>\n",
              "      <td>16.52</td>\n",
              "      <td>16.52</td>\n",
              "      <td>22.73</td>\n",
              "      <td>15.32</td>\n",
              "      <td>...</td>\n",
              "      <td>18.41</td>\n",
              "      <td>4.03</td>\n",
              "      <td>5.33</td>\n",
              "      <td>2.66</td>\n",
              "      <td>2.67</td>\n",
              "      <td>7.53</td>\n",
              "      <td>9.52</td>\n",
              "      <td>5.87</td>\n",
              "      <td>3.66</td>\n",
              "      <td>NaN</td>\n",
              "    </tr>\n",
              "    <tr>\n",
              "      <th>3</th>\n",
              "      <td>1001</td>\n",
              "      <td>2000-01-04</td>\n",
              "      <td>15.95</td>\n",
              "      <td>100.29</td>\n",
              "      <td>6.42</td>\n",
              "      <td>11.40</td>\n",
              "      <td>6.09</td>\n",
              "      <td>6.10</td>\n",
              "      <td>18.09</td>\n",
              "      <td>2.16</td>\n",
              "      <td>...</td>\n",
              "      <td>11.31</td>\n",
              "      <td>3.84</td>\n",
              "      <td>5.67</td>\n",
              "      <td>2.08</td>\n",
              "      <td>3.59</td>\n",
              "      <td>6.73</td>\n",
              "      <td>9.31</td>\n",
              "      <td>3.74</td>\n",
              "      <td>5.58</td>\n",
              "      <td>1.0</td>\n",
              "    </tr>\n",
              "    <tr>\n",
              "      <th>4</th>\n",
              "      <td>1001</td>\n",
              "      <td>2000-01-05</td>\n",
              "      <td>0.00</td>\n",
              "      <td>101.15</td>\n",
              "      <td>2.95</td>\n",
              "      <td>3.86</td>\n",
              "      <td>-3.29</td>\n",
              "      <td>-3.20</td>\n",
              "      <td>10.82</td>\n",
              "      <td>-2.66</td>\n",
              "      <td>...</td>\n",
              "      <td>2.65</td>\n",
              "      <td>1.60</td>\n",
              "      <td>2.50</td>\n",
              "      <td>0.52</td>\n",
              "      <td>1.98</td>\n",
              "      <td>2.94</td>\n",
              "      <td>4.85</td>\n",
              "      <td>0.65</td>\n",
              "      <td>4.19</td>\n",
              "      <td>NaN</td>\n",
              "    </tr>\n",
              "  </tbody>\n",
              "</table>\n",
              "<p>5 rows × 21 columns</p>\n",
              "</div>\n",
              "      <button class=\"colab-df-convert\" onclick=\"convertToInteractive('df-7714e1ef-5361-444e-9bf0-5ace1bf18281')\"\n",
              "              title=\"Convert this dataframe to an interactive table.\"\n",
              "              style=\"display:none;\">\n",
              "        \n",
              "  <svg xmlns=\"http://www.w3.org/2000/svg\" height=\"24px\"viewBox=\"0 0 24 24\"\n",
              "       width=\"24px\">\n",
              "    <path d=\"M0 0h24v24H0V0z\" fill=\"none\"/>\n",
              "    <path d=\"M18.56 5.44l.94 2.06.94-2.06 2.06-.94-2.06-.94-.94-2.06-.94 2.06-2.06.94zm-11 1L8.5 8.5l.94-2.06 2.06-.94-2.06-.94L8.5 2.5l-.94 2.06-2.06.94zm10 10l.94 2.06.94-2.06 2.06-.94-2.06-.94-.94-2.06-.94 2.06-2.06.94z\"/><path d=\"M17.41 7.96l-1.37-1.37c-.4-.4-.92-.59-1.43-.59-.52 0-1.04.2-1.43.59L10.3 9.45l-7.72 7.72c-.78.78-.78 2.05 0 2.83L4 21.41c.39.39.9.59 1.41.59.51 0 1.02-.2 1.41-.59l7.78-7.78 2.81-2.81c.8-.78.8-2.07 0-2.86zM5.41 20L4 18.59l7.72-7.72 1.47 1.35L5.41 20z\"/>\n",
              "  </svg>\n",
              "      </button>\n",
              "      \n",
              "  <style>\n",
              "    .colab-df-container {\n",
              "      display:flex;\n",
              "      flex-wrap:wrap;\n",
              "      gap: 12px;\n",
              "    }\n",
              "\n",
              "    .colab-df-convert {\n",
              "      background-color: #E8F0FE;\n",
              "      border: none;\n",
              "      border-radius: 50%;\n",
              "      cursor: pointer;\n",
              "      display: none;\n",
              "      fill: #1967D2;\n",
              "      height: 32px;\n",
              "      padding: 0 0 0 0;\n",
              "      width: 32px;\n",
              "    }\n",
              "\n",
              "    .colab-df-convert:hover {\n",
              "      background-color: #E2EBFA;\n",
              "      box-shadow: 0px 1px 2px rgba(60, 64, 67, 0.3), 0px 1px 3px 1px rgba(60, 64, 67, 0.15);\n",
              "      fill: #174EA6;\n",
              "    }\n",
              "\n",
              "    [theme=dark] .colab-df-convert {\n",
              "      background-color: #3B4455;\n",
              "      fill: #D2E3FC;\n",
              "    }\n",
              "\n",
              "    [theme=dark] .colab-df-convert:hover {\n",
              "      background-color: #434B5C;\n",
              "      box-shadow: 0px 1px 3px 1px rgba(0, 0, 0, 0.15);\n",
              "      filter: drop-shadow(0px 1px 2px rgba(0, 0, 0, 0.3));\n",
              "      fill: #FFFFFF;\n",
              "    }\n",
              "  </style>\n",
              "\n",
              "      <script>\n",
              "        const buttonEl =\n",
              "          document.querySelector('#df-7714e1ef-5361-444e-9bf0-5ace1bf18281 button.colab-df-convert');\n",
              "        buttonEl.style.display =\n",
              "          google.colab.kernel.accessAllowed ? 'block' : 'none';\n",
              "\n",
              "        async function convertToInteractive(key) {\n",
              "          const element = document.querySelector('#df-7714e1ef-5361-444e-9bf0-5ace1bf18281');\n",
              "          const dataTable =\n",
              "            await google.colab.kernel.invokeFunction('convertToInteractive',\n",
              "                                                     [key], {});\n",
              "          if (!dataTable) return;\n",
              "\n",
              "          const docLinkHtml = 'Like what you see? Visit the ' +\n",
              "            '<a target=\"_blank\" href=https://colab.research.google.com/notebooks/data_table.ipynb>data table notebook</a>'\n",
              "            + ' to learn more about interactive tables.';\n",
              "          element.innerHTML = '';\n",
              "          dataTable['output_type'] = 'display_data';\n",
              "          await google.colab.output.renderOutput(dataTable, element);\n",
              "          const docLink = document.createElement('div');\n",
              "          docLink.innerHTML = docLinkHtml;\n",
              "          element.appendChild(docLink);\n",
              "        }\n",
              "      </script>\n",
              "    </div>\n",
              "  </div>\n",
              "  "
            ]
          },
          "metadata": {},
          "execution_count": 17
        }
      ],
      "source": [
        "print(\"First 5 Rows\\n\")\n",
        "dataSet.head()"
      ]
    },
    {
      "cell_type": "code",
      "execution_count": null,
      "metadata": {
        "colab": {
          "base_uri": "https://localhost:8080/",
          "height": 422
        },
        "id": "-H-1Z-LEvJM7",
        "outputId": "de8f0d0c-c837-4228-8a2f-2a28c69ad54c"
      },
      "outputs": [
        {
          "output_type": "stream",
          "name": "stdout",
          "text": [
            "Last five rows\n",
            "\n"
          ]
        },
        {
          "output_type": "execute_result",
          "data": {
            "text/plain": [
              "           fips        date  PRECTOT     PS  QV2M   T2M  T2MDEW  T2MWET  \\\n",
              "19300675  56043  2016-12-27     0.16  82.88  1.63 -7.97  -13.49  -12.81   \n",
              "19300676  56043  2016-12-28     0.02  83.33  1.41 -8.71  -14.10  -13.84   \n",
              "19300677  56043  2016-12-29     0.00  83.75  1.59 -7.96  -13.30  -13.03   \n",
              "19300678  56043  2016-12-30     1.22  82.49  2.63 -2.94   -7.40   -7.33   \n",
              "19300679  56043  2016-12-31     0.44  82.19  1.75 -7.56  -11.98  -11.82   \n",
              "\n",
              "          T2M_MAX  T2M_MIN  ...     TS  WS10M  WS10M_MAX  WS10M_MIN  \\\n",
              "19300675    -1.39   -13.60  ...  -9.41   5.90       7.63       3.61   \n",
              "19300676    -2.49   -13.56  ... -10.55   6.50      11.43       4.11   \n",
              "19300677     0.42   -14.51  ... -10.29   4.29       6.24       2.03   \n",
              "19300678     3.76    -6.86  ...  -4.14   4.98       7.34       1.99   \n",
              "19300679    -0.95   -11.61  ... -10.17   2.31       3.47       0.41   \n",
              "\n",
              "          WS10M_RANGE  WS50M  WS50M_MAX  WS50M_MIN  WS50M_RANGE  score  \n",
              "19300675         4.02   8.58      10.39       5.92         4.47    0.0  \n",
              "19300676         7.32   9.92      14.49       7.26         7.22    NaN  \n",
              "19300677         4.22   6.56      10.07       3.20         6.87    NaN  \n",
              "19300678         5.35   7.28      10.12       3.24         6.89    NaN  \n",
              "19300679         3.06   3.37       5.26       0.66         4.60    NaN  \n",
              "\n",
              "[5 rows x 21 columns]"
            ],
            "text/html": [
              "\n",
              "  <div id=\"df-f6940785-ebe2-459f-97c0-dd6730743be7\">\n",
              "    <div class=\"colab-df-container\">\n",
              "      <div>\n",
              "<style scoped>\n",
              "    .dataframe tbody tr th:only-of-type {\n",
              "        vertical-align: middle;\n",
              "    }\n",
              "\n",
              "    .dataframe tbody tr th {\n",
              "        vertical-align: top;\n",
              "    }\n",
              "\n",
              "    .dataframe thead th {\n",
              "        text-align: right;\n",
              "    }\n",
              "</style>\n",
              "<table border=\"1\" class=\"dataframe\">\n",
              "  <thead>\n",
              "    <tr style=\"text-align: right;\">\n",
              "      <th></th>\n",
              "      <th>fips</th>\n",
              "      <th>date</th>\n",
              "      <th>PRECTOT</th>\n",
              "      <th>PS</th>\n",
              "      <th>QV2M</th>\n",
              "      <th>T2M</th>\n",
              "      <th>T2MDEW</th>\n",
              "      <th>T2MWET</th>\n",
              "      <th>T2M_MAX</th>\n",
              "      <th>T2M_MIN</th>\n",
              "      <th>...</th>\n",
              "      <th>TS</th>\n",
              "      <th>WS10M</th>\n",
              "      <th>WS10M_MAX</th>\n",
              "      <th>WS10M_MIN</th>\n",
              "      <th>WS10M_RANGE</th>\n",
              "      <th>WS50M</th>\n",
              "      <th>WS50M_MAX</th>\n",
              "      <th>WS50M_MIN</th>\n",
              "      <th>WS50M_RANGE</th>\n",
              "      <th>score</th>\n",
              "    </tr>\n",
              "  </thead>\n",
              "  <tbody>\n",
              "    <tr>\n",
              "      <th>19300675</th>\n",
              "      <td>56043</td>\n",
              "      <td>2016-12-27</td>\n",
              "      <td>0.16</td>\n",
              "      <td>82.88</td>\n",
              "      <td>1.63</td>\n",
              "      <td>-7.97</td>\n",
              "      <td>-13.49</td>\n",
              "      <td>-12.81</td>\n",
              "      <td>-1.39</td>\n",
              "      <td>-13.60</td>\n",
              "      <td>...</td>\n",
              "      <td>-9.41</td>\n",
              "      <td>5.90</td>\n",
              "      <td>7.63</td>\n",
              "      <td>3.61</td>\n",
              "      <td>4.02</td>\n",
              "      <td>8.58</td>\n",
              "      <td>10.39</td>\n",
              "      <td>5.92</td>\n",
              "      <td>4.47</td>\n",
              "      <td>0.0</td>\n",
              "    </tr>\n",
              "    <tr>\n",
              "      <th>19300676</th>\n",
              "      <td>56043</td>\n",
              "      <td>2016-12-28</td>\n",
              "      <td>0.02</td>\n",
              "      <td>83.33</td>\n",
              "      <td>1.41</td>\n",
              "      <td>-8.71</td>\n",
              "      <td>-14.10</td>\n",
              "      <td>-13.84</td>\n",
              "      <td>-2.49</td>\n",
              "      <td>-13.56</td>\n",
              "      <td>...</td>\n",
              "      <td>-10.55</td>\n",
              "      <td>6.50</td>\n",
              "      <td>11.43</td>\n",
              "      <td>4.11</td>\n",
              "      <td>7.32</td>\n",
              "      <td>9.92</td>\n",
              "      <td>14.49</td>\n",
              "      <td>7.26</td>\n",
              "      <td>7.22</td>\n",
              "      <td>NaN</td>\n",
              "    </tr>\n",
              "    <tr>\n",
              "      <th>19300677</th>\n",
              "      <td>56043</td>\n",
              "      <td>2016-12-29</td>\n",
              "      <td>0.00</td>\n",
              "      <td>83.75</td>\n",
              "      <td>1.59</td>\n",
              "      <td>-7.96</td>\n",
              "      <td>-13.30</td>\n",
              "      <td>-13.03</td>\n",
              "      <td>0.42</td>\n",
              "      <td>-14.51</td>\n",
              "      <td>...</td>\n",
              "      <td>-10.29</td>\n",
              "      <td>4.29</td>\n",
              "      <td>6.24</td>\n",
              "      <td>2.03</td>\n",
              "      <td>4.22</td>\n",
              "      <td>6.56</td>\n",
              "      <td>10.07</td>\n",
              "      <td>3.20</td>\n",
              "      <td>6.87</td>\n",
              "      <td>NaN</td>\n",
              "    </tr>\n",
              "    <tr>\n",
              "      <th>19300678</th>\n",
              "      <td>56043</td>\n",
              "      <td>2016-12-30</td>\n",
              "      <td>1.22</td>\n",
              "      <td>82.49</td>\n",
              "      <td>2.63</td>\n",
              "      <td>-2.94</td>\n",
              "      <td>-7.40</td>\n",
              "      <td>-7.33</td>\n",
              "      <td>3.76</td>\n",
              "      <td>-6.86</td>\n",
              "      <td>...</td>\n",
              "      <td>-4.14</td>\n",
              "      <td>4.98</td>\n",
              "      <td>7.34</td>\n",
              "      <td>1.99</td>\n",
              "      <td>5.35</td>\n",
              "      <td>7.28</td>\n",
              "      <td>10.12</td>\n",
              "      <td>3.24</td>\n",
              "      <td>6.89</td>\n",
              "      <td>NaN</td>\n",
              "    </tr>\n",
              "    <tr>\n",
              "      <th>19300679</th>\n",
              "      <td>56043</td>\n",
              "      <td>2016-12-31</td>\n",
              "      <td>0.44</td>\n",
              "      <td>82.19</td>\n",
              "      <td>1.75</td>\n",
              "      <td>-7.56</td>\n",
              "      <td>-11.98</td>\n",
              "      <td>-11.82</td>\n",
              "      <td>-0.95</td>\n",
              "      <td>-11.61</td>\n",
              "      <td>...</td>\n",
              "      <td>-10.17</td>\n",
              "      <td>2.31</td>\n",
              "      <td>3.47</td>\n",
              "      <td>0.41</td>\n",
              "      <td>3.06</td>\n",
              "      <td>3.37</td>\n",
              "      <td>5.26</td>\n",
              "      <td>0.66</td>\n",
              "      <td>4.60</td>\n",
              "      <td>NaN</td>\n",
              "    </tr>\n",
              "  </tbody>\n",
              "</table>\n",
              "<p>5 rows × 21 columns</p>\n",
              "</div>\n",
              "      <button class=\"colab-df-convert\" onclick=\"convertToInteractive('df-f6940785-ebe2-459f-97c0-dd6730743be7')\"\n",
              "              title=\"Convert this dataframe to an interactive table.\"\n",
              "              style=\"display:none;\">\n",
              "        \n",
              "  <svg xmlns=\"http://www.w3.org/2000/svg\" height=\"24px\"viewBox=\"0 0 24 24\"\n",
              "       width=\"24px\">\n",
              "    <path d=\"M0 0h24v24H0V0z\" fill=\"none\"/>\n",
              "    <path d=\"M18.56 5.44l.94 2.06.94-2.06 2.06-.94-2.06-.94-.94-2.06-.94 2.06-2.06.94zm-11 1L8.5 8.5l.94-2.06 2.06-.94-2.06-.94L8.5 2.5l-.94 2.06-2.06.94zm10 10l.94 2.06.94-2.06 2.06-.94-2.06-.94-.94-2.06-.94 2.06-2.06.94z\"/><path d=\"M17.41 7.96l-1.37-1.37c-.4-.4-.92-.59-1.43-.59-.52 0-1.04.2-1.43.59L10.3 9.45l-7.72 7.72c-.78.78-.78 2.05 0 2.83L4 21.41c.39.39.9.59 1.41.59.51 0 1.02-.2 1.41-.59l7.78-7.78 2.81-2.81c.8-.78.8-2.07 0-2.86zM5.41 20L4 18.59l7.72-7.72 1.47 1.35L5.41 20z\"/>\n",
              "  </svg>\n",
              "      </button>\n",
              "      \n",
              "  <style>\n",
              "    .colab-df-container {\n",
              "      display:flex;\n",
              "      flex-wrap:wrap;\n",
              "      gap: 12px;\n",
              "    }\n",
              "\n",
              "    .colab-df-convert {\n",
              "      background-color: #E8F0FE;\n",
              "      border: none;\n",
              "      border-radius: 50%;\n",
              "      cursor: pointer;\n",
              "      display: none;\n",
              "      fill: #1967D2;\n",
              "      height: 32px;\n",
              "      padding: 0 0 0 0;\n",
              "      width: 32px;\n",
              "    }\n",
              "\n",
              "    .colab-df-convert:hover {\n",
              "      background-color: #E2EBFA;\n",
              "      box-shadow: 0px 1px 2px rgba(60, 64, 67, 0.3), 0px 1px 3px 1px rgba(60, 64, 67, 0.15);\n",
              "      fill: #174EA6;\n",
              "    }\n",
              "\n",
              "    [theme=dark] .colab-df-convert {\n",
              "      background-color: #3B4455;\n",
              "      fill: #D2E3FC;\n",
              "    }\n",
              "\n",
              "    [theme=dark] .colab-df-convert:hover {\n",
              "      background-color: #434B5C;\n",
              "      box-shadow: 0px 1px 3px 1px rgba(0, 0, 0, 0.15);\n",
              "      filter: drop-shadow(0px 1px 2px rgba(0, 0, 0, 0.3));\n",
              "      fill: #FFFFFF;\n",
              "    }\n",
              "  </style>\n",
              "\n",
              "      <script>\n",
              "        const buttonEl =\n",
              "          document.querySelector('#df-f6940785-ebe2-459f-97c0-dd6730743be7 button.colab-df-convert');\n",
              "        buttonEl.style.display =\n",
              "          google.colab.kernel.accessAllowed ? 'block' : 'none';\n",
              "\n",
              "        async function convertToInteractive(key) {\n",
              "          const element = document.querySelector('#df-f6940785-ebe2-459f-97c0-dd6730743be7');\n",
              "          const dataTable =\n",
              "            await google.colab.kernel.invokeFunction('convertToInteractive',\n",
              "                                                     [key], {});\n",
              "          if (!dataTable) return;\n",
              "\n",
              "          const docLinkHtml = 'Like what you see? Visit the ' +\n",
              "            '<a target=\"_blank\" href=https://colab.research.google.com/notebooks/data_table.ipynb>data table notebook</a>'\n",
              "            + ' to learn more about interactive tables.';\n",
              "          element.innerHTML = '';\n",
              "          dataTable['output_type'] = 'display_data';\n",
              "          await google.colab.output.renderOutput(dataTable, element);\n",
              "          const docLink = document.createElement('div');\n",
              "          docLink.innerHTML = docLinkHtml;\n",
              "          element.appendChild(docLink);\n",
              "        }\n",
              "      </script>\n",
              "    </div>\n",
              "  </div>\n",
              "  "
            ]
          },
          "metadata": {},
          "execution_count": 18
        }
      ],
      "source": [
        "print(\"Last five rows\\n\")\n",
        "dataSet.tail()"
      ]
    },
    {
      "cell_type": "code",
      "execution_count": null,
      "metadata": {
        "colab": {
          "base_uri": "https://localhost:8080/",
          "height": 382
        },
        "id": "Du3Wl-_5vqnO",
        "outputId": "6a52fc9e-750f-418e-cd45-cb13c31dc67a",
        "scrolled": true
      },
      "outputs": [
        {
          "output_type": "stream",
          "name": "stdout",
          "text": [
            "Data Show Describe\n"
          ]
        },
        {
          "output_type": "execute_result",
          "data": {
            "text/plain": [
              "               fips       PRECTOT            PS          QV2M           T2M  \\\n",
              "count  1.930068e+07  1.930068e+07  1.930068e+07  1.930068e+07  1.930068e+07   \n",
              "mean   3.067038e+04  2.644145e+00  9.665578e+01  7.816178e+00  1.280146e+01   \n",
              "std    1.497911e+04  6.226305e+00  5.447994e+00  4.694305e+00  1.092674e+01   \n",
              "min    1.001000e+03  0.000000e+00  6.612000e+01  1.200000e-01 -3.734000e+01   \n",
              "25%    1.904450e+04  0.000000e+00  9.584000e+01  3.780000e+00  4.450000e+00   \n",
              "50%    2.921200e+04  1.800000e-01  9.830000e+01  6.840000e+00  1.402000e+01   \n",
              "75%    4.600750e+04  2.160000e+00  9.996000e+01  1.135000e+01  2.188000e+01   \n",
              "max    5.604300e+04  2.345900e+02  1.043200e+02  2.292000e+01  4.139000e+01   \n",
              "\n",
              "             T2MDEW        T2MWET       T2M_MAX       T2M_MIN     T2M_RANGE  \\\n",
              "count  1.930068e+07  1.930068e+07  1.930068e+07  1.930068e+07  1.930068e+07   \n",
              "mean   6.951072e+00  6.986916e+00  1.868141e+01  7.411665e+00  1.126974e+01   \n",
              "std    1.014551e+01  1.009116e+01  1.154487e+01  1.057680e+01  4.005165e+00   \n",
              "min   -3.770000e+01 -3.746000e+01 -3.220000e+01 -4.596000e+01  3.000000e-02   \n",
              "25%   -9.600000e-01 -9.200000e-01  1.027000e+01 -7.000000e-01  8.420000e+00   \n",
              "50%    7.570000e+00  7.580000e+00  2.040000e+01  8.030000e+00  1.124000e+01   \n",
              "75%    1.552000e+01  1.552000e+01  2.787000e+01  1.614000e+01  1.408000e+01   \n",
              "max    2.755000e+01  2.755000e+01  4.991000e+01  3.380000e+01  3.461000e+01   \n",
              "\n",
              "                 TS         WS10M     WS10M_MAX     WS10M_MIN   WS10M_RANGE  \\\n",
              "count  1.930068e+07  1.930068e+07  1.930068e+07  1.930068e+07  1.930068e+07   \n",
              "mean   1.288900e+01  3.564013e+00  5.195993e+00  1.928879e+00  3.267113e+00   \n",
              "std    1.114961e+01  1.862297e+00  2.627969e+00  1.351713e+00  1.947028e+00   \n",
              "min   -3.823000e+01  2.500000e-01  5.400000e-01  0.000000e+00  1.600000e-01   \n",
              "25%    4.340000e+00  2.140000e+00  3.110000e+00  9.600000e-01  1.810000e+00   \n",
              "50%    1.404000e+01  3.140000e+00  4.670000e+00  1.660000e+00  2.800000e+00   \n",
              "75%    2.207000e+01  4.600000e+00  6.750000e+00  2.580000e+00  4.250000e+00   \n",
              "max    4.385000e+01  2.369000e+01  3.628000e+01  1.720000e+01  2.825000e+01   \n",
              "\n",
              "              WS50M     WS50M_MAX     WS50M_MIN   WS50M_RANGE         score  \n",
              "count  1.930068e+07  1.930068e+07  1.930068e+07  1.930068e+07  2.756796e+06  \n",
              "mean   5.525151e+00  7.811798e+00  3.130077e+00  4.681721e+00  8.245298e-01  \n",
              "std    2.321549e+00  2.861210e+00  2.122751e+00  2.171263e+00  1.223727e+00  \n",
              "min    4.000000e-01  7.000000e-01  0.000000e+00  3.200000e-01  0.000000e+00  \n",
              "25%    3.790000e+00  5.680000e+00  1.450000e+00  3.130000e+00  0.000000e+00  \n",
              "50%    5.120000e+00  7.310000e+00  2.770000e+00  4.250000e+00  0.000000e+00  \n",
              "75%    6.880000e+00  9.460000e+00  4.410000e+00  5.770000e+00  1.189600e+00  \n",
              "max    2.835000e+01  4.273000e+01  2.087000e+01  3.243000e+01  5.000000e+00  "
            ],
            "text/html": [
              "\n",
              "  <div id=\"df-d23c74a3-854f-48a2-9d60-ee1ef467638d\">\n",
              "    <div class=\"colab-df-container\">\n",
              "      <div>\n",
              "<style scoped>\n",
              "    .dataframe tbody tr th:only-of-type {\n",
              "        vertical-align: middle;\n",
              "    }\n",
              "\n",
              "    .dataframe tbody tr th {\n",
              "        vertical-align: top;\n",
              "    }\n",
              "\n",
              "    .dataframe thead th {\n",
              "        text-align: right;\n",
              "    }\n",
              "</style>\n",
              "<table border=\"1\" class=\"dataframe\">\n",
              "  <thead>\n",
              "    <tr style=\"text-align: right;\">\n",
              "      <th></th>\n",
              "      <th>fips</th>\n",
              "      <th>PRECTOT</th>\n",
              "      <th>PS</th>\n",
              "      <th>QV2M</th>\n",
              "      <th>T2M</th>\n",
              "      <th>T2MDEW</th>\n",
              "      <th>T2MWET</th>\n",
              "      <th>T2M_MAX</th>\n",
              "      <th>T2M_MIN</th>\n",
              "      <th>T2M_RANGE</th>\n",
              "      <th>TS</th>\n",
              "      <th>WS10M</th>\n",
              "      <th>WS10M_MAX</th>\n",
              "      <th>WS10M_MIN</th>\n",
              "      <th>WS10M_RANGE</th>\n",
              "      <th>WS50M</th>\n",
              "      <th>WS50M_MAX</th>\n",
              "      <th>WS50M_MIN</th>\n",
              "      <th>WS50M_RANGE</th>\n",
              "      <th>score</th>\n",
              "    </tr>\n",
              "  </thead>\n",
              "  <tbody>\n",
              "    <tr>\n",
              "      <th>count</th>\n",
              "      <td>1.930068e+07</td>\n",
              "      <td>1.930068e+07</td>\n",
              "      <td>1.930068e+07</td>\n",
              "      <td>1.930068e+07</td>\n",
              "      <td>1.930068e+07</td>\n",
              "      <td>1.930068e+07</td>\n",
              "      <td>1.930068e+07</td>\n",
              "      <td>1.930068e+07</td>\n",
              "      <td>1.930068e+07</td>\n",
              "      <td>1.930068e+07</td>\n",
              "      <td>1.930068e+07</td>\n",
              "      <td>1.930068e+07</td>\n",
              "      <td>1.930068e+07</td>\n",
              "      <td>1.930068e+07</td>\n",
              "      <td>1.930068e+07</td>\n",
              "      <td>1.930068e+07</td>\n",
              "      <td>1.930068e+07</td>\n",
              "      <td>1.930068e+07</td>\n",
              "      <td>1.930068e+07</td>\n",
              "      <td>2.756796e+06</td>\n",
              "    </tr>\n",
              "    <tr>\n",
              "      <th>mean</th>\n",
              "      <td>3.067038e+04</td>\n",
              "      <td>2.644145e+00</td>\n",
              "      <td>9.665578e+01</td>\n",
              "      <td>7.816178e+00</td>\n",
              "      <td>1.280146e+01</td>\n",
              "      <td>6.951072e+00</td>\n",
              "      <td>6.986916e+00</td>\n",
              "      <td>1.868141e+01</td>\n",
              "      <td>7.411665e+00</td>\n",
              "      <td>1.126974e+01</td>\n",
              "      <td>1.288900e+01</td>\n",
              "      <td>3.564013e+00</td>\n",
              "      <td>5.195993e+00</td>\n",
              "      <td>1.928879e+00</td>\n",
              "      <td>3.267113e+00</td>\n",
              "      <td>5.525151e+00</td>\n",
              "      <td>7.811798e+00</td>\n",
              "      <td>3.130077e+00</td>\n",
              "      <td>4.681721e+00</td>\n",
              "      <td>8.245298e-01</td>\n",
              "    </tr>\n",
              "    <tr>\n",
              "      <th>std</th>\n",
              "      <td>1.497911e+04</td>\n",
              "      <td>6.226305e+00</td>\n",
              "      <td>5.447994e+00</td>\n",
              "      <td>4.694305e+00</td>\n",
              "      <td>1.092674e+01</td>\n",
              "      <td>1.014551e+01</td>\n",
              "      <td>1.009116e+01</td>\n",
              "      <td>1.154487e+01</td>\n",
              "      <td>1.057680e+01</td>\n",
              "      <td>4.005165e+00</td>\n",
              "      <td>1.114961e+01</td>\n",
              "      <td>1.862297e+00</td>\n",
              "      <td>2.627969e+00</td>\n",
              "      <td>1.351713e+00</td>\n",
              "      <td>1.947028e+00</td>\n",
              "      <td>2.321549e+00</td>\n",
              "      <td>2.861210e+00</td>\n",
              "      <td>2.122751e+00</td>\n",
              "      <td>2.171263e+00</td>\n",
              "      <td>1.223727e+00</td>\n",
              "    </tr>\n",
              "    <tr>\n",
              "      <th>min</th>\n",
              "      <td>1.001000e+03</td>\n",
              "      <td>0.000000e+00</td>\n",
              "      <td>6.612000e+01</td>\n",
              "      <td>1.200000e-01</td>\n",
              "      <td>-3.734000e+01</td>\n",
              "      <td>-3.770000e+01</td>\n",
              "      <td>-3.746000e+01</td>\n",
              "      <td>-3.220000e+01</td>\n",
              "      <td>-4.596000e+01</td>\n",
              "      <td>3.000000e-02</td>\n",
              "      <td>-3.823000e+01</td>\n",
              "      <td>2.500000e-01</td>\n",
              "      <td>5.400000e-01</td>\n",
              "      <td>0.000000e+00</td>\n",
              "      <td>1.600000e-01</td>\n",
              "      <td>4.000000e-01</td>\n",
              "      <td>7.000000e-01</td>\n",
              "      <td>0.000000e+00</td>\n",
              "      <td>3.200000e-01</td>\n",
              "      <td>0.000000e+00</td>\n",
              "    </tr>\n",
              "    <tr>\n",
              "      <th>25%</th>\n",
              "      <td>1.904450e+04</td>\n",
              "      <td>0.000000e+00</td>\n",
              "      <td>9.584000e+01</td>\n",
              "      <td>3.780000e+00</td>\n",
              "      <td>4.450000e+00</td>\n",
              "      <td>-9.600000e-01</td>\n",
              "      <td>-9.200000e-01</td>\n",
              "      <td>1.027000e+01</td>\n",
              "      <td>-7.000000e-01</td>\n",
              "      <td>8.420000e+00</td>\n",
              "      <td>4.340000e+00</td>\n",
              "      <td>2.140000e+00</td>\n",
              "      <td>3.110000e+00</td>\n",
              "      <td>9.600000e-01</td>\n",
              "      <td>1.810000e+00</td>\n",
              "      <td>3.790000e+00</td>\n",
              "      <td>5.680000e+00</td>\n",
              "      <td>1.450000e+00</td>\n",
              "      <td>3.130000e+00</td>\n",
              "      <td>0.000000e+00</td>\n",
              "    </tr>\n",
              "    <tr>\n",
              "      <th>50%</th>\n",
              "      <td>2.921200e+04</td>\n",
              "      <td>1.800000e-01</td>\n",
              "      <td>9.830000e+01</td>\n",
              "      <td>6.840000e+00</td>\n",
              "      <td>1.402000e+01</td>\n",
              "      <td>7.570000e+00</td>\n",
              "      <td>7.580000e+00</td>\n",
              "      <td>2.040000e+01</td>\n",
              "      <td>8.030000e+00</td>\n",
              "      <td>1.124000e+01</td>\n",
              "      <td>1.404000e+01</td>\n",
              "      <td>3.140000e+00</td>\n",
              "      <td>4.670000e+00</td>\n",
              "      <td>1.660000e+00</td>\n",
              "      <td>2.800000e+00</td>\n",
              "      <td>5.120000e+00</td>\n",
              "      <td>7.310000e+00</td>\n",
              "      <td>2.770000e+00</td>\n",
              "      <td>4.250000e+00</td>\n",
              "      <td>0.000000e+00</td>\n",
              "    </tr>\n",
              "    <tr>\n",
              "      <th>75%</th>\n",
              "      <td>4.600750e+04</td>\n",
              "      <td>2.160000e+00</td>\n",
              "      <td>9.996000e+01</td>\n",
              "      <td>1.135000e+01</td>\n",
              "      <td>2.188000e+01</td>\n",
              "      <td>1.552000e+01</td>\n",
              "      <td>1.552000e+01</td>\n",
              "      <td>2.787000e+01</td>\n",
              "      <td>1.614000e+01</td>\n",
              "      <td>1.408000e+01</td>\n",
              "      <td>2.207000e+01</td>\n",
              "      <td>4.600000e+00</td>\n",
              "      <td>6.750000e+00</td>\n",
              "      <td>2.580000e+00</td>\n",
              "      <td>4.250000e+00</td>\n",
              "      <td>6.880000e+00</td>\n",
              "      <td>9.460000e+00</td>\n",
              "      <td>4.410000e+00</td>\n",
              "      <td>5.770000e+00</td>\n",
              "      <td>1.189600e+00</td>\n",
              "    </tr>\n",
              "    <tr>\n",
              "      <th>max</th>\n",
              "      <td>5.604300e+04</td>\n",
              "      <td>2.345900e+02</td>\n",
              "      <td>1.043200e+02</td>\n",
              "      <td>2.292000e+01</td>\n",
              "      <td>4.139000e+01</td>\n",
              "      <td>2.755000e+01</td>\n",
              "      <td>2.755000e+01</td>\n",
              "      <td>4.991000e+01</td>\n",
              "      <td>3.380000e+01</td>\n",
              "      <td>3.461000e+01</td>\n",
              "      <td>4.385000e+01</td>\n",
              "      <td>2.369000e+01</td>\n",
              "      <td>3.628000e+01</td>\n",
              "      <td>1.720000e+01</td>\n",
              "      <td>2.825000e+01</td>\n",
              "      <td>2.835000e+01</td>\n",
              "      <td>4.273000e+01</td>\n",
              "      <td>2.087000e+01</td>\n",
              "      <td>3.243000e+01</td>\n",
              "      <td>5.000000e+00</td>\n",
              "    </tr>\n",
              "  </tbody>\n",
              "</table>\n",
              "</div>\n",
              "      <button class=\"colab-df-convert\" onclick=\"convertToInteractive('df-d23c74a3-854f-48a2-9d60-ee1ef467638d')\"\n",
              "              title=\"Convert this dataframe to an interactive table.\"\n",
              "              style=\"display:none;\">\n",
              "        \n",
              "  <svg xmlns=\"http://www.w3.org/2000/svg\" height=\"24px\"viewBox=\"0 0 24 24\"\n",
              "       width=\"24px\">\n",
              "    <path d=\"M0 0h24v24H0V0z\" fill=\"none\"/>\n",
              "    <path d=\"M18.56 5.44l.94 2.06.94-2.06 2.06-.94-2.06-.94-.94-2.06-.94 2.06-2.06.94zm-11 1L8.5 8.5l.94-2.06 2.06-.94-2.06-.94L8.5 2.5l-.94 2.06-2.06.94zm10 10l.94 2.06.94-2.06 2.06-.94-2.06-.94-.94-2.06-.94 2.06-2.06.94z\"/><path d=\"M17.41 7.96l-1.37-1.37c-.4-.4-.92-.59-1.43-.59-.52 0-1.04.2-1.43.59L10.3 9.45l-7.72 7.72c-.78.78-.78 2.05 0 2.83L4 21.41c.39.39.9.59 1.41.59.51 0 1.02-.2 1.41-.59l7.78-7.78 2.81-2.81c.8-.78.8-2.07 0-2.86zM5.41 20L4 18.59l7.72-7.72 1.47 1.35L5.41 20z\"/>\n",
              "  </svg>\n",
              "      </button>\n",
              "      \n",
              "  <style>\n",
              "    .colab-df-container {\n",
              "      display:flex;\n",
              "      flex-wrap:wrap;\n",
              "      gap: 12px;\n",
              "    }\n",
              "\n",
              "    .colab-df-convert {\n",
              "      background-color: #E8F0FE;\n",
              "      border: none;\n",
              "      border-radius: 50%;\n",
              "      cursor: pointer;\n",
              "      display: none;\n",
              "      fill: #1967D2;\n",
              "      height: 32px;\n",
              "      padding: 0 0 0 0;\n",
              "      width: 32px;\n",
              "    }\n",
              "\n",
              "    .colab-df-convert:hover {\n",
              "      background-color: #E2EBFA;\n",
              "      box-shadow: 0px 1px 2px rgba(60, 64, 67, 0.3), 0px 1px 3px 1px rgba(60, 64, 67, 0.15);\n",
              "      fill: #174EA6;\n",
              "    }\n",
              "\n",
              "    [theme=dark] .colab-df-convert {\n",
              "      background-color: #3B4455;\n",
              "      fill: #D2E3FC;\n",
              "    }\n",
              "\n",
              "    [theme=dark] .colab-df-convert:hover {\n",
              "      background-color: #434B5C;\n",
              "      box-shadow: 0px 1px 3px 1px rgba(0, 0, 0, 0.15);\n",
              "      filter: drop-shadow(0px 1px 2px rgba(0, 0, 0, 0.3));\n",
              "      fill: #FFFFFF;\n",
              "    }\n",
              "  </style>\n",
              "\n",
              "      <script>\n",
              "        const buttonEl =\n",
              "          document.querySelector('#df-d23c74a3-854f-48a2-9d60-ee1ef467638d button.colab-df-convert');\n",
              "        buttonEl.style.display =\n",
              "          google.colab.kernel.accessAllowed ? 'block' : 'none';\n",
              "\n",
              "        async function convertToInteractive(key) {\n",
              "          const element = document.querySelector('#df-d23c74a3-854f-48a2-9d60-ee1ef467638d');\n",
              "          const dataTable =\n",
              "            await google.colab.kernel.invokeFunction('convertToInteractive',\n",
              "                                                     [key], {});\n",
              "          if (!dataTable) return;\n",
              "\n",
              "          const docLinkHtml = 'Like what you see? Visit the ' +\n",
              "            '<a target=\"_blank\" href=https://colab.research.google.com/notebooks/data_table.ipynb>data table notebook</a>'\n",
              "            + ' to learn more about interactive tables.';\n",
              "          element.innerHTML = '';\n",
              "          dataTable['output_type'] = 'display_data';\n",
              "          await google.colab.output.renderOutput(dataTable, element);\n",
              "          const docLink = document.createElement('div');\n",
              "          docLink.innerHTML = docLinkHtml;\n",
              "          element.appendChild(docLink);\n",
              "        }\n",
              "      </script>\n",
              "    </div>\n",
              "  </div>\n",
              "  "
            ]
          },
          "metadata": {},
          "execution_count": 19
        }
      ],
      "source": [
        "print(\"Data Show Describe\")\n",
        "dataSet.describe()"
      ]
    },
    {
      "cell_type": "code",
      "execution_count": null,
      "metadata": {
        "colab": {
          "base_uri": "https://localhost:8080/"
        },
        "id": "aO2UmELwvNvD",
        "outputId": "93d8c352-3b36-4511-f433-a9a903e0504c"
      },
      "outputs": [
        {
          "output_type": "stream",
          "name": "stdout",
          "text": [
            "Datatype of Attributes\n",
            "\n",
            "<class 'pandas.core.frame.DataFrame'>\n",
            "RangeIndex: 19300680 entries, 0 to 19300679\n",
            "Data columns (total 21 columns):\n",
            " #   Column       Dtype  \n",
            "---  ------       -----  \n",
            " 0   fips         int64  \n",
            " 1   date         object \n",
            " 2   PRECTOT      float64\n",
            " 3   PS           float64\n",
            " 4   QV2M         float64\n",
            " 5   T2M          float64\n",
            " 6   T2MDEW       float64\n",
            " 7   T2MWET       float64\n",
            " 8   T2M_MAX      float64\n",
            " 9   T2M_MIN      float64\n",
            " 10  T2M_RANGE    float64\n",
            " 11  TS           float64\n",
            " 12  WS10M        float64\n",
            " 13  WS10M_MAX    float64\n",
            " 14  WS10M_MIN    float64\n",
            " 15  WS10M_RANGE  float64\n",
            " 16  WS50M        float64\n",
            " 17  WS50M_MAX    float64\n",
            " 18  WS50M_MIN    float64\n",
            " 19  WS50M_RANGE  float64\n",
            " 20  score        float64\n",
            "dtypes: float64(19), int64(1), object(1)\n",
            "memory usage: 3.0+ GB\n"
          ]
        }
      ],
      "source": [
        "print(\"Datatype of Attributes\\n\")\n",
        "dataSet.info()"
      ]
    },
    {
      "cell_type": "code",
      "execution_count": null,
      "metadata": {
        "colab": {
          "base_uri": "https://localhost:8080/"
        },
        "id": "MKTQGqsNv98I",
        "outputId": "98133fc6-f22b-485f-df45-be0dbe214426"
      },
      "outputs": [
        {
          "output_type": "stream",
          "name": "stdout",
          "text": [
            "Data Show Columns:\n",
            "\n"
          ]
        },
        {
          "output_type": "execute_result",
          "data": {
            "text/plain": [
              "Index(['fips', 'date', 'PRECTOT', 'PS', 'QV2M', 'T2M', 'T2MDEW', 'T2MWET',\n",
              "       'T2M_MAX', 'T2M_MIN', 'T2M_RANGE', 'TS', 'WS10M', 'WS10M_MAX',\n",
              "       'WS10M_MIN', 'WS10M_RANGE', 'WS50M', 'WS50M_MAX', 'WS50M_MIN',\n",
              "       'WS50M_RANGE', 'score'],\n",
              "      dtype='object')"
            ]
          },
          "metadata": {},
          "execution_count": 21
        }
      ],
      "source": [
        "print(\"Data Show Columns:\\n\")\n",
        "dataSet.columns"
      ]
    },
    {
      "cell_type": "code",
      "execution_count": null,
      "metadata": {
        "colab": {
          "base_uri": "https://localhost:8080/"
        },
        "id": "oz_UiHUDwD6M",
        "outputId": "6a0dae46-a4ce-4fc1-c9c6-f4c0b88876c6"
      },
      "outputs": [
        {
          "output_type": "stream",
          "name": "stdout",
          "text": [
            "Data Show Shape\n"
          ]
        },
        {
          "output_type": "execute_result",
          "data": {
            "text/plain": [
              "(19300680, 21)"
            ]
          },
          "metadata": {},
          "execution_count": 22
        }
      ],
      "source": [
        "print(\"Data Show Shape\")\n",
        "dataSet.shape"
      ]
    },
    {
      "cell_type": "code",
      "execution_count": null,
      "metadata": {
        "colab": {
          "base_uri": "https://localhost:8080/"
        },
        "id": "jr9sw4YBwLUH",
        "outputId": "6688d99a-119b-4ecf-acf1-a1674187a7d6"
      },
      "outputs": [
        {
          "output_type": "stream",
          "name": "stdout",
          "text": [
            "Sum of null values\n"
          ]
        },
        {
          "output_type": "execute_result",
          "data": {
            "text/plain": [
              "fips                  0\n",
              "date                  0\n",
              "PRECTOT               0\n",
              "PS                    0\n",
              "QV2M                  0\n",
              "T2M                   0\n",
              "T2MDEW                0\n",
              "T2MWET                0\n",
              "T2M_MAX               0\n",
              "T2M_MIN               0\n",
              "T2M_RANGE             0\n",
              "TS                    0\n",
              "WS10M                 0\n",
              "WS10M_MAX             0\n",
              "WS10M_MIN             0\n",
              "WS10M_RANGE           0\n",
              "WS50M                 0\n",
              "WS50M_MAX             0\n",
              "WS50M_MIN             0\n",
              "WS50M_RANGE           0\n",
              "score          16543884\n",
              "dtype: int64"
            ]
          },
          "metadata": {},
          "execution_count": 23
        }
      ],
      "source": [
        "print(\"Sum of null values\")\n",
        "dataSet.isnull().sum()"
      ]
    },
    {
      "cell_type": "code",
      "execution_count": null,
      "metadata": {
        "colab": {
          "base_uri": "https://localhost:8080/"
        },
        "id": "dA0b58cDwSYU",
        "outputId": "74e35372-3783-4130-d5e4-3b6ca7452e37"
      },
      "outputs": [
        {
          "output_type": "stream",
          "name": "stdout",
          "text": [
            "Null values in the data\n",
            "\n"
          ]
        },
        {
          "output_type": "execute_result",
          "data": {
            "text/plain": [
              "True"
            ]
          },
          "metadata": {},
          "execution_count": 24
        }
      ],
      "source": [
        "print(\"Null values in the data\\n\")\n",
        "dataSet.isnull().values.any()"
      ]
    },
    {
      "cell_type": "code",
      "execution_count": null,
      "metadata": {
        "colab": {
          "base_uri": "https://localhost:8080/"
        },
        "id": "wTFMjtN8woq7",
        "outputId": "c82fe713-81a9-45e4-ca8e-4d4d07fb9cdb"
      },
      "outputs": [
        {
          "output_type": "execute_result",
          "data": {
            "text/plain": [
              "fips           0\n",
              "date           0\n",
              "PRECTOT        0\n",
              "PS             0\n",
              "QV2M           0\n",
              "T2M            0\n",
              "T2MDEW         0\n",
              "T2MWET         0\n",
              "T2M_MAX        0\n",
              "T2M_MIN        0\n",
              "T2M_RANGE      0\n",
              "TS             0\n",
              "WS10M          0\n",
              "WS10M_MAX      0\n",
              "WS10M_MIN      0\n",
              "WS10M_RANGE    0\n",
              "WS50M          0\n",
              "WS50M_MAX      0\n",
              "WS50M_MIN      0\n",
              "WS50M_RANGE    0\n",
              "score          0\n",
              "dtype: int64"
            ]
          },
          "metadata": {},
          "execution_count": 25
        }
      ],
      "source": [
        "# Drop missing values in target variable\n",
        "dataSet = dataSet.dropna()\n",
        "dataSet.isnull().sum()"
      ]
    },
    {
      "cell_type": "code",
      "execution_count": null,
      "metadata": {
        "colab": {
          "base_uri": "https://localhost:8080/"
        },
        "id": "zH2Pdh18ZoKX",
        "outputId": "187a69c4-8afa-488c-9510-0f584be30475"
      },
      "outputs": [
        {
          "output_type": "stream",
          "name": "stdout",
          "text": [
            "Null values in the data\n",
            "\n"
          ]
        },
        {
          "output_type": "execute_result",
          "data": {
            "text/plain": [
              "False"
            ]
          },
          "metadata": {},
          "execution_count": 26
        }
      ],
      "source": [
        "print(\"Null values in the data\\n\")\n",
        "dataSet.isnull().values.any()"
      ]
    },
    {
      "cell_type": "code",
      "execution_count": null,
      "metadata": {
        "id": "udXpVEtHzLC0"
      },
      "outputs": [],
      "source": [
        "plt.figure(figsize=(12,6))\n",
        "sns.heatmap(dataSet.isnull(),cmap='RdPu')\n",
        "plt.show()"
      ]
    },
    {
      "cell_type": "code",
      "execution_count": null,
      "metadata": {
        "id": "YBO56SUtZoKY"
      },
      "outputs": [],
      "source": [
        "column_list = list(dataSet.columns)\n",
        "column_list"
      ]
    },
    {
      "cell_type": "code",
      "execution_count": null,
      "metadata": {
        "id": "GyHhCFNtZoKZ"
      },
      "outputs": [],
      "source": [
        "# Number of unique values in each of the columns.\n",
        "dataSet.nunique()"
      ]
    },
    {
      "cell_type": "code",
      "execution_count": null,
      "metadata": {
        "id": "MyBR9wf3ZoKZ"
      },
      "outputs": [],
      "source": [
        "date = dataSet['date']\n",
        "date.head()"
      ]
    },
    {
      "cell_type": "code",
      "execution_count": null,
      "metadata": {
        "id": "u42YDWyfZoKZ"
      },
      "outputs": [],
      "source": [
        "# Extract year, day and month into new columns\n",
        "dataSet['year'] = pd.DatetimeIndex(date).year\n",
        "dataSet['month'] = pd.DatetimeIndex(date).month\n",
        "dataSet['day'] = pd.DatetimeIndex(date).day\n",
        "dataSet.dtypes"
      ]
    },
    {
      "cell_type": "code",
      "execution_count": null,
      "metadata": {
        "id": "rk9bxBQeZoKa"
      },
      "outputs": [],
      "source": [
        "dataSet['score'].value_counts()"
      ]
    },
    {
      "cell_type": "code",
      "execution_count": null,
      "metadata": {
        "id": "nYecsqWIZoKa"
      },
      "outputs": [],
      "source": [
        "# Binning target variable into 6classes\n",
        "dataSet['score'] = dataSet['score'].round().astype(int)"
      ]
    },
    {
      "cell_type": "code",
      "execution_count": null,
      "metadata": {
        "id": "ph3VeQMNZoKb"
      },
      "outputs": [],
      "source": [
        "dataSet['score'].value_counts()"
      ]
    },
    {
      "cell_type": "code",
      "execution_count": null,
      "metadata": {
        "id": "ruPmBcKKZoKb"
      },
      "outputs": [],
      "source": [
        "dataSet.describe(include=['object'])"
      ]
    },
    {
      "cell_type": "code",
      "execution_count": null,
      "metadata": {
        "id": "EX5l2VALZoKb"
      },
      "outputs": [],
      "source": [
        "# Removing special characters from continuous features\n",
        "for c in ['fips', 'date', 'PRECTOT', 'PS', 'QV2M', 'T2M', 'T2MDEW', 'T2MWET',\n",
        "       'T2M_MAX', 'T2M_MIN', 'T2M_RANGE', 'TS', 'WS10M', 'WS10M_MAX',\n",
        "       'WS10M_MIN', 'WS10M_RANGE', 'WS50M', 'WS50M_MAX', 'WS50M_MIN',\n",
        "       'WS50M_RANGE', 'score']:\n",
        "    unique_val_cols = dataSet[c].unique()\n",
        "    print ('Unique values in ' , c , 'are ', unique_val_cols)"
      ]
    },
    {
      "cell_type": "code",
      "execution_count": null,
      "metadata": {
        "id": "GT_2Cg5MZoKc"
      },
      "outputs": [],
      "source": [
        "for c in ['fips', 'date', 'PRECTOT', 'PS', 'QV2M', 'T2M', 'T2MDEW', 'T2MWET',\n",
        "       'T2M_MAX', 'T2M_MIN', 'T2M_RANGE', 'TS', 'WS10M', 'WS10M_MAX',\n",
        "       'WS10M_MIN', 'WS10M_RANGE', 'WS50M', 'WS50M_MAX', 'WS50M_MIN',\n",
        "       'WS50M_RANGE', 'score']:\n",
        "    dataSet[c] = pd.to_numeric(dataSet[c], errors='coerce')"
      ]
    },
    {
      "cell_type": "code",
      "execution_count": null,
      "metadata": {
        "id": "AakEUT40ZoKc"
      },
      "outputs": [],
      "source": [
        "dataSet.info()"
      ]
    },
    {
      "cell_type": "code",
      "execution_count": null,
      "metadata": {
        "id": "A8D5jM7_ZoKc"
      },
      "outputs": [],
      "source": [
        "sns.set(style=\"darkgrid\")\n",
        "dataSet.hist(bins=10,figsize=(15,13) ,color = 'navy', alpha = 0.5)\n",
        "plt.show()"
      ]
    },
    {
      "cell_type": "markdown",
      "metadata": {
        "id": "UUPw-QKOZoKc"
      },
      "source": [
        "## The Drought dataset is a labelled dataset. Distribution of scores is analyzed to identify if data is biased or not.\n",
        "## It can be seen that the features PRICTOT ,WS10M-MIN,WS50M-MIN,WS10M-RANGE are skewed to the left.\n",
        "## The features PS,T2M,T2M-MAX are skewed to the right while remaining features are fairly well distributed across all range."
      ]
    },
    {
      "cell_type": "markdown",
      "metadata": {
        "id": "XN5_rg3TZoKd"
      },
      "source": [
        "# Exploratory Data Analysis"
      ]
    },
    {
      "cell_type": "markdown",
      "metadata": {
        "id": "v3PBfFe9ZoKd"
      },
      "source": [
        "## Univariate Analysis on Descriptive Statistics"
      ]
    },
    {
      "cell_type": "code",
      "execution_count": null,
      "metadata": {
        "id": "aMJDyE0bZoKd"
      },
      "outputs": [],
      "source": [
        "# For numeric \n",
        "dataSet.describe()"
      ]
    },
    {
      "cell_type": "code",
      "execution_count": null,
      "metadata": {
        "id": "TF4z2ax_ZoKd"
      },
      "outputs": [],
      "source": [
        "# For categorical\n",
        "dataSet[[\"year\",\"month\",\"day\"]].describe()"
      ]
    },
    {
      "cell_type": "code",
      "execution_count": null,
      "metadata": {
        "id": "ZcmHrf44ZoKe"
      },
      "outputs": [],
      "source": [
        "print(\"Skewness\")\n",
        "dataSet.skew(axis = 0, skipna = True)"
      ]
    },
    {
      "cell_type": "code",
      "execution_count": null,
      "metadata": {
        "id": "kJ8l-Q4uZoKe"
      },
      "outputs": [],
      "source": [
        "print(\"Kurtosis\")\n",
        "dataSet.kurtosis(axis = 0, skipna = True)"
      ]
    },
    {
      "cell_type": "markdown",
      "metadata": {
        "id": "kZEPLUuWZoKe"
      },
      "source": [
        "# Exploratory Data Analysis"
      ]
    },
    {
      "cell_type": "markdown",
      "metadata": {
        "id": "snKeT1sBZoKe"
      },
      "source": [
        "## Univariate Analysis on Distribution of continuous variables"
      ]
    },
    {
      "cell_type": "code",
      "execution_count": null,
      "metadata": {
        "id": "IKL44jKaZoKf"
      },
      "outputs": [],
      "source": [
        "list_of_columns = ['PRECTOT','PS','QV2M','T2M','T2MDEW','T2MWET','T2M_MAX','T2M_MIN','T2M_RANGE','TS','WS10M','WS10M_MAX','WS10M_MIN','WS10M_RANGE','WS50M','WS50M_MAX','WS50M_MIN','WS50M_RANGE']\n",
        "measures_df = dataSet[['PRECTOT','PS','QV2M','T2M','T2MDEW','T2MWET','T2M_MAX','T2M_MIN','T2M_RANGE','TS','WS10M','WS10M_MAX','WS10M_MIN','WS10M_RANGE','WS50M','WS50M_MAX','WS50M_MIN','WS50M_RANGE']]"
      ]
    },
    {
      "cell_type": "code",
      "execution_count": null,
      "metadata": {
        "id": "s9xCcyBRZoKf"
      },
      "outputs": [],
      "source": [
        "for col in list_of_columns:\n",
        "    plt.figure()\n",
        "    plt.hist(dataSet[col], density = True)\n",
        "    x = col\n",
        "    plt.xlabel(x)\n",
        "    y = 'Density'\n",
        "    plt.ylabel(y)\n",
        "    plt.title('Distribution of {xLabel}'.format(xLabel=x))"
      ]
    },
    {
      "cell_type": "markdown",
      "metadata": {
        "id": "wghbk4LMZoKj"
      },
      "source": [
        "# Identifying the outliers"
      ]
    },
    {
      "cell_type": "code",
      "execution_count": null,
      "metadata": {
        "id": "BFYb9X_eZoKj"
      },
      "outputs": [],
      "source": [
        "for column in measures_df:\n",
        "        plt.figure(figsize=(12,0.8))\n",
        "        sns.boxplot(data=measures_df, x=column,palette=\"Paired\")\n",
        "        plt.title(f'{column}''s Distribution')  "
      ]
    },
    {
      "cell_type": "code",
      "execution_count": null,
      "metadata": {
        "id": "OK4a_ebjZoKj"
      },
      "outputs": [],
      "source": [
        "print('Total rows:')\n",
        "len(measures_df.index)"
      ]
    },
    {
      "cell_type": "code",
      "execution_count": null,
      "metadata": {
        "id": "S-SsHzhCZoKk"
      },
      "outputs": [],
      "source": [
        "for i in measures_df.select_dtypes(exclude = ['object']).columns:\n",
        "    print ('# of rows beyond range of 3 standard deviations in ', i)\n",
        "    print(len(measures_df[(measures_df[i] > measures_df[i].mean() + 3*measures_df[i].std()) | (measures_df[i] < measures_df[i].mean() - 3*measures_df[i].std())]))"
      ]
    },
    {
      "cell_type": "markdown",
      "metadata": {
        "id": "GoLeRX0RZoKk"
      },
      "source": [
        "# Deleting the values which are beyond the outlier value limit"
      ]
    },
    {
      "cell_type": "code",
      "execution_count": null,
      "metadata": {
        "id": "VYpvqAKPZoKk"
      },
      "outputs": [],
      "source": [
        "dataSet = dataSet[(dataSet['PRECTOT'] <= dataSet['PRECTOT'].mean() + 3*dataSet['PRECTOT'].std()) &\n",
        "        (dataSet['PRECTOT'] >= dataSet['PRECTOT'].mean() - 3*dataSet['PRECTOT'].std())]"
      ]
    },
    {
      "cell_type": "code",
      "execution_count": null,
      "metadata": {
        "id": "axIOfyoCZoKk"
      },
      "outputs": [],
      "source": [
        "dataSet = dataSet[(dataSet['PS'] <= dataSet['PS'].mean() + 3*dataSet['PS'].std()) &\n",
        "        (dataSet['PS'] >= dataSet['PS'].mean() - 3*dataSet['PS'].std())]"
      ]
    },
    {
      "cell_type": "code",
      "execution_count": null,
      "metadata": {
        "id": "nV-tmZirZoKk"
      },
      "outputs": [],
      "source": [
        "dataSet = dataSet[(dataSet['QV2M'] <= dataSet['QV2M'].mean() + 3*dataSet['QV2M'].std()) &\n",
        "        (dataSet['QV2M'] >= dataSet['QV2M'].mean() - 3*dataSet['QV2M'].std())]"
      ]
    },
    {
      "cell_type": "code",
      "execution_count": null,
      "metadata": {
        "id": "M5QpBC4kZoKk"
      },
      "outputs": [],
      "source": [
        "dataSet = dataSet[(dataSet['T2M'] <= dataSet['T2M'].mean() + 3*dataSet['T2M'].std()) &\n",
        "        (dataSet['T2M'] >= dataSet['T2M'].mean() - 3*dataSet['T2M'].std())]"
      ]
    },
    {
      "cell_type": "code",
      "execution_count": null,
      "metadata": {
        "id": "Pd1x7rWnZoKl"
      },
      "outputs": [],
      "source": [
        "dataSet = dataSet[(dataSet['T2MDEW'] <= dataSet['T2MDEW'].mean() + 3*dataSet['T2MDEW'].std()) &\n",
        "        (dataSet['T2MDEW'] >= dataSet['T2MDEW'].mean() - 3*dataSet['T2MDEW'].std())]"
      ]
    },
    {
      "cell_type": "code",
      "execution_count": null,
      "metadata": {
        "id": "Aa0Iwkf5ZoKl"
      },
      "outputs": [],
      "source": [
        "dataSet = dataSet[(dataSet['T2MWET'] <= dataSet['T2MWET'].mean() + 3*dataSet['T2MWET'].std()) &\n",
        "        (dataSet['T2MWET'] >= dataSet['T2MWET'].mean() - 3*dataSet['T2MWET'].std())]"
      ]
    },
    {
      "cell_type": "code",
      "execution_count": null,
      "metadata": {
        "id": "Ar9updDgZoKl"
      },
      "outputs": [],
      "source": [
        "dataSet = dataSet[(dataSet['T2M_MAX'] <= dataSet['T2M_MAX'].mean() + 3*dataSet['T2M_MAX'].std()) &\n",
        "        (dataSet['T2M_MAX'] >= dataSet['T2M_MAX'].mean() - 3*dataSet['T2M_MAX'].std())]"
      ]
    },
    {
      "cell_type": "code",
      "execution_count": null,
      "metadata": {
        "id": "_AptEwjaZoKl"
      },
      "outputs": [],
      "source": [
        "dataSet = dataSet[(dataSet['T2M_MIN'] <= dataSet['T2M_MIN'].mean() + 3*dataSet['T2M_MIN'].std()) &\n",
        "        (dataSet['T2M_MIN'] >= dataSet['T2M_MIN'].mean() - 3*dataSet['T2M_MIN'].std())]"
      ]
    },
    {
      "cell_type": "code",
      "execution_count": null,
      "metadata": {
        "id": "6co9nzaIZoKl"
      },
      "outputs": [],
      "source": [
        "dataSet = dataSet[(dataSet['T2M_RANGE'] <= dataSet['T2M_RANGE'].mean() + 3*dataSet['T2M_RANGE'].std()) &\n",
        "        (dataSet['T2M_RANGE'] >= dataSet['T2M_RANGE'].mean() - 3*dataSet['T2M_RANGE'].std())]"
      ]
    },
    {
      "cell_type": "code",
      "execution_count": null,
      "metadata": {
        "id": "ut5-tdPZZoKl"
      },
      "outputs": [],
      "source": [
        "dataSet = dataSet[(dataSet['TS'] <= dataSet['TS'].mean() + 3*dataSet['TS'].std()) &\n",
        "        (dataSet['TS'] >= dataSet['TS'].mean() - 3*dataSet['TS'].std())]"
      ]
    },
    {
      "cell_type": "code",
      "execution_count": null,
      "metadata": {
        "id": "3R1iJMQHZoKm"
      },
      "outputs": [],
      "source": [
        "dataSet = dataSet[(dataSet['WS10M'] <= dataSet['WS10M'].mean() + 3*dataSet['WS10M'].std()) &\n",
        "        (dataSet['WS10M'] >= dataSet['WS10M'].mean() - 3*dataSet['WS10M'].std())]"
      ]
    },
    {
      "cell_type": "code",
      "execution_count": null,
      "metadata": {
        "id": "Lj6gGkLTZoKm"
      },
      "outputs": [],
      "source": [
        "dataSet = dataSet[(dataSet['WS10M_MAX'] <= dataSet['WS10M_MAX'].mean() + 3*dataSet['WS10M_MAX'].std()) &\n",
        "        (dataSet['WS10M_MAX'] >= dataSet['WS10M_MAX'].mean() - 3*dataSet['WS10M_MAX'].std())]"
      ]
    },
    {
      "cell_type": "code",
      "execution_count": null,
      "metadata": {
        "id": "hQSXEALjZoKm"
      },
      "outputs": [],
      "source": [
        "dataSet = dataSet[(dataSet['WS10M_MIN'] <= dataSet['WS10M_MIN'].mean() + 3*dataSet['WS10M_MIN'].std()) &\n",
        "        (dataSet['WS10M_MIN'] >= dataSet['WS10M_MIN'].mean() - 3*dataSet['WS10M_MIN'].std())]"
      ]
    },
    {
      "cell_type": "code",
      "execution_count": null,
      "metadata": {
        "id": "i4vc-2xgZoKm"
      },
      "outputs": [],
      "source": [
        "dataSet = dataSet[(dataSet['WS10M_RANGE'] <= dataSet['WS10M_RANGE'].mean() + 3*dataSet['WS10M_RANGE'].std()) &\n",
        "        (dataSet['WS10M_RANGE'] >= dataSet['WS10M_RANGE'].mean() - 3*dataSet['WS10M_RANGE'].std())]"
      ]
    },
    {
      "cell_type": "code",
      "execution_count": null,
      "metadata": {
        "id": "jFGpqwHWZoKm"
      },
      "outputs": [],
      "source": [
        "dataSet = dataSet[(dataSet['WS50M'] <= dataSet['WS50M'].mean() + 3*dataSet['WS50M'].std()) &\n",
        "        (dataSet['WS50M'] >= dataSet['WS50M'].mean() - 3*dataSet['WS50M'].std())]"
      ]
    },
    {
      "cell_type": "code",
      "execution_count": null,
      "metadata": {
        "id": "2FU1_swVZoKn"
      },
      "outputs": [],
      "source": [
        "dataSet = dataSet[(dataSet['WS50M_MAX'] <= dataSet['WS50M_MAX'].mean() + 3*dataSet['WS50M_MAX'].std()) &\n",
        "        (dataSet['WS50M_MAX'] >= dataSet['WS50M_MAX'].mean() - 3*dataSet['WS50M_MAX'].std())]"
      ]
    },
    {
      "cell_type": "code",
      "execution_count": null,
      "metadata": {
        "id": "taPO4uOGZoKn"
      },
      "outputs": [],
      "source": [
        "dataSet = dataSet[(dataSet['WS50M_MIN'] <= dataSet['WS50M_MIN'].mean() + 3*dataSet['WS50M_MIN'].std()) &\n",
        "        (dataSet['WS50M_MIN'] >= dataSet['WS50M_MIN'].mean() - 3*dataSet['WS50M_MIN'].std())]"
      ]
    },
    {
      "cell_type": "code",
      "execution_count": null,
      "metadata": {
        "id": "Hbdrs9caZoKn"
      },
      "outputs": [],
      "source": [
        "dataSet = dataSet[(dataSet['WS50M_RANGE'] <= dataSet['WS50M_RANGE'].mean() + 3*dataSet['WS50M_RANGE'].std()) &\n",
        "        (dataSet['WS50M_RANGE'] >= dataSet['WS50M_RANGE'].mean() - 3*dataSet['WS50M_RANGE'].std())]"
      ]
    },
    {
      "cell_type": "code",
      "execution_count": null,
      "metadata": {
        "id": "PRnSsgzeZoKn"
      },
      "outputs": [],
      "source": [
        "print('Total rows:')\n",
        "len(dataSet.index)"
      ]
    },
    {
      "cell_type": "markdown",
      "metadata": {
        "id": "hbURko8eZoKf"
      },
      "source": [
        "# Univariate Analysis on distribution of categorical variables"
      ]
    },
    {
      "cell_type": "code",
      "execution_count": null,
      "metadata": {
        "id": "NRNTsoi_ZoKf"
      },
      "outputs": [],
      "source": [
        "categorical_columns = ['score','year','month','day']\n",
        "categorical_data = dataSet[['score','year','month','day']]"
      ]
    },
    {
      "cell_type": "code",
      "execution_count": null,
      "metadata": {
        "id": "hC42DTSPZoKf"
      },
      "outputs": [],
      "source": [
        "#categorical variables\n",
        "plt.figure(figsize=(10,40))\n",
        "for col in categorical_columns:\n",
        "    plt.figure()\n",
        "    categorical_data[col].value_counts().plot(kind = 'bar')\n",
        "    x_label = col\n",
        "    y_label = 'DENSITY'\n",
        "    plt.ylabel(y_label)\n",
        "    plt.xlabel(x_label)\n",
        "    plt.title('{x_name} distribution'.format(x_name=x_label))\n",
        "    plt.tight_layout()"
      ]
    },
    {
      "cell_type": "markdown",
      "metadata": {
        "id": "JKLHC4UIZoKg"
      },
      "source": [
        "# Bivariate analysis on categorical variables"
      ]
    },
    {
      "cell_type": "code",
      "execution_count": null,
      "metadata": {
        "id": "o4BidmtuZoKg"
      },
      "outputs": [],
      "source": [
        "plt.scatter(dataSet['year'], dataSet['score'], c =\"green\")\n",
        "plt.show()"
      ]
    },
    {
      "cell_type": "code",
      "execution_count": null,
      "metadata": {
        "id": "vV98AjxmZoKg"
      },
      "outputs": [],
      "source": [
        "\n",
        "\n",
        "plt.scatter(dataSet['month'], dataSet['score'], c =\"blue\")\n",
        "plt.show()"
      ]
    },
    {
      "cell_type": "code",
      "execution_count": null,
      "metadata": {
        "id": "3N_pYFgWZoKg"
      },
      "outputs": [],
      "source": [
        "plt.scatter(dataSet['day'], dataSet['score'], c =\"black\")\n",
        "plt.show()"
      ]
    },
    {
      "cell_type": "code",
      "execution_count": null,
      "metadata": {
        "id": "ptvVVm1KZoKh"
      },
      "outputs": [],
      "source": [
        "plt.scatter(dataSet['QV2M'], dataSet['T2M'], c =dataSet['score'])\n",
        "plt.xlabel('QV2M')\n",
        "plt.ylabel('T2M')\n",
        "plt.title('Variation of T2M vs QV2M')\n",
        "plt.show()"
      ]
    },
    {
      "cell_type": "code",
      "execution_count": null,
      "metadata": {
        "id": "zIuJJncgZoKh"
      },
      "outputs": [],
      "source": [
        "plt.scatter(dataSet['T2M'], dataSet['T2MDEW'], c =dataSet['score'])\n",
        "plt.xlabel('T2M')\n",
        "plt.ylabel('T2MDEW')\n",
        "plt.title('Variation of T2M vs T2MDEW')\n",
        "plt.show()"
      ]
    },
    {
      "cell_type": "code",
      "execution_count": null,
      "metadata": {
        "id": "U3LJi9_OZoKh"
      },
      "outputs": [],
      "source": [
        "temp_dataSet = dataSet[dataSet['score']==5]\n",
        "plt.scatter(dataSet['WS10M'], dataSet['WS50M'], c= dataSet['score'])\n",
        "plt.xlabel('WS10M')\n",
        "plt.ylabel('WS50M')\n",
        "plt.title('Variation of WS10M vs WS50M')\n",
        "plt.show()"
      ]
    },
    {
      "cell_type": "markdown",
      "metadata": {
        "id": "DzzMi0HgZoKh"
      },
      "source": [
        "# To understand the correlations between features scatter plots were drawn to find out the attributes having strong correlation."
      ]
    },
    {
      "cell_type": "markdown",
      "metadata": {
        "id": "WdfPQxXYZoKh"
      },
      "source": [
        "# In the above scatter plots we can observe that the independent variables have shown strong positive correlation."
      ]
    },
    {
      "cell_type": "markdown",
      "metadata": {
        "id": "SUsGoBCSZoKi"
      },
      "source": [
        "# The pairs WS10M - WS50M have the one-to-one relationship."
      ]
    },
    {
      "cell_type": "markdown",
      "metadata": {
        "id": "oRDqv3q3ZoKi"
      },
      "source": [
        "# The features T2M – T2MDEW and QV2M - T2M relationship is not inear, although we can say that the overall they have strong correlation."
      ]
    },
    {
      "cell_type": "markdown",
      "metadata": {
        "id": "SDEKOPLZZoKi"
      },
      "source": [
        "# Stripping target values from dataset"
      ]
    },
    {
      "cell_type": "code",
      "execution_count": null,
      "metadata": {
        "id": "BzAj4ePvZoKi"
      },
      "outputs": [],
      "source": [
        "features = dataSet.drop('score', 1)\n",
        "features = features.drop('date', 1)\n",
        "features = features.drop('fips', 1)"
      ]
    },
    {
      "cell_type": "code",
      "execution_count": null,
      "metadata": {
        "id": "UTz5wEG1ZoKj"
      },
      "outputs": [],
      "source": [
        "features"
      ]
    },
    {
      "cell_type": "code",
      "execution_count": null,
      "metadata": {
        "id": "1KuAaNv7ZoKj"
      },
      "outputs": [],
      "source": [
        "target = dataSet['score']\n",
        "target.head()"
      ]
    },
    {
      "cell_type": "markdown",
      "metadata": {
        "id": "Nuy5ioiWZoKn"
      },
      "source": [
        "# Correlation between features"
      ]
    },
    {
      "cell_type": "code",
      "execution_count": null,
      "metadata": {
        "id": "pGdAs28MZoKn"
      },
      "outputs": [],
      "source": [
        "correlation_plot = measures_df.corr()\n",
        "correlation_plot.style.background_gradient(cmap = 'YlGnBu')"
      ]
    },
    {
      "cell_type": "markdown",
      "metadata": {
        "id": "w7WFZDK9ZoKo"
      },
      "source": [
        "# Attributes T2M_MAX, T2M_MIN, T2MDEW, T2MWET, QV2M, T2M, and TS have shown strong positive correlation"
      ]
    },
    {
      "cell_type": "markdown",
      "metadata": {
        "id": "veq55pyIZoKo"
      },
      "source": [
        "# Likewise, WS10M, WS10M_MAX and WS10M_MIN have shown a strong positve correlation"
      ]
    },
    {
      "cell_type": "markdown",
      "metadata": {
        "id": "xJQvjJU9ZoKo"
      },
      "source": [
        "# Similarly, WS50M, WS50M_MAX and WS50M_MIN show strong positive correlation"
      ]
    },
    {
      "cell_type": "markdown",
      "metadata": {
        "id": "1TWmSkfNZoKo"
      },
      "source": [
        "# But, from the scatter plots above, we see significant variance between the data points, despite the strong positive correlation. Hence,all the variables are retained, and other feature selection methods needs to be experimented."
      ]
    },
    {
      "cell_type": "markdown",
      "metadata": {
        "id": "A-qn-mLRZoKp"
      },
      "source": [
        "# Splitting the dataset into training and testing data"
      ]
    },
    {
      "cell_type": "code",
      "execution_count": null,
      "metadata": {
        "id": "kzxMzqf0iqtU"
      },
      "outputs": [],
      "source": [
        "features.shape"
      ]
    },
    {
      "cell_type": "code",
      "execution_count": null,
      "metadata": {
        "id": "MeBPJilWZoKp"
      },
      "outputs": [],
      "source": [
        "x_train, x_test, y_train, y_test = train_test_split(features, target, test_size=0.25, random_state=0)"
      ]
    },
    {
      "cell_type": "code",
      "execution_count": null,
      "metadata": {
        "id": "XcE2ZpjbZoKp"
      },
      "outputs": [],
      "source": [
        "print(\"Shape of train features:\")\n",
        "x_train.shape"
      ]
    },
    {
      "cell_type": "code",
      "execution_count": null,
      "metadata": {
        "id": "qsgv0xzCZoKp"
      },
      "outputs": [],
      "source": [
        "print(\"Shape of train targets:\") \n",
        "y_train.shape"
      ]
    },
    {
      "cell_type": "code",
      "execution_count": null,
      "metadata": {
        "id": "bY3GtJA8ZoKp"
      },
      "outputs": [],
      "source": [
        "print(\"Shape of test features:\")\n",
        "x_test.shape"
      ]
    },
    {
      "cell_type": "code",
      "execution_count": null,
      "metadata": {
        "id": "9HHL5_nhZoKq"
      },
      "outputs": [],
      "source": [
        "print(\"Shape of test target:\")\n",
        "y_test.shape"
      ]
    },
    {
      "cell_type": "markdown",
      "metadata": {
        "id": "pPJAPOPhaOLx"
      },
      "source": [
        "#Data Standardization"
      ]
    },
    {
      "cell_type": "code",
      "source": [
        "scaler = StandardScaler()\n",
        "x_train = scaler.fit_transform(x_train)\n",
        "x_test = scaler.transform(x_test)"
      ],
      "metadata": {
        "id": "3wPyIeNXXCaK"
      },
      "execution_count": null,
      "outputs": []
    },
    {
      "cell_type": "markdown",
      "metadata": {
        "id": "ZaoiViC1b9I7"
      },
      "source": [
        "#Feature Selection"
      ]
    },
    {
      "cell_type": "code",
      "source": [
        "Estimator = RandomForestClassifier(n_estimators=9) \n",
        "#using random forest as the estimator for recursive feature extractor"
      ],
      "metadata": {
        "id": "joAMW7sxXGSt"
      },
      "execution_count": null,
      "outputs": []
    },
    {
      "cell_type": "code",
      "execution_count": null,
      "metadata": {
        "id": "Ozek9KUCtDip"
      },
      "outputs": [],
      "source": [
        "FeatureExtractor = RFE(estimator=Estimator, n_features_to_select=15)\n",
        "fitter = FeatureExtractor.fit(x_train, y_train)"
      ]
    },
    {
      "cell_type": "code",
      "execution_count": null,
      "metadata": {
        "id": "-_tqdTidZmgx"
      },
      "outputs": [],
      "source": [
        "print(\"Number of Extracted Features: %s\" % (fitter.n_features_))"
      ]
    },
    {
      "cell_type": "code",
      "execution_count": null,
      "metadata": {
        "id": "PTljFfuoZnND"
      },
      "outputs": [],
      "source": [
        "print(\"Extracted Features: %s\" % (fitter.support_))"
      ]
    },
    {
      "cell_type": "code",
      "execution_count": null,
      "metadata": {
        "id": "b_wBYT8EZpwW"
      },
      "outputs": [],
      "source": [
        "print(\"Ranking of Features: %s\" % (fitter.ranking_))"
      ]
    },
    {
      "cell_type": "code",
      "execution_count": null,
      "metadata": {
        "id": "UqiRdybhZ7DO"
      },
      "outputs": [],
      "source": [
        "extracted_features = features.columns[(fitter.get_support())]"
      ]
    },
    {
      "cell_type": "code",
      "execution_count": null,
      "metadata": {
        "id": "6IFDqiC6Z8wE"
      },
      "outputs": [],
      "source": [
        "print(extracted_features)"
      ]
    },
    {
      "cell_type": "code",
      "execution_count": null,
      "metadata": {
        "id": "XBnrWaIIzly_"
      },
      "outputs": [],
      "source": [
        "features = features.drop('PRECTOT', 1)\n",
        "features = features.drop('T2MWET', 1)\n",
        "features = features.drop('WS10M_MAX', 1)\n",
        "features = features.drop('WS10M_MIN', 1)\n",
        "features = features.drop('WS50M_MIN', 1)\n",
        "features = features.drop('month', 1)\n",
        "features.head()"
      ]
    },
    {
      "cell_type": "code",
      "execution_count": null,
      "metadata": {
        "id": "BqIje68E0V6D"
      },
      "outputs": [],
      "source": [
        "x_train, x_test, y_train, y_test = train_test_split(features, target, test_size=0.25, random_state=0)"
      ]
    },
    {
      "cell_type": "code",
      "execution_count": null,
      "metadata": {
        "id": "T-fjzW_30jSF"
      },
      "outputs": [],
      "source": [
        "print(\"Train shape\", x_train.shape)"
      ]
    },
    {
      "cell_type": "code",
      "execution_count": null,
      "metadata": {
        "id": "xmOokhq20l-B"
      },
      "outputs": [],
      "source": [
        "print(\"Test shape\", x_test.shape)"
      ]
    },
    {
      "cell_type": "code",
      "execution_count": null,
      "metadata": {
        "id": "u7BChXCl0gM7"
      },
      "outputs": [],
      "source": [
        "sc = StandardScaler()\n",
        "x_train = sc.fit_transform(x_train)\n",
        "x_test = sc.transform(x_test)"
      ]
    },
    {
      "cell_type": "markdown",
      "source": [
        "#Class Imbalance"
      ],
      "metadata": {
        "id": "AYdDu976Y4sj"
      }
    },
    {
      "cell_type": "markdown",
      "source": [
        "##Downsampling using Neighborhood Cleaning Rule"
      ],
      "metadata": {
        "id": "b5-L_pjSZEZU"
      }
    },
    {
      "cell_type": "code",
      "source": [
        "downsampler = NeighbourhoodCleaningRule(n_neighbors=3, threshold_cleaning=0.5)"
      ],
      "metadata": {
        "id": "i2pI0NGFXx_o"
      },
      "execution_count": null,
      "outputs": []
    },
    {
      "cell_type": "code",
      "source": [
        "x_train_dres, y_train_dres = downsampler.fit_resample(x_train, y_train)"
      ],
      "metadata": {
        "id": "NYuWrEbMZKjG"
      },
      "execution_count": null,
      "outputs": []
    },
    {
      "cell_type": "code",
      "source": [
        "print('Before UnderSampling, the shape of train_X: {}'.format(x_train.shape))\n",
        "print('Before UnderSampling, the shape of train_y: {} \\n'.format(y_train.shape))\n",
        "\n",
        "print('After UnderSampling, the shape of train_X: {}'.format(x_train_dres.shape))\n",
        "print('After UnderSampling, the shape of train_y: {} \\n'.format(y_train_dres.shape))\n",
        "\n",
        "print(\"Counts of label '0' - Before UnderSampling:{}, After UnderSampling: {}\".format(sum(y_train == 0),sum(y_train_dres == 0)))\n",
        "print(\"Counts of label '1' - Before UnderSampling:{}, After UnderSampling: {}\".format(sum(y_train == 1),sum(y_train_dres == 1)))\n",
        "print(\"Counts of label '2' - Before UnderSampling:{}, After UnderSampling: {}\".format(sum(y_train == 2),sum(y_train_dres == 2)))\n",
        "print(\"Counts of label '3' - Before UnderSampling:{}, After UnderSampling: {}\".format(sum(y_train == 3),sum(y_train_dres == 3)))\n",
        "print(\"Counts of label '4' - Before UnderSampling:{}, After UnderSampling: {}\".format(sum(y_train == 4),sum(y_train_dres == 4)))\n",
        "print(\"Counts of label '5' - Before UnderSampling:{}, After UnderSampling: {}\".format(sum(y_train == 5),sum(y_train_dres == 5)))"
      ],
      "metadata": {
        "id": "bqwXe37SbEbc"
      },
      "execution_count": null,
      "outputs": []
    },
    {
      "cell_type": "markdown",
      "source": [
        "##Downsampling using Near Miss"
      ],
      "metadata": {
        "id": "RdC5ripHbSpX"
      }
    },
    {
      "cell_type": "code",
      "source": [
        "downsampler = NearMiss()"
      ],
      "metadata": {
        "id": "hlfvcMZKbN1v"
      },
      "execution_count": null,
      "outputs": []
    },
    {
      "cell_type": "code",
      "source": [
        "x_train_dres_nm, y_train_dres_nm = downsampler.fit_resample(x_train, y_train)"
      ],
      "metadata": {
        "id": "JMeQVmxLbYpc"
      },
      "execution_count": null,
      "outputs": []
    },
    {
      "cell_type": "code",
      "source": [
        "print('Before UnderSampling, the shape of train_X: {}'.format(x_train.shape))\n",
        "print('Before UnderSampling, the shape of train_y: {} \\n'.format(y_train.shape))\n",
        "\n",
        "print('After UnderSampling, the shape of train_X: {}'.format(x_train_dres_nm.shape))\n",
        "print('After UnderSampling, the shape of train_y: {} \\n'.format(y_train_dres_nm.shape))\n",
        "\n",
        "print(\"Counts of label '0' - Before UnderSampling:{}, After UnderSampling: {}\".format(sum(y_train == 0),sum(y_train_dres_nm == 0)))\n",
        "print(\"Counts of label '1' - Before UnderSampling:{}, After UnderSampling: {}\".format(sum(y_train == 1),sum(y_train_dres_nm == 1)))\n",
        "print(\"Counts of label '2' - Before UnderSampling:{}, After UnderSampling: {}\".format(sum(y_train == 2),sum(y_train_dres_nm == 2)))\n",
        "print(\"Counts of label '3' - Before UnderSampling:{}, After UnderSampling: {}\".format(sum(y_train == 3),sum(y_train_dres_nm == 3)))\n",
        "print(\"Counts of label '4' - Before UnderSampling:{}, After UnderSampling: {}\".format(sum(y_train == 4),sum(y_train_dres_nm == 4)))\n",
        "print(\"Counts of label '5' - Before UnderSampling:{}, After UnderSampling: {}\".format(sum(y_train == 5),sum(y_train_dres_nm == 5)))"
      ],
      "metadata": {
        "id": "VQe6vIf0bhRY"
      },
      "execution_count": null,
      "outputs": []
    },
    {
      "cell_type": "markdown",
      "source": [
        "##Upsampling using SMOTE"
      ],
      "metadata": {
        "id": "7Dv3WSvUbqaB"
      }
    },
    {
      "cell_type": "code",
      "source": [
        "upsampler = SMOTE(random_state = 5)"
      ],
      "metadata": {
        "id": "yd5mOYoUbraF"
      },
      "execution_count": null,
      "outputs": []
    },
    {
      "cell_type": "code",
      "source": [
        "x_train_ures_SMOTE, y_train_ures_SMOTE = upsampler.fit_resample(x_train, y_train.ravel())"
      ],
      "metadata": {
        "id": "PJJvXiNCbwBL"
      },
      "execution_count": null,
      "outputs": []
    },
    {
      "cell_type": "code",
      "source": [
        "print('Before OverSampling, the shape of train_X: {}'.format(x_train.shape))\n",
        "print('Before OverSampling, the shape of train_y: {} \\n'.format(y_train.shape))\n",
        "\n",
        "print('After OverSampling, the shape of train_X: {}'.format(x_train_ures_SMOTE.shape))\n",
        "print('After OverSampling, the shape of train_y: {} \\n'.format(y_train_ures_SMOTE.shape))\n",
        "\n",
        "print(\"Counts of label '0' - Before Oversampling:{}, After OverSampling: {}\".format(sum(y_train == 0),sum(y_train_ures_SMOTE == 0)))\n",
        "print(\"Counts of label '1' - Before Oversampling:{}, After OverSampling: {}\".format(sum(y_train == 1),sum(y_train_ures_SMOTE == 1)))\n",
        "print(\"Counts of label '2' - Before Oversampling:{}, After OverSampling: {}\".format(sum(y_train == 2),sum(y_train_ures_SMOTE == 2)))\n",
        "print(\"Counts of label '3' - Before Oversampling:{}, After OverSampling: {}\".format(sum(y_train == 3),sum(y_train_ures_SMOTE == 3)))\n",
        "print(\"Counts of label '4' - Before Oversampling:{}, After OverSampling: {}\".format(sum(y_train == 4),sum(y_train_ures_SMOTE == 4)))\n",
        "print(\"Counts of label '5' - Before Oversampling:{}, After OverSampling: {}\".format(sum(y_train == 5),sum(y_train_ures_SMOTE == 5)))"
      ],
      "metadata": {
        "id": "_97ls7vtb2Ie"
      },
      "execution_count": null,
      "outputs": []
    },
    {
      "cell_type": "markdown",
      "source": [
        "#**Dimentionality** **Reduction**"
      ],
      "metadata": {
        "id": "jOW-nBJhEM_N"
      }
    },
    {
      "cell_type": "markdown",
      "source": [
        "#**Linear Discriminant Analysis**\n",
        "\n",
        "\n"
      ],
      "metadata": {
        "id": "KW3pVMdf2qej"
      }
    },
    {
      "cell_type": "markdown",
      "source": [
        "####**Linear** **Discriminant Analysis on UpSampled Data using SMOTE**"
      ],
      "metadata": {
        "id": "NVGE1SVpEHM7"
      }
    },
    {
      "cell_type": "code",
      "source": [
        "LDanalysis = LDA(n_components=5)\n"
      ],
      "metadata": {
        "id": "x5xJeD3eEa8K"
      },
      "execution_count": null,
      "outputs": []
    },
    {
      "cell_type": "code",
      "source": [
        "X_train_upsampled_LDA=LDanalysis.fit_transform(x_train_ures_SMOTE,y_train_ures_SMOTE)"
      ],
      "metadata": {
        "id": "5F64Yat6EDoj"
      },
      "execution_count": null,
      "outputs": []
    },
    {
      "cell_type": "code",
      "source": [
        "X_test_upsampled_LDA_transformed=LDanalysis.transform(x_test)"
      ],
      "metadata": {
        "id": "f0uvwq33Fq1Y"
      },
      "execution_count": null,
      "outputs": []
    },
    {
      "cell_type": "code",
      "source": [
        "print(\"Features shape of Train Data\", x_train.shape)\n",
        "print(\"Dimensionality reduced features shape using LDA on Upsampled data\", X_train_upsampled_LDA.shape)\n",
        "print(\"Dimensionality reduced features shape using LDA on testing data\", X_test_upsampled_LDA_transformed.shape)"
      ],
      "metadata": {
        "id": "rAul3V8r2p_3"
      },
      "execution_count": null,
      "outputs": []
    },
    {
      "cell_type": "markdown",
      "source": [
        "####**Linear Discriminant Analysis on Downsampled Data using Near Miss**"
      ],
      "metadata": {
        "id": "KE_URsU2FtEh"
      }
    },
    {
      "cell_type": "code",
      "source": [
        "LDanalysis = LDA(n_components=5)"
      ],
      "metadata": {
        "id": "NAK3Xtz9Fx8S"
      },
      "execution_count": null,
      "outputs": []
    },
    {
      "cell_type": "code",
      "source": [
        "X_train_downsampled_nm_LDA=LDanalysis.fit_transform(x_train_dres_nm,y_train_dres_nm)"
      ],
      "metadata": {
        "id": "bSpKKVlDF2iq"
      },
      "execution_count": null,
      "outputs": []
    },
    {
      "cell_type": "code",
      "source": [
        "X_test_downsampled_nm_LDA_transformed=LDanalysis.transform(x_test)"
      ],
      "metadata": {
        "id": "MIeIFpmmF3rw"
      },
      "execution_count": null,
      "outputs": []
    },
    {
      "cell_type": "code",
      "source": [
        "print(\"Features shape of Train Data\", x_train.shape)\n",
        "print(\"Dimensionality reduced features shape using LDA on near miss downsampled data\", X_train_downsampled_nm_LDA.shape)\n",
        "print(\"Dimensionality reduced features shape using LDA on near miss downsampled testing data\", X_test_downsampled_nm_LDA_transformed.shape)"
      ],
      "metadata": {
        "id": "5cKHi5rQGhDE"
      },
      "execution_count": null,
      "outputs": []
    },
    {
      "cell_type": "markdown",
      "source": [
        "#**Principal Component Analysis**"
      ],
      "metadata": {
        "id": "StN-SBXSo4oE"
      }
    },
    {
      "cell_type": "markdown",
      "source": [
        "####**Principal Component Analysis on Upsampled Data using SMOTE**"
      ],
      "metadata": {
        "id": "M8TJiY02zgDG"
      }
    },
    {
      "cell_type": "code",
      "source": [
        "PCanalysis = PCA()"
      ],
      "metadata": {
        "id": "WXa1bZ8zzfNm"
      },
      "execution_count": null,
      "outputs": []
    },
    {
      "cell_type": "code",
      "source": [
        "X_train_upsampled_pca = PCanalysis.fit_transform(x_train_ures_SMOTE)\n"
      ],
      "metadata": {
        "id": "Y1bzGrs_z1Rw"
      },
      "execution_count": null,
      "outputs": []
    },
    {
      "cell_type": "code",
      "source": [
        "X_test_upsampled_transformed_pca = PCanalysis.transform(x_test)"
      ],
      "metadata": {
        "id": "gSaffVvX10C-"
      },
      "execution_count": null,
      "outputs": []
    },
    {
      "cell_type": "code",
      "source": [
        "print(\"Variance Ratio: \" ,PCanalysis.explained_variance_ratio_)"
      ],
      "metadata": {
        "id": "yxoelfna10mW"
      },
      "execution_count": null,
      "outputs": []
    },
    {
      "cell_type": "code",
      "source": [
        "PCanalysis = PCA(n_components=5)\n",
        "# picking values with more than 90% variance\n"
      ],
      "metadata": {
        "id": "RGHIPLN01-HZ"
      },
      "execution_count": null,
      "outputs": []
    },
    {
      "cell_type": "code",
      "source": [
        "X_train_upsampled_pca = PCanalysis.fit_transform(x_train_ures_SMOTE)\n",
        "X_test_upsampled_transformed_pca = PCanalysis.transform(x_test)"
      ],
      "metadata": {
        "id": "mb8acO4o2Xur"
      },
      "execution_count": null,
      "outputs": []
    },
    {
      "cell_type": "code",
      "source": [
        "print(\"Variance Ratio: \" ,PCanalysis.explained_variance_ratio_)"
      ],
      "metadata": {
        "id": "fPbNipA62ZEJ"
      },
      "execution_count": null,
      "outputs": []
    },
    {
      "cell_type": "markdown",
      "source": [
        "####**Principal Component Analysis on DownSampled Data**"
      ],
      "metadata": {
        "id": "M-RjtFdmo_hr"
      }
    },
    {
      "cell_type": "code",
      "source": [
        "PCanalysis = PCA()"
      ],
      "metadata": {
        "id": "oyqg_Ed2o2hK"
      },
      "execution_count": null,
      "outputs": []
    },
    {
      "cell_type": "code",
      "source": [
        "x_train_downlsampled_pca = PCanalysis.fit_transform(x_train_dres_nm)\n"
      ],
      "metadata": {
        "id": "DAKJQ0m1pVTD"
      },
      "execution_count": null,
      "outputs": []
    },
    {
      "cell_type": "code",
      "source": [
        "x_test_downsampled_transformed_pca = PCanalysis.transform(x_test)"
      ],
      "metadata": {
        "id": "Zw0cewO_sAdW"
      },
      "execution_count": null,
      "outputs": []
    },
    {
      "cell_type": "code",
      "source": [
        "print(\"Variance Ratio: \" ,PCanalysis.explained_variance_ratio_)"
      ],
      "metadata": {
        "id": "84AZwTwosCkZ"
      },
      "execution_count": null,
      "outputs": []
    },
    {
      "cell_type": "code",
      "source": [
        "PCanalysis = PCA(n_components = 5)\n",
        "# picking values with more than 90% variance"
      ],
      "metadata": {
        "id": "GEEXTXoOsexP"
      },
      "execution_count": null,
      "outputs": []
    },
    {
      "cell_type": "code",
      "source": [
        "x_train_downlsampled_pca = PCanalysis.fit_transform(x_train_dres_nm)\n",
        "x_test_downsampled_transformed_pca = PCanalysis.transform(x_test)\n"
      ],
      "metadata": {
        "id": "mLrfiUnIytHu"
      },
      "execution_count": null,
      "outputs": []
    },
    {
      "cell_type": "code",
      "source": [
        "print(\"Variance Ratio: \" ,PCanalysis.explained_variance_ratio_)"
      ],
      "metadata": {
        "id": "SDeTz_DVzaku"
      },
      "execution_count": null,
      "outputs": []
    },
    {
      "cell_type": "markdown",
      "source": [
        "#Modeling"
      ],
      "metadata": {
        "id": "uw-tLzKOJniT"
      }
    },
    {
      "cell_type": "markdown",
      "source": [
        "##Decision Tree Algorithm with SMOTE Upsampled data"
      ],
      "metadata": {
        "id": "Yxy60O10Jr5n"
      }
    },
    {
      "cell_type": "code",
      "source": [
        "dt_Classifier_up_smote = tree.DecisionTreeClassifier(criterion='gini', max_depth=70)\n",
        "dt_Classifier_up_smote.fit(x_train_ures_SMOTE,y_train_ures_SMOTE)\n",
        "#training prediction\n",
        "y_train_pred = dt_Classifier_up_smote.predict(x_train_ures_SMOTE)\n",
        "#testing prediction\n",
        "y_prediction_up_smote = dt_Classifier_up_smote.predict(x_test)"
      ],
      "metadata": {
        "id": "exeKPWjwJnGL"
      },
      "execution_count": null,
      "outputs": []
    },
    {
      "cell_type": "code",
      "source": [
        "print('training f1 score:',f1_score(y_train_ures_SMOTE, y_train_pred, average='weighted'))"
      ],
      "metadata": {
        "id": "KtjpdPrrLIcj"
      },
      "execution_count": null,
      "outputs": []
    },
    {
      "cell_type": "code",
      "source": [
        "print('Analysis of Decision Tree Algorithm with SMOTE upsampled data:\\n')\n",
        "print(confusion_matrix(y_test, y_prediction_up_smote))\n",
        "print(classification_report(y_test, y_prediction_up_smote))\n",
        "print('Accuracy:',accuracy_score(y_test, y_prediction_up_smote))\n",
        "print('Precision:',precision_score(y_test, y_prediction_up_smote, average='weighted'))\n",
        "print('Recall:',recall_score(y_test, y_prediction_up_smote, average='weighted'))\n",
        "print('F1 Score:',f1_score(y_test, y_prediction_up_smote, average='weighted'))\n",
        "print('Cohen Kappa Score:',cohen_kappa_score(y_test, y_prediction_up_smote))"
      ],
      "metadata": {
        "id": "RJZYZqV9LPug"
      },
      "execution_count": null,
      "outputs": []
    },
    {
      "cell_type": "code",
      "source": [
        "falsePositiveRate = dict()\n",
        "truePositiveRate = dict()\n",
        "threshold = dict()\n",
        "\n",
        "for i in range(6):    \n",
        "    falsePositiveRate[i], truePositiveRate[i], threshold[i] = roc_curve(y_test, y_prediction_up_smote, pos_label=i)\n",
        "\n",
        "plt.plot(falsePositiveRate[0], truePositiveRate[0], linestyle='--',color='blue', label='Class 0 vs Rest')\n",
        "plt.plot(falsePositiveRate[1], truePositiveRate[1], linestyle='--',color='yellow', label='Class 1 vs Rest')\n",
        "plt.plot(falsePositiveRate[2], truePositiveRate[2], linestyle='--',color='orangered', label='Class 2 vs Rest')\n",
        "plt.plot(falsePositiveRate[3], truePositiveRate[3], linestyle='--',color='green', label='Class 3 vs Rest')\n",
        "plt.plot(falsePositiveRate[4], truePositiveRate[4], linestyle='--',color='magenta', label='Class 4 vs Rest')\n",
        "plt.plot(falsePositiveRate[5], truePositiveRate[5], linestyle='--',color='purple', label='Class 5 vs Rest')\n",
        "\n",
        "plt.title('Multiclass ROC curve for Decision Tree with SMOTE upsampled data')\n",
        "plt.xlabel('False Positive Rate')\n",
        "plt.ylabel('True Positive rate')\n",
        "plt.legend(loc='best')\n",
        "plt.savefig('Multiclass ROC curve for Decision Tree with SMOTE upsampled data',dpi=400)"
      ],
      "metadata": {
        "id": "buZ1ia4wLVUw"
      },
      "execution_count": null,
      "outputs": []
    },
    {
      "cell_type": "code",
      "source": [
        "pickle.dump(dt_Classifier_up_smote, open('dt_Classifier_up_smote.pkl', 'wb'))"
      ],
      "metadata": {
        "id": "G07_AaGHOwNq"
      },
      "execution_count": null,
      "outputs": []
    },
    {
      "cell_type": "markdown",
      "source": [
        "##Decision Tree Algorithm with PCA and SMOTE Upsampled data"
      ],
      "metadata": {
        "id": "JzUwJwNTNoIK"
      }
    },
    {
      "cell_type": "code",
      "source": [
        "dt_classifier_smote_upsampling_pca = tree.DecisionTreeClassifier(criterion='gini')\n",
        "dt_classifier_smote_upsampling_pca.fit(X_train_upsampled_pca,y_train_ures_SMOTE)\n",
        "#training prediction\n",
        "y_train_pred = dt_classifier_smote_upsampling_pca.predict(X_train_upsampled_pca)\n",
        "#testing prediction\n",
        "y_prediction_smote_upsampling_pca = dt_classifier_smote_upsampling_pca.predict(X_test_upsampled_transformed_pca)"
      ],
      "metadata": {
        "id": "ZviNBmhtN1AR"
      },
      "execution_count": null,
      "outputs": []
    },
    {
      "cell_type": "code",
      "source": [
        "print('Training F1 Score:',f1_score(y_train_ures_SMOTE, y_train_pred, average='weighted'))"
      ],
      "metadata": {
        "id": "uNF78KOBN4-p"
      },
      "execution_count": null,
      "outputs": []
    },
    {
      "cell_type": "code",
      "source": [
        "print('Analysis of Decision Tree Algorithm with PCA and SMOTE Upsampled data:\\n')\n",
        "print(confusion_matrix(y_test, y_prediction_smote_upsampling_pca))\n",
        "print(confusion_matrix(y_test, y_prediction_smote_upsampling_pca))\n",
        "print(classification_report(y_test, y_prediction_smote_upsampling_pca))\n",
        "print('Accuracy:',accuracy_score(y_test, y_prediction_smote_upsampling_pca))\n",
        "print('Precision:',precision_score(y_test, y_prediction_smote_upsampling_pca, average='weighted'))\n",
        "print('Recall:',recall_score(y_test, y_prediction_smote_upsampling_pca, average='weighted'))\n",
        "print('F1 Score:',f1_score(y_test, y_prediction_smote_upsampling_pca, average='weighted'))\n",
        "print('Cohen Kappa Score:',cohen_kappa_score(y_test, y_prediction_smote_upsampling_pca))"
      ],
      "metadata": {
        "id": "mReAmJBHN8GS"
      },
      "execution_count": null,
      "outputs": []
    },
    {
      "cell_type": "code",
      "source": [
        "falsePositiveRate = dict()\n",
        "truePositiveRate = dict()\n",
        "threshold = dict()\n",
        "\n",
        "for i in range(6):    \n",
        "    falsePositiveRate[i], truePositiveRate[i], threshold[i] = roc_curve(y_test, y_prediction_smote_upsampling_pca, pos_label=i)\n",
        "\n",
        "plt.plot(falsePositiveRate[0], truePositiveRate[0], linestyle='--',color='blue', label='Class 0 vs Rest')\n",
        "plt.plot(falsePositiveRate[1], truePositiveRate[1], linestyle='--',color='yellow', label='Class 1 vs Rest')\n",
        "plt.plot(falsePositiveRate[2], truePositiveRate[2], linestyle='--',color='orangered', label='Class 2 vs Rest')\n",
        "plt.plot(falsePositiveRate[3], truePositiveRate[3], linestyle='--',color='green', label='Class 3 vs Rest')\n",
        "plt.plot(falsePositiveRate[4], truePositiveRate[4], linestyle='--',color='magenta', label='Class 4 vs Rest')\n",
        "plt.plot(falsePositiveRate[5], truePositiveRate[5], linestyle='--',color='purple', label='Class 5 vs Rest')\n",
        "\n",
        "plt.title('Multiclass ROC curve for Decision Tree with PCA and SMOTE Upsampled data')\n",
        "plt.xlabel('False Positive Rate')\n",
        "plt.ylabel('True Positive rate')\n",
        "plt.legend(loc='best')\n",
        "plt.savefig('Multiclass ROC curve for Decision Tree with PCA and SMOTE Upsampled data',dpi=400)"
      ],
      "metadata": {
        "id": "LeEshFRCOsxI"
      },
      "execution_count": null,
      "outputs": []
    },
    {
      "cell_type": "code",
      "source": [
        "pickle.dump(dt_classifier_smote_upsampling_pca, open('dt_classifier_smote_upsampling_pca.pkl', 'wb'))"
      ],
      "metadata": {
        "id": "eORDYPSUN8uT"
      },
      "execution_count": null,
      "outputs": []
    },
    {
      "cell_type": "markdown",
      "source": [
        "##Decision Tree Algorithm with LDA and SMOTE Upsampled Data"
      ],
      "metadata": {
        "id": "L7tsqq86PcuY"
      }
    },
    {
      "cell_type": "code",
      "source": [
        "dt_classifier_smote_upsampled_lda = tree.DecisionTreeClassifier(criterion='gini')\n",
        "dt_classifier_smote_upsampled_lda.fit(X_train_upsampled_LDA,y_train_ures_SMOTE)\n",
        "#training prediction\n",
        "y_train_pred = dt_classifier_smote_upsampled_lda.predict(X_train_upsampled_LDA)\n",
        "#testing prediction\n",
        "y_pred_smote_upsampled_lda = dt_classifier_smote_upsampled_lda.predict(X_test_upsampled_LDA_transformed)"
      ],
      "metadata": {
        "id": "n16xrSjvXMCa"
      },
      "execution_count": null,
      "outputs": []
    },
    {
      "cell_type": "code",
      "source": [
        "print('F1 Score:',f1_score(y_train_ures_SMOTE, y_train_pred, average='weighted'))"
      ],
      "metadata": {
        "id": "AlhlZT2SXOhL"
      },
      "execution_count": null,
      "outputs": []
    },
    {
      "cell_type": "code",
      "source": [
        "print('Analysis of Decision Tree Algorithm with  LDA and SMOTE Upsampled Data:\\n')\n",
        "print(confusion_matrix(y_test, y_pred_smote_upsampled_lda))\n",
        "print(confusion_matrix(y_test, y_pred_smote_upsampled_lda))\n",
        "print(classification_report(y_test, y_pred_smote_upsampled_lda))\n",
        "print('Accuracy:',accuracy_score(y_test, y_pred_smote_upsampled_lda))\n",
        "print('Precision:',precision_score(y_test, y_pred_smote_upsampled_lda, average='weighted'))\n",
        "print('Recall:',recall_score(y_test, y_pred_smote_upsampled_lda, average='weighted'))\n",
        "print('F1 Score:',f1_score(y_test, y_pred_smote_upsampled_lda, average='weighted'))\n",
        "print('Cohen Kappa Score:',cohen_kappa_score(y_test, y_pred_smote_upsampled_lda))"
      ],
      "metadata": {
        "id": "RAO5Dy51XSU7"
      },
      "execution_count": null,
      "outputs": []
    },
    {
      "cell_type": "code",
      "source": [
        "falsePositiveRate = dict()\n",
        "truePositiveRate = dict()\n",
        "threshold = dict()\n",
        "\n",
        "for i in range(6):    \n",
        "    falsePositiveRate[i], truePositiveRate[i], threshold[i] = roc_curve(y_test, y_pred_smote_upsampled_lda, pos_label=i)\n",
        "\n",
        "plt.plot(falsePositiveRate[0], truePositiveRate[0], linestyle='--',color='blue', label='Class 0 vs Rest')\n",
        "plt.plot(falsePositiveRate[1], truePositiveRate[1], linestyle='--',color='yellow', label='Class 1 vs Rest')\n",
        "plt.plot(falsePositiveRate[2], truePositiveRate[2], linestyle='--',color='orangered', label='Class 2 vs Rest')\n",
        "plt.plot(falsePositiveRate[3], truePositiveRate[3], linestyle='--',color='green', label='Class 3 vs Rest')\n",
        "plt.plot(falsePositiveRate[4], truePositiveRate[4], linestyle='--',color='magenta', label='Class 4 vs Rest')\n",
        "plt.plot(falsePositiveRate[5], truePositiveRate[5], linestyle='--',color='purple', label='Class 5 vs Rest')\n",
        "\n",
        "plt.title('Multiclass ROC curve for Decision Tree with LDA and SMOTE Upsampled Data')\n",
        "plt.xlabel('False Positive Rate')\n",
        "plt.ylabel('True Positive rate')\n",
        "plt.legend(loc='best')\n",
        "plt.savefig('Multiclass ROC curve for Decision Tree with LDA and SMOTE Upsampled Data',dpi=400)"
      ],
      "metadata": {
        "id": "k-r6WX2CXVbi"
      },
      "execution_count": null,
      "outputs": []
    },
    {
      "cell_type": "code",
      "source": [
        "pickle.dump(y_pred_smote_upsampled_lda, open('y_pred_smote_upsampled_lda.pkl', 'wb'))"
      ],
      "metadata": {
        "id": "0XpfRBLeQJSp"
      },
      "execution_count": null,
      "outputs": []
    },
    {
      "cell_type": "markdown",
      "source": [
        "##Decision Tree Algorithm with Near Miss Downsampled Data"
      ],
      "metadata": {
        "id": "mO9P9gvfQjHD"
      }
    },
    {
      "cell_type": "code",
      "source": [
        "dt_classifier_nm_downsampled = tree.DecisionTreeClassifier(criterion='gini')\n",
        "dt_classifier_nm_downsampled.fit(x_train_dres_nm,y_train_dres_nm)\n",
        "#training prediction\n",
        "y_train_pred = dt_classifier_nm_downsampled.predict(x_train_dres_nm)\n",
        "#testing prediction\n",
        "y_prediction_nm_downsampled = dt_classifier_nm_downsampled.predict(x_test)"
      ],
      "metadata": {
        "id": "tv8RmnN6Qn0f"
      },
      "execution_count": null,
      "outputs": []
    },
    {
      "cell_type": "code",
      "source": [
        "print('f1 score:',f1_score(y_train_dres_nm, y_train_pred, average='weighted'))"
      ],
      "metadata": {
        "id": "w7idnaJHQvA2"
      },
      "execution_count": null,
      "outputs": []
    },
    {
      "cell_type": "code",
      "source": [
        "print('Analysis of Decision Tree Algorithm with Near Miss Downsampled Data:\\n')\n",
        "print(confusion_matrix(y_test, y_prediction_nm_downsampled))\n",
        "print(classification_report(y_test, y_prediction_nm_downsampled))\n",
        "print('Accuracy:',accuracy_score(y_test, y_prediction_nm_downsampled))\n",
        "print('Precision:',precision_score(y_test, y_prediction_nm_downsampled, average='weighted'))\n",
        "print('Recall:',recall_score(y_test, y_prediction_nm_downsampled, average='weighted'))\n",
        "print('F1 Score:',f1_score(y_test, y_prediction_nm_downsampled, average='weighted'))\n",
        "print('Cohen Kappa Score:',cohen_kappa_score(y_test, y_prediction_nm_downsampled))"
      ],
      "metadata": {
        "id": "6LH6JtAZQyn9"
      },
      "execution_count": null,
      "outputs": []
    },
    {
      "cell_type": "code",
      "source": [
        "falsePositiveRate = dict()\n",
        "truePositiveRate = dict()\n",
        "threshold = dict()\n",
        "\n",
        "for i in range(6):    \n",
        "    falsePositiveRate[i], truePositiveRate[i], threshold[i] = roc_curve(y_test, y_prediction_nm_downsampled, pos_label=i)\n",
        "\n",
        "plt.plot(falsePositiveRate[0], truePositiveRate[0], linestyle='--',color='blue', label='Class 0 vs Rest')\n",
        "plt.plot(falsePositiveRate[1], truePositiveRate[1], linestyle='--',color='yellow', label='Class 1 vs Rest')\n",
        "plt.plot(falsePositiveRate[2], truePositiveRate[2], linestyle='--',color='orangered', label='Class 2 vs Rest')\n",
        "plt.plot(falsePositiveRate[3], truePositiveRate[3], linestyle='--',color='green', label='Class 3 vs Rest')\n",
        "plt.plot(falsePositiveRate[4], truePositiveRate[4], linestyle='--',color='magenta', label='Class 4 vs Rest')\n",
        "plt.plot(falsePositiveRate[5], truePositiveRate[5], linestyle='--',color='purple', label='Class 5 vs Rest')\n",
        "\n",
        "plt.title('Multiclass ROC curve for Decision Tree with Near Miss Downsampled Data')\n",
        "plt.xlabel('False Positive Rate')\n",
        "plt.ylabel('True Positive rate')\n",
        "plt.legend(loc='best')\n",
        "plt.savefig('Multiclass ROC curve for Decision Tree with Near Miss Downsampled Data',dpi=400)"
      ],
      "metadata": {
        "id": "VWw3zNEoQ1UQ"
      },
      "execution_count": null,
      "outputs": []
    },
    {
      "cell_type": "code",
      "source": [
        "pickle.dump(dt_classifier_nm_downsampled, open('dt_classifier_nm_downsampled.pkl', 'wb'))"
      ],
      "metadata": {
        "id": "huYhlQvAQ2J6"
      },
      "execution_count": null,
      "outputs": []
    },
    {
      "cell_type": "markdown",
      "source": [
        "##Decision Tree Algorithm with PCA and Near Miss Downsampled Data"
      ],
      "metadata": {
        "id": "N5_b_snoSQs_"
      }
    },
    {
      "cell_type": "code",
      "source": [
        "dt_classifier_nm_downsampled_pca = tree.DecisionTreeClassifier(criterion='gini')\n",
        "dt_classifier_nm_downsampled_pca.fit(x_train_downlsampled_pca,y_train_dres_nm)\n",
        "#training prediction\n",
        "y_train_pred = dt_classifier_nm_downsampled_pca.predict(x_train_downlsampled_pca)\n",
        "#testing prediction\n",
        "y_prediction_nm_downsampled_pca = dt_classifier_nm_downsampled_pca.predict(x_test_downsampled_transformed_pca)"
      ],
      "metadata": {
        "id": "aUX_NiESSVN9"
      },
      "execution_count": null,
      "outputs": []
    },
    {
      "cell_type": "code",
      "source": [
        "print('F1 Score:',f1_score(y_train_dres_nm, y_train_pred, average='weighted'))"
      ],
      "metadata": {
        "id": "iKvwR1xFSYwA"
      },
      "execution_count": null,
      "outputs": []
    },
    {
      "cell_type": "code",
      "source": [
        "print('Analysis of Decision Tree Algorithm with PCA and Near Miss Downsampled Data:\\n')\n",
        "print(confusion_matrix(y_test, y_prediction_nm_downsampled_pca))\n",
        "print(confusion_matrix(y_test, y_prediction_nm_downsampled_pca))\n",
        "print(classification_report(y_test, y_prediction_nm_downsampled_pca))\n",
        "print('Accuracy:',accuracy_score(y_test, y_prediction_nm_downsampled_pca))\n",
        "print('Precision:',precision_score(y_test, y_prediction_nm_downsampled_pca, average='weighted'))\n",
        "print('Recall:',recall_score(y_test, y_prediction_nm_downsampled_pca, average='weighted'))\n",
        "print('F1 Score:',f1_score(y_test, y_prediction_nm_downsampled_pca, average='weighted'))\n",
        "print('Cohen Kappa Score:',cohen_kappa_score(y_test, y_prediction_nm_downsampled_pca))"
      ],
      "metadata": {
        "id": "XMPLZeEqScz_"
      },
      "execution_count": null,
      "outputs": []
    },
    {
      "cell_type": "code",
      "source": [
        "falsePositiveRate = dict()\n",
        "truePositiveRate = dict()\n",
        "threshold = dict()\n",
        "\n",
        "for i in range(6):    \n",
        "    falsePositiveRate[i], truePositiveRate[i], threshold[i] = roc_curve(y_test, y_prediction_nm_downsampled_pca, pos_label=i)\n",
        "\n",
        "plt.plot(falsePositiveRate[0], truePositiveRate[0], linestyle='--',color='blue', label='Class 0 vs Rest')\n",
        "plt.plot(falsePositiveRate[1], truePositiveRate[1], linestyle='--',color='yellow', label='Class 1 vs Rest')\n",
        "plt.plot(falsePositiveRate[2], truePositiveRate[2], linestyle='--',color='orangered', label='Class 2 vs Rest')\n",
        "plt.plot(falsePositiveRate[3], truePositiveRate[3], linestyle='--',color='green', label='Class 3 vs Rest')\n",
        "plt.plot(falsePositiveRate[4], truePositiveRate[4], linestyle='--',color='magenta', label='Class 4 vs Rest')\n",
        "plt.plot(falsePositiveRate[5], truePositiveRate[5], linestyle='--',color='purple', label='Class 5 vs Rest')\n",
        "\n",
        "plt.title('Multiclass ROC curve for Decision Tree with PCA and Near Miss Downsampled Data')\n",
        "plt.xlabel('False Positive Rate')\n",
        "plt.ylabel('True Positive rate')\n",
        "plt.legend(loc='best')\n",
        "plt.savefig('Multiclass ROC curve for Decision Tree with PCA and Near Miss Downsampled Data',dpi=400)"
      ],
      "metadata": {
        "id": "uHzJ-Ov_SfZ1"
      },
      "execution_count": null,
      "outputs": []
    },
    {
      "cell_type": "code",
      "source": [
        "pickle.dump(dt_classifier_nm_downsampled_pca, open('dt_classifier_nm_downsampled_pca.pkl', 'wb'))"
      ],
      "metadata": {
        "id": "RvR5-71SShgQ"
      },
      "execution_count": null,
      "outputs": []
    },
    {
      "cell_type": "markdown",
      "source": [
        "##Decision Tree Algorithm with LDA and Near Miss Downsampled Data"
      ],
      "metadata": {
        "id": "0Ja-80TGSu0Y"
      }
    },
    {
      "cell_type": "code",
      "source": [
        "dt_classifier_nm_downsampled_lda = tree.DecisionTreeClassifier(criterion='gini')\n",
        "dt_classifier_nm_downsampled_lda.fit(X_train_downsampled_nm_LDA,y_train_dres_nm)\n",
        "#training prediction\n",
        "y_train_pred = dt_classifier_nm_downsampled_lda.predict(X_train_downsampled_nm_LDA)\n",
        "#testing prediction\n",
        "y_prediction_nm_downsampled_lda = dt_classifier_nm_downsampled_lda.predict(X_test_downsampled_nm_LDA_transformed)"
      ],
      "metadata": {
        "id": "ytyOW42WVmAe"
      },
      "execution_count": null,
      "outputs": []
    },
    {
      "cell_type": "code",
      "source": [
        "print('F1 Score:',f1_score(y_train_dres_nm, y_train_pred, average='weighted'))"
      ],
      "metadata": {
        "id": "zW73H5-NVps2"
      },
      "execution_count": null,
      "outputs": []
    },
    {
      "cell_type": "code",
      "source": [
        "print('Analysis of Decision Tree Algorithm with LDA and Near Miss Downsampled Data:\\n')\n",
        "print(confusion_matrix(y_test, y_prediction_nm_downsampled_lda))\n",
        "print(confusion_matrix(y_test, y_prediction_nm_downsampled_lda))\n",
        "print(classification_report(y_test, y_prediction_nm_downsampled_lda))\n",
        "print('Accuracy:',accuracy_score(y_test, y_prediction_nm_downsampled_lda))\n",
        "print('Precision:',precision_score(y_test, y_prediction_nm_downsampled_lda, average='weighted'))\n",
        "print('Recall:',recall_score(y_test, y_prediction_nm_downsampled_lda, average='weighted'))\n",
        "print('F1 Score:',f1_score(y_test, y_prediction_nm_downsampled_lda, average='weighted'))\n",
        "print('Cohen Kappa Score:',cohen_kappa_score(y_test, y_prediction_nm_downsampled_lda))"
      ],
      "metadata": {
        "id": "CUhwyhxUVtYR"
      },
      "execution_count": null,
      "outputs": []
    },
    {
      "cell_type": "code",
      "source": [
        "falsePositiveRate = dict()\n",
        "truePositiveRate = dict()\n",
        "threshold = dict()\n",
        "\n",
        "for i in range(6):    \n",
        "    falsePositiveRate[i], truePositiveRate[i], threshold[i] = roc_curve(y_test, y_prediction_nm_downsampled_lda, pos_label=i)\n",
        "\n",
        "plt.plot(falsePositiveRate[0], truePositiveRate[0], linestyle='--',color='blue', label='Class 0 vs Rest')\n",
        "plt.plot(falsePositiveRate[1], truePositiveRate[1], linestyle='--',color='yellow', label='Class 1 vs Rest')\n",
        "plt.plot(falsePositiveRate[2], truePositiveRate[2], linestyle='--',color='orangered', label='Class 2 vs Rest')\n",
        "plt.plot(falsePositiveRate[3], truePositiveRate[3], linestyle='--',color='green', label='Class 3 vs Rest')\n",
        "plt.plot(falsePositiveRate[4], truePositiveRate[4], linestyle='--',color='magenta', label='Class 4 vs Rest')\n",
        "plt.plot(falsePositiveRate[5], truePositiveRate[5], linestyle='--',color='purple', label='Class 5 vs Rest')\n",
        "\n",
        "plt.title('Multiclass ROC curve for Decision Tree with LDA and Near Miss Downsampled Data')\n",
        "plt.xlabel('False Positive Rate')\n",
        "plt.ylabel('True Positive rate')\n",
        "plt.legend(loc='best')\n",
        "plt.savefig('Multiclass ROC curve for Decision Tree with LDA and Near Miss Downsampled Data',dpi=400)"
      ],
      "metadata": {
        "id": "Szzqb720VwGn"
      },
      "execution_count": null,
      "outputs": []
    },
    {
      "cell_type": "code",
      "source": [
        "pickle.dump(dt_classifier_nm_downsampled_lda, open('dt_classifier_nm_downsampled_lda.pkl', 'wb'))"
      ],
      "metadata": {
        "id": "VNOrcchOVyAD"
      },
      "execution_count": null,
      "outputs": []
    },
    {
      "cell_type": "markdown",
      "source": [
        "##Decision Tree Algorithm with Near Miss Downsampled Data - Hyperparameter Tuning"
      ],
      "metadata": {
        "id": "wZRc-f5xWTQl"
      }
    },
    {
      "cell_type": "code",
      "source": [
        "params = {\n",
        "          'max_depth': [3, 5, 10, 20],\n",
        "          'min_samples_leaf': [10, 20, 50, 100],\n",
        "          'max_features':['log2','sqrt',None]\n",
        "}\n"
      ],
      "metadata": {
        "id": "RJV2MRmDWaVG"
      },
      "execution_count": null,
      "outputs": []
    },
    {
      "cell_type": "code",
      "source": [
        "grid_search_dt_nm = GridSearchCV(estimator=dt_classifier_nm_downsampled, \n",
        "                           param_grid=params, \n",
        "                           cv=4, n_jobs=-1, verbose=1, scoring = \"accuracy\")"
      ],
      "metadata": {
        "id": "lyCeljCoWdqR"
      },
      "execution_count": null,
      "outputs": []
    },
    {
      "cell_type": "code",
      "source": [
        "%%time\n",
        "grid_search_dt_nm.fit(x_train_dres_nm,y_train_dres_nm)"
      ],
      "metadata": {
        "id": "sDAP6H3iWhZN"
      },
      "execution_count": null,
      "outputs": []
    },
    {
      "cell_type": "code",
      "source": [
        "score_DF = pd.DataFrame(grid_search_dt_nm.cv_results_)\n",
        "score_DF.nlargest(5,\"mean_test_score\")"
      ],
      "metadata": {
        "id": "hKw49Cw0WjQn"
      },
      "execution_count": null,
      "outputs": []
    },
    {
      "cell_type": "markdown",
      "source": [
        "##Decision Tree Algorithm without resampling of Data"
      ],
      "metadata": {
        "id": "Vzh-stUuXF2K"
      }
    },
    {
      "cell_type": "code",
      "source": [
        "dt_classifier_no_resampling = tree.DecisionTreeClassifier(criterion='gini')\n",
        "dt_classifier_no_resampling.fit(x_train,y_train)\n",
        "#training prediction\n",
        "y_train_pred = dt_classifier_no_resampling.predict(x_train)\n",
        "#testing prediction\n",
        "y_prediction_dt_no_resampling = dt_classifier_no_resampling.predict(x_test)"
      ],
      "metadata": {
        "id": "vP6Mt0RpXOHe"
      },
      "execution_count": null,
      "outputs": []
    },
    {
      "cell_type": "code",
      "source": [
        "print('F1 Score:',f1_score(y_train, y_train_pred, average='weighted'))"
      ],
      "metadata": {
        "id": "tDVowO1FXQr9"
      },
      "execution_count": null,
      "outputs": []
    },
    {
      "cell_type": "code",
      "source": [
        "print('Analysis of Decision Tree Algorithm without resampling of Data:\\n')\n",
        "print(confusion_matrix(y_test, y_prediction_dt_no_resampling))\n",
        "print(classification_report(y_test, y_prediction_dt_no_resampling))\n",
        "print('Accuracy:',accuracy_score(y_test, y_prediction_dt_no_resampling))\n",
        "print('Precision:',precision_score(y_test, y_prediction_dt_no_resampling, average='weighted'))\n",
        "print('Recall:',recall_score(y_test, y_prediction_dt_no_resampling, average='weighted'))\n",
        "print('F1 Score:',f1_score(y_test, y_prediction_dt_no_resampling, average='weighted'))\n",
        "print('Cohen Kappa Score:',cohen_kappa_score(y_test, y_prediction_dt_no_resampling))"
      ],
      "metadata": {
        "id": "S6fZS-A4XTln"
      },
      "execution_count": null,
      "outputs": []
    },
    {
      "cell_type": "code",
      "source": [
        "falsePositiveRate = dict()\n",
        "truePositiveRate = dict()\n",
        "threshold = dict()\n",
        "\n",
        "for i in range(6):    \n",
        "    falsePositiveRate[i], truePositiveRate[i], threshold[i] = roc_curve(y_test, y_prediction_dt_no_resampling, pos_label=i)\n",
        "\n",
        "plt.plot(falsePositiveRate[0], truePositiveRate[0], linestyle='--',color='blue', label='Class 0 vs Rest')\n",
        "plt.plot(falsePositiveRate[1], truePositiveRate[1], linestyle='--',color='yellow', label='Class 1 vs Rest')\n",
        "plt.plot(falsePositiveRate[2], truePositiveRate[2], linestyle='--',color='orangered', label='Class 2 vs Rest')\n",
        "plt.plot(falsePositiveRate[3], truePositiveRate[3], linestyle='--',color='green', label='Class 3 vs Rest')\n",
        "plt.plot(falsePositiveRate[4], truePositiveRate[4], linestyle='--',color='magenta', label='Class 4 vs Rest')\n",
        "plt.plot(falsePositiveRate[5], truePositiveRate[5], linestyle='--',color='purple', label='Class 5 vs Rest')\n",
        "\n",
        "plt.title('Multiclass ROC curve for Decision Tree without resampling of Data')\n",
        "plt.xlabel('False Positive Rate')\n",
        "plt.ylabel('True Positive rate')\n",
        "plt.legend(loc='best')\n",
        "plt.savefig('Multiclass ROC curve for Decision Tree without resampling of Data',dpi=400)"
      ],
      "metadata": {
        "id": "sVRYrMCBXUG4"
      },
      "execution_count": null,
      "outputs": []
    },
    {
      "cell_type": "markdown",
      "source": [
        "##Decision Tree Algorithm without resampling of Data - Hyperparameter Tuning"
      ],
      "metadata": {
        "id": "2xGoyjXQXtmM"
      }
    },
    {
      "cell_type": "code",
      "source": [
        "dt_classifier_no_resampling.get_depth()"
      ],
      "metadata": {
        "id": "97eZqzPrXs4I"
      },
      "execution_count": null,
      "outputs": []
    },
    {
      "cell_type": "code",
      "source": [
        "params = {\n",
        "          'max_depth': [40, 50, 60, 70, 80],\n",
        "          'max_features':['log2','sqrt',None]\n",
        "}"
      ],
      "metadata": {
        "id": "YbuxufrOX2kJ"
      },
      "execution_count": null,
      "outputs": []
    },
    {
      "cell_type": "code",
      "source": [
        "gridSearch = GridSearchCV(estimator=dt_classifier_no_resampling, \n",
        "                           param_grid=params, \n",
        "                           cv=4, n_jobs=-1, verbose=1, scoring = \"accuracy\")"
      ],
      "metadata": {
        "id": "gPpGt2MZX4eL"
      },
      "execution_count": null,
      "outputs": []
    },
    {
      "cell_type": "code",
      "source": [
        "%%time\n",
        "gridSearch.fit(x_train,y_train)"
      ],
      "metadata": {
        "id": "SfBjqxk2X7WI"
      },
      "execution_count": null,
      "outputs": []
    },
    {
      "cell_type": "code",
      "source": [
        "scoreDF = pd.DataFrame(gridSearch.cv_results_)\n",
        "scoreDF.nlargest(5,\"mean_test_score\")"
      ],
      "metadata": {
        "id": "EHE-MtIDX8-a"
      },
      "execution_count": null,
      "outputs": []
    },
    {
      "cell_type": "markdown",
      "source": [
        "##Decision Tree Algorithm without resampling of Data - Setting the right hyperparameters"
      ],
      "metadata": {
        "id": "V11d3vxrYLED"
      }
    },
    {
      "cell_type": "code",
      "source": [
        "dt_classifier_no_resampling = tree.DecisionTreeClassifier(criterion='gini', random_state=1,max_depth=70)\n",
        "dt_classifier_no_resampling.fit(x_train,y_train)\n",
        "#testing prediction\n",
        "y_pred_dt_no_resampling_with_hyperparameters = dt_classifier_no_resampling.predict(x_test)\n",
        "\n",
        "#training prediction\n",
        "y_train_pred = dt_classifier_no_resampling.predict(x_train)\n"
      ],
      "metadata": {
        "id": "ZlYwCQyiYNWn"
      },
      "execution_count": null,
      "outputs": []
    },
    {
      "cell_type": "code",
      "source": [
        "print('F1 Score:',f1_score(y_train, y_train_pred, average='weighted'))"
      ],
      "metadata": {
        "id": "pFXILZbUYQVx"
      },
      "execution_count": null,
      "outputs": []
    },
    {
      "cell_type": "code",
      "source": [
        "print('Analysis of Decision Tree Algorithm without resampling of Data - Setting the right hyperparameters:\\n')\n",
        "print(confusion_matrix(y_test, y_pred_dt_no_resampling_with_hyperparameters))\n",
        "print(classification_report(y_test, y_pred_dt_no_resampling_with_hyperparameters))\n",
        "print('Accuracy:',accuracy_score(y_test, y_pred_dt_no_resampling_with_hyperparameters))\n",
        "print('Precision:',precision_score(y_test, y_pred_dt_no_resampling_with_hyperparameters, average='weighted'))\n",
        "print('Recall:',recall_score(y_test, y_pred_dt_no_resampling_with_hyperparameters, average='weighted'))\n",
        "print('F1 Score:',f1_score(y_test, y_pred_dt_no_resampling_with_hyperparameters, average='weighted'))\n",
        "print('Cohen Kappa Score:',cohen_kappa_score(y_test, y_pred_dt_no_resampling_with_hyperparameters))"
      ],
      "metadata": {
        "id": "70Sncqc0YTyg"
      },
      "execution_count": null,
      "outputs": []
    },
    {
      "cell_type": "code",
      "source": [
        "falsePositiveRate = dict()\n",
        "truePositiveRate = dict()\n",
        "threshold = dict()\n",
        "\n",
        "for i in range(6):    \n",
        "    falsePositiveRate[i], truePositiveRate[i], threshold[i] = roc_curve(y_test, y_pred_dt_no_resampling_with_hyperparameters, pos_label=i)\n",
        "\n",
        "plt.plot(falsePositiveRate[0], truePositiveRate[0], linestyle='--',color='blue', label='Class 0 vs Rest')\n",
        "plt.plot(falsePositiveRate[1], truePositiveRate[1], linestyle='--',color='yellow', label='Class 1 vs Rest')\n",
        "plt.plot(falsePositiveRate[2], truePositiveRate[2], linestyle='--',color='orangered', label='Class 2 vs Rest')\n",
        "plt.plot(falsePositiveRate[3], truePositiveRate[3], linestyle='--',color='green', label='Class 3 vs Rest')\n",
        "plt.plot(falsePositiveRate[4], truePositiveRate[4], linestyle='--',color='magenta', label='Class 4 vs Rest')\n",
        "plt.plot(falsePositiveRate[5], truePositiveRate[5], linestyle='--',color='purple', label='Class 5 vs Rest')\n",
        "\n",
        "plt.title('Multiclass ROC curve for Decision Tree without resampling of Data - Setting the right hyperparameters')\n",
        "plt.xlabel('False Positive Rate')\n",
        "plt.ylabel('True Positive rate')\n",
        "plt.legend(loc='best')\n",
        "plt.savefig('Multiclass ROC curve for Decision Tree without resampling of Data - Setting the right hyperparameters',dpi=400)"
      ],
      "metadata": {
        "id": "VvL_5Cl9YXGA"
      },
      "execution_count": null,
      "outputs": []
    },
    {
      "cell_type": "code",
      "source": [
        "pickle.dump(dt_classifier_no_resampling, open('dt_classifier_no_resampling.pkl', 'wb'))"
      ],
      "metadata": {
        "id": "uLNFiUIqYXyk"
      },
      "execution_count": null,
      "outputs": []
    },
    {
      "cell_type": "markdown",
      "source": [
        "#KNN Classifier"
      ],
      "metadata": {
        "id": "pfFFQV30TjTv"
      }
    },
    {
      "cell_type": "markdown",
      "source": [
        "#KNN Algorithm without resampling"
      ],
      "metadata": {
        "id": "rLs39hx1TnvT"
      }
    },
    {
      "cell_type": "code",
      "source": [
        "knn_classifier = KNeighborsClassifier(n_neighbors=5, p=2, metric='minkowski')\n",
        "knn_classifier.fit(x_train, y_train)\n",
        "y_pred_knn = knn_classifier.predict(x_test)"
      ],
      "metadata": {
        "id": "jzprfgduT9uL"
      },
      "execution_count": null,
      "outputs": []
    },
    {
      "cell_type": "code",
      "source": [
        "print('F1 Score:',f1_score(y_train, y_train_pred, average='weighted'))"
      ],
      "metadata": {
        "id": "daOQCv65URcv"
      },
      "execution_count": null,
      "outputs": []
    },
    {
      "cell_type": "code",
      "source": [
        "print('Performance of KNN Algorithm without resampling:\\n')\n",
        "print(confusion_matrix(y_test, y_pred_knn))\n",
        "print(classification_report(y_test, y_pred_knn))\n",
        "print('Accuracy:',accuracy_score(y_test, y_pred_knn))\n",
        "print('Precision:',precision_score(y_test, y_pred_knn, average='weighted'))\n",
        "print('Recall:',recall_score(y_test, y_pred_knn, average='weighted'))\n",
        "print('F1 Score:',f1_score(y_test, y_pred_knn, average='weighted'))\n",
        "print('Cohen Kappa Score:',cohen_kappa_score(y_test, y_pred_knn))"
      ],
      "metadata": {
        "id": "D8DQW5o7UVOn"
      },
      "execution_count": null,
      "outputs": []
    },
    {
      "cell_type": "code",
      "source": [
        "falsePositiveRate = dict()\n",
        "truePositiveRate = dict()\n",
        "threshold = dict()\n",
        "\n",
        "for i in range(6):    \n",
        "    falsePositiveRate[i], truePositiveRate[i], threshold[i] = roc_curve(y_test, y_pred_knn, pos_label=i)\n",
        "\n",
        "plt.plot(falsePositiveRate[0], truePositiveRate[0], linestyle='--',color='blue', label='Class 0 vs Rest')\n",
        "plt.plot(falsePositiveRate[1], truePositiveRate[1], linestyle='--',color='yellow', label='Class 1 vs Rest')\n",
        "plt.plot(falsePositiveRate[2], truePositiveRate[2], linestyle='--',color='orangered', label='Class 2 vs Rest')\n",
        "plt.plot(falsePositiveRate[3], truePositiveRate[3], linestyle='--',color='green', label='Class 3 vs Rest')\n",
        "plt.plot(falsePositiveRate[4], truePositiveRate[4], linestyle='--',color='magenta', label='Class 4 vs Rest')\n",
        "plt.plot(falsePositiveRate[5], truePositiveRate[5], linestyle='--',color='purple', label='Class 5 vs Rest')\n",
        "\n",
        "plt.title('Multiclass ROC curve for KNN without resampling')\n",
        "plt.xlabel('False Positive Rate')\n",
        "plt.ylabel('True Positive rate')\n",
        "plt.legend(loc='best')\n",
        "plt.savefig('Multiclass ROC curve for KNN without resampling',dpi=300)"
      ],
      "metadata": {
        "id": "yn40xxbQUaP2"
      },
      "execution_count": null,
      "outputs": []
    },
    {
      "cell_type": "markdown",
      "source": [
        "#KNN Algorithm without resampling - Hyperparameter Tuning"
      ],
      "metadata": {
        "id": "Kcg20gTXUmHh"
      }
    },
    {
      "cell_type": "code",
      "source": [
        "k_range = list(range(1, 10))\n",
        "param_grid = dict(n_neighbors=k_range)\n",
        "\n",
        "grid = GridSearchCV(knn_classifier, param_grid, cv=3, scoring='accuracy', return_train_score=False,verbose=1)\n",
        "grid_search=grid.fit(x_train, y_train)"
      ],
      "metadata": {
        "id": "X4mgExfcUix7"
      },
      "execution_count": null,
      "outputs": []
    },
    {
      "cell_type": "code",
      "source": [
        "score_df = pd.DataFrame(grid_search.cv_results_)\n",
        "score_df.nlargest(5,\"mean_test_score\")"
      ],
      "metadata": {
        "id": "8FQ-bITNUtYF"
      },
      "execution_count": null,
      "outputs": []
    },
    {
      "cell_type": "markdown",
      "source": [
        "#KNN Algorithm without resampling - Setting the right hyperparameters"
      ],
      "metadata": {
        "id": "-14DnizHUxML"
      }
    },
    {
      "cell_type": "code",
      "source": [
        "knn_classifier = KNeighborsClassifier(n_neighbors=1, p=2, metric='minkowski')\n",
        "knn_classifier.fit(x_train, y_train)\n",
        "y_pred_knn = knn_classifier.predict(x_test)"
      ],
      "metadata": {
        "id": "OLNLMZRJUwUQ"
      },
      "execution_count": null,
      "outputs": []
    },
    {
      "cell_type": "code",
      "source": [
        "print('F1 Score:',f1_score(y_train, y_train_pred, average='weighted'))"
      ],
      "metadata": {
        "id": "hbtTOEKKU9Cs"
      },
      "execution_count": null,
      "outputs": []
    },
    {
      "cell_type": "code",
      "source": [
        "pickle.dump(knn_classifier, open('knn_classifier.pkl', 'wb'))"
      ],
      "metadata": {
        "id": "aRpU7SQQVABj"
      },
      "execution_count": null,
      "outputs": []
    },
    {
      "cell_type": "code",
      "source": [
        "print('Performance of KNN Algorithm without resampling - After Hyperparameter Tuning:\\n')\n",
        "print(confusion_matrix(y_test, y_pred_knn))\n",
        "print(classification_report(y_test, y_pred_knn))\n",
        "print('Accuracy:',accuracy_score(y_test, y_pred_knn))\n",
        "print('Precision:',precision_score(y_test, y_pred_knn, average='weighted'))\n",
        "print('Recall:',recall_score(y_test, y_pred_knn, average='weighted'))\n",
        "print('F1 Score:',f1_score(y_test, y_pred_knn, average='weighted'))\n",
        "print('Cohen Kappa Score:',cohen_kappa_score(y_test, y_pred_knn))"
      ],
      "metadata": {
        "id": "MinsIRVcVCPc"
      },
      "execution_count": null,
      "outputs": []
    },
    {
      "cell_type": "code",
      "source": [
        "falsePositiveRate = dict()\n",
        "truePositiveRate = dict()\n",
        "threshold = dict()\n",
        "\n",
        "for i in range(6):    \n",
        "    falsePositiveRate[i], truePositiveRate[i], threshold[i] = roc_curve(y_test, y_pred_knn, pos_label=i)\n",
        "\n",
        "plt.plot(falsePositiveRate[0], truePositiveRate[0], linestyle='--',color='blue', label='Class 0 vs Rest')\n",
        "plt.plot(falsePositiveRate[1], truePositiveRate[1], linestyle='--',color='yellow', label='Class 1 vs Rest')\n",
        "plt.plot(falsePositiveRate[2], truePositiveRate[2], linestyle='--',color='orangered', label='Class 2 vs Rest')\n",
        "plt.plot(falsePositiveRate[3], truePositiveRate[3], linestyle='--',color='green', label='Class 3 vs Rest')\n",
        "plt.plot(falsePositiveRate[4], truePositiveRate[4], linestyle='--',color='magenta', label='Class 4 vs Rest')\n",
        "plt.plot(falsePositiveRate[5], truePositiveRate[5], linestyle='--',color='purple', label='Class 5 vs Rest')\n",
        "\n",
        "plt.title('Multiclass ROC curve for KNN without resampling - After Hyperparameter Tuning')\n",
        "plt.xlabel('False Positive Rate')\n",
        "plt.ylabel('True Positive rate')\n",
        "plt.legend(loc='best')\n",
        "plt.savefig('Multiclass ROC curve for KNN without resampling - After Hyperparameter Tuning',dpi=300)"
      ],
      "metadata": {
        "id": "LcwjIuZSVEkl"
      },
      "execution_count": null,
      "outputs": []
    },
    {
      "cell_type": "markdown",
      "source": [
        "#KNN Algorithm with SMOTE upsampling"
      ],
      "metadata": {
        "id": "UtkEKtnmVG2k"
      }
    },
    {
      "cell_type": "code",
      "source": [
        "knn_classifier_SMOTE = KNeighborsClassifier(n_neighbors=1, p=2, metric='minkowski')\n",
        "knn_classifier_SMOTE.fit(x_train_ures_SMOTE, y_train_ures_SMOTE)\n",
        "y_pred_knn_SMOTE = knn_classifier_SMOTE.predict(x_test)"
      ],
      "metadata": {
        "id": "atufDqqTVKUt"
      },
      "execution_count": null,
      "outputs": []
    },
    {
      "cell_type": "code",
      "source": [
        "pickle.dump(knn_classifier_SMOTE, open('knn_classifier_SMOTE.pkl', 'wb'))"
      ],
      "metadata": {
        "id": "LDD2lTWlVNQU"
      },
      "execution_count": null,
      "outputs": []
    },
    {
      "cell_type": "code",
      "source": [
        "print('training f1 score:',f1_score(y_train_ures_SMOTE, y_train_pred, average='weighted'))"
      ],
      "metadata": {
        "id": "L3OaN62-VQru"
      },
      "execution_count": null,
      "outputs": []
    },
    {
      "cell_type": "code",
      "source": [
        "print('Performance of KNN Algorithm with SMOTE Upsampling:\\n')\n",
        "print(confusion_matrix(y_test, y_pred_knn_SMOTE))\n",
        "print(classification_report(y_test, y_pred_knn_SMOTE))\n",
        "print('Accuracy:',accuracy_score(y_test, y_pred_knn_SMOTE))\n",
        "print('Precision:',precision_score(y_test, y_pred_knn_SMOTE, average='weighted'))\n",
        "print('Recall:',recall_score(y_test, y_pred_knn_SMOTE, average='weighted'))\n",
        "print('F1 Score:',f1_score(y_test, y_pred_knn_SMOTE, average='weighted'))\n",
        "print('Cohen Kappa Score:',cohen_kappa_score(y_test, y_pred_knn_SMOTE))"
      ],
      "metadata": {
        "id": "GA9SJAWnVTFH"
      },
      "execution_count": null,
      "outputs": []
    },
    {
      "cell_type": "code",
      "source": [
        "falsePositiveRate = dict()\n",
        "truePositiveRate = dict()\n",
        "threshold = dict()\n",
        "\n",
        "for i in range(6):    \n",
        "    falsePositiveRate[i], truePositiveRate[i], threshold[i] = roc_curve(y_test, y_pred_knn_SMOTE, pos_label=i)\n",
        "\n",
        "plt.plot(falsePositiveRate[0], truePositiveRate[0], linestyle='--',color='blue', label='Class 0 vs Rest')\n",
        "plt.plot(falsePositiveRate[1], truePositiveRate[1], linestyle='--',color='yellow', label='Class 1 vs Rest')\n",
        "plt.plot(falsePositiveRate[2], truePositiveRate[2], linestyle='--',color='orangered', label='Class 2 vs Rest')\n",
        "plt.plot(falsePositiveRate[3], truePositiveRate[3], linestyle='--',color='green', label='Class 3 vs Rest')\n",
        "plt.plot(falsePositiveRate[4], truePositiveRate[4], linestyle='--',color='magenta', label='Class 4 vs Rest')\n",
        "plt.plot(falsePositiveRate[5], truePositiveRate[5], linestyle='--',color='purple', label='Class 5 vs Rest')\n",
        "\n",
        "plt.title('Multiclass ROC curve for KNN with SMOTE Upsampling')\n",
        "plt.xlabel('False Positive Rate')\n",
        "plt.ylabel('True Positive rate')\n",
        "plt.legend(loc='best')\n",
        "plt.savefig('Multiclass ROC curve for KNN with SMOTE Upsampling',dpi=300)"
      ],
      "metadata": {
        "id": "DHnwG1oPVVg-"
      },
      "execution_count": null,
      "outputs": []
    },
    {
      "cell_type": "markdown",
      "source": [
        "#KNN Algorithm with Near Miss downsampling"
      ],
      "metadata": {
        "id": "h0hQxaj5VXw1"
      }
    },
    {
      "cell_type": "code",
      "source": [
        "knn_classifier_NM = KNeighborsClassifier(n_neighbors=1, p=2, metric='minkowski')\n",
        "knn_classifier_NM.fit(x_train_dres_nm, y_train_dres_nm)\n",
        "y_pred_knn_NM = knn_classifier_NM.predict(x_test)"
      ],
      "metadata": {
        "id": "L_K4SSzPVbNG"
      },
      "execution_count": null,
      "outputs": []
    },
    {
      "cell_type": "code",
      "source": [
        "pickle.dump(knn_classifier_NM, open('knn_classifier_NM.pkl', 'wb'))"
      ],
      "metadata": {
        "id": "8tjJ37RSVeGE"
      },
      "execution_count": null,
      "outputs": []
    },
    {
      "cell_type": "code",
      "source": [
        "print('f1 score:',f1_score(y_train_dres_nm, y_pred_knn_NM, average='weighted'))"
      ],
      "metadata": {
        "id": "sbZKELKrVgeN"
      },
      "execution_count": null,
      "outputs": []
    },
    {
      "cell_type": "code",
      "source": [
        "print('Performance of KNN Algorithm with NM Downsampling:\\n')\n",
        "print(confusion_matrix(y_test, y_pred_knn_NM))\n",
        "print(classification_report(y_test, y_pred_knn_NM))\n",
        "print('Accuracy:',accuracy_score(y_test, y_pred_knn_NM))\n",
        "print('Precision:',precision_score(y_test, y_pred_knn_NM, average='weighted'))\n",
        "print('Recall:',recall_score(y_test, y_pred_knn_NM, average='weighted'))\n",
        "print('F1 Score:',f1_score(y_test, y_pred_knn_NM, average='weighted'))\n",
        "print('Cohen Kappa Score:',cohen_kappa_score(y_test, y_pred_knn_NM))"
      ],
      "metadata": {
        "id": "nSm4yVHoVgz3"
      },
      "execution_count": null,
      "outputs": []
    },
    {
      "cell_type": "code",
      "source": [
        "falsePositiveRate = dict()\n",
        "truePositiveRate = dict()\n",
        "threshold = dict()\n",
        "\n",
        "for i in range(6):    \n",
        "    falsePositiveRate[i], truePositiveRate[i], threshold[i] = roc_curve(y_test, y_pred_knn_NM, pos_label=i)\n",
        "\n",
        "plt.plot(falsePositiveRate[0], truePositiveRate[0], linestyle='--',color='blue', label='Class 0 vs Rest')\n",
        "plt.plot(falsePositiveRate[1], truePositiveRate[1], linestyle='--',color='yellow', label='Class 1 vs Rest')\n",
        "plt.plot(falsePositiveRate[2], truePositiveRate[2], linestyle='--',color='orangered', label='Class 2 vs Rest')\n",
        "plt.plot(falsePositiveRate[3], truePositiveRate[3], linestyle='--',color='green', label='Class 3 vs Rest')\n",
        "plt.plot(falsePositiveRate[4], truePositiveRate[4], linestyle='--',color='magenta', label='Class 4 vs Rest')\n",
        "plt.plot(falsePositiveRate[5], truePositiveRate[5], linestyle='--',color='purple', label='Class 5 vs Rest')\n",
        "\n",
        "plt.title('Multiclass ROC curve for KNN with Near Miss Downsampling')\n",
        "plt.xlabel('False Positive Rate')\n",
        "plt.ylabel('True Positive rate')\n",
        "plt.legend(loc='best')\n",
        "plt.savefig('Multiclass ROC curve for KNN with Near Miss Downsampling',dpi=300)"
      ],
      "metadata": {
        "id": "EqzVaK9CVmHY"
      },
      "execution_count": null,
      "outputs": []
    },
    {
      "cell_type": "markdown",
      "metadata": {
        "id": "Q8S64WGkelWy"
      },
      "source": [
        "#### <font color='Magenta'>Random Forest Algorithm with SMOTE Unsampled Data"
      ]
    },
    {
      "cell_type": "code",
      "execution_count": null,
      "metadata": {
        "execution": {
          "iopub.execute_input": "2022-11-28T02:45:31.761701Z",
          "iopub.status.busy": "2022-11-28T02:45:31.761298Z",
          "iopub.status.idle": "2022-11-28T03:09:58.018671Z",
          "shell.execute_reply": "2022-11-28T03:09:58.017955Z",
          "shell.execute_reply.started": "2022-11-28T02:45:31.761659Z"
        },
        "id": "LfhOqg_helWy"
      },
      "outputs": [],
      "source": [
        "rf_classifer_ups_smote = RandomForestClassifier(n_estimators = 20, max_depth=70, random_state=0)\n",
        "rf_classifer_ups_smote.fit(x_train_ures_SMOTE,y_train_ures_SMOTE)\n",
        "# prediction of train data\n",
        "rf_ytrain_pred = rf_classifer_ups_smote.predict(x_train_ures_SMOTE)\n",
        "# prediction of test data\n",
        "rf_ups_smote_y_prediction = rf_classifer_ups_smote.predict(x_test)"
      ]
    },
    {
      "cell_type": "code",
      "execution_count": null,
      "metadata": {
        "execution": {
          "iopub.execute_input": "2022-11-28T03:13:16.599061Z",
          "iopub.status.busy": "2022-11-28T03:13:16.598650Z",
          "iopub.status.idle": "2022-11-28T03:13:19.905659Z",
          "shell.execute_reply": "2022-11-28T03:13:19.904550Z",
          "shell.execute_reply.started": "2022-11-28T03:13:16.599020Z"
        },
        "id": "c8yIV5IPelWy"
      },
      "outputs": [],
      "source": [
        "print('training f1 score:',f1_score(y_train_ures_SMOTE, rf_ytrain_pred, average='weighted'))"
      ]
    },
    {
      "cell_type": "code",
      "execution_count": null,
      "metadata": {
        "execution": {
          "iopub.execute_input": "2022-11-28T03:13:21.969372Z",
          "iopub.status.busy": "2022-11-28T03:13:21.968711Z",
          "iopub.status.idle": "2022-11-28T03:13:24.373732Z",
          "shell.execute_reply": "2022-11-28T03:13:24.372854Z",
          "shell.execute_reply.started": "2022-11-28T03:13:21.969319Z"
        },
        "id": "TMDPnpkkelWy"
      },
      "outputs": [],
      "source": [
        "print('Results of Random Forest Algorithm with SMOTE upsampled data:\\n')\n",
        "print(confusion_matrix(y_test, rf_ups_smote_y_prediction))\n",
        "print(classification_report(y_test, rf_ups_smote_y_prediction))\n",
        "print('Accuracy:',accuracy_score(y_test, rf_ups_smote_y_prediction))\n",
        "print('Precision:',precision_score(y_test, rf_ups_smote_y_prediction, average='weighted'))\n",
        "print('Recall:',recall_score(y_test, rf_ups_smote_y_prediction, average='weighted'))\n",
        "print('F1 Score:',f1_score(y_test, rf_ups_smote_y_prediction, average='weighted'))\n",
        "print('Cohen Kappa Score:',cohen_kappa_score(y_test, rf_ups_smote_y_prediction))"
      ]
    },
    {
      "cell_type": "code",
      "execution_count": null,
      "metadata": {
        "execution": {
          "iopub.execute_input": "2022-11-28T03:13:33.799153Z",
          "iopub.status.busy": "2022-11-28T03:13:33.798808Z",
          "iopub.status.idle": "2022-11-28T03:13:35.143264Z",
          "shell.execute_reply": "2022-11-28T03:13:35.142247Z",
          "shell.execute_reply.started": "2022-11-28T03:13:33.799117Z"
        },
        "id": "HjpjFqUbelWz"
      },
      "outputs": [],
      "source": [
        "falsePositiveRate = dict()\n",
        "truePositiveRate = dict()\n",
        "threshold = dict()\n",
        "\n",
        "for i in range(6):    \n",
        "    falsePositiveRate[i], truePositiveRate[i], threshold[i] = roc_curve(y_test, rf_ups_smote_y_prediction, pos_label=i)\n",
        "    \n",
        "plt.plot(falsePositiveRate[0], truePositiveRate[0], linestyle='--',color='blue', label='Class 0 vs Rest')\n",
        "plt.plot(falsePositiveRate[1], truePositiveRate[1], linestyle='--',color='yellow', label='Class 1 vs Rest')\n",
        "plt.plot(falsePositiveRate[2], truePositiveRate[2], linestyle='--',color='orangered', label='Class 2 vs Rest')\n",
        "plt.plot(falsePositiveRate[3], truePositiveRate[3], linestyle='--',color='green', label='Class 3 vs Rest')\n",
        "plt.plot(falsePositiveRate[4], truePositiveRate[4], linestyle='--',color='magenta', label='Class 4 vs Rest')\n",
        "plt.plot(falsePositiveRate[5], truePositiveRate[5], linestyle='--',color='purple', label='Class 5 vs Rest')\n",
        "\n",
        "plt.title('Multiclass ROC curve for Random Forest Algorithm with SMOTE upsampled data')\n",
        "plt.xlabel('False Positive Rate')\n",
        "plt.ylabel('True Positive rate')\n",
        "plt.legend(loc='best')\n",
        "plt.savefig('Multiclass ROC curve for Random Forest Algorithm with SMOTE upsampled data',dpi=400)"
      ]
    },
    {
      "cell_type": "code",
      "execution_count": null,
      "metadata": {
        "execution": {
          "iopub.execute_input": "2022-11-28T03:14:47.678573Z",
          "iopub.status.busy": "2022-11-28T03:14:47.677401Z",
          "iopub.status.idle": "2022-11-28T03:14:47.697084Z",
          "shell.execute_reply": "2022-11-28T03:14:47.695912Z",
          "shell.execute_reply.started": "2022-11-28T03:14:47.678523Z"
        },
        "id": "PM5r0EVXelWz"
      },
      "outputs": [],
      "source": [
        "pickle.dump(rf_ups_smote_y_prediction, open('rf_classifer_upsampling_smote.pkl', 'wb'))"
      ]
    },
    {
      "cell_type": "markdown",
      "source": [
        "#### <font color='Magenta'>Random Forest Algorithm with PCA and SMOTE upsampled data"
      ],
      "metadata": {
        "id": "HTWk4_MqOK0J"
      }
    },
    {
      "cell_type": "code",
      "source": [
        "rf_classifer_ups_smote_ups_pca = RandomForestClassifier(n_estimators = 20, max_depth=70, random_state=0)\n",
        "rf_classifer_ups_smote_ups_pca.fit(X_train_upsampled_pca,y_train_ures_SMOTE)\n",
        "# prediction of train data\n",
        "rf_ytrain_pred = rf_classifer_ups_smote_ups_pca.predict(X_train_upsampled_pca)\n",
        "# prediction of test data\n",
        "rf_pca_ups_smote_y_prediction = rf_classifer_ups_smote_ups_pca.predict(X_test_upsampled_transformed_pca)"
      ],
      "metadata": {
        "execution": {
          "iopub.status.busy": "2022-11-28T04:31:57.153705Z",
          "iopub.execute_input": "2022-11-28T04:31:57.154052Z",
          "iopub.status.idle": "2022-11-28T04:51:14.183836Z",
          "shell.execute_reply.started": "2022-11-28T04:31:57.154019Z",
          "shell.execute_reply": "2022-11-28T04:51:14.182619Z"
        },
        "trusted": true,
        "id": "OGax5iKOOK0J"
      },
      "execution_count": null,
      "outputs": []
    },
    {
      "cell_type": "code",
      "source": [
        "print('training f1 score:',f1_score(y_train_ures_SMOTE, rf_ytrain_pred, average='weighted'))"
      ],
      "metadata": {
        "execution": {
          "iopub.status.busy": "2022-11-28T05:00:37.884803Z",
          "iopub.execute_input": "2022-11-28T05:00:37.885151Z",
          "iopub.status.idle": "2022-11-28T05:00:41.124148Z",
          "shell.execute_reply.started": "2022-11-28T05:00:37.885118Z",
          "shell.execute_reply": "2022-11-28T05:00:41.123323Z"
        },
        "trusted": true,
        "id": "QyJtcpCBOK0J"
      },
      "execution_count": null,
      "outputs": []
    },
    {
      "cell_type": "code",
      "source": [
        "print('Results of Random Forest Algorithm with PCA and SMOTE upsampled data:\\n')\n",
        "print(confusion_matrix(y_test, rf_pca_ups_smote_y_prediction))\n",
        "print(classification_report(y_test, rf_pca_ups_smote_y_prediction))\n",
        "print('Accuracy:',accuracy_score(y_test, rf_pca_ups_smote_y_prediction))\n",
        "print('Precision:',precision_score(y_test, rf_pca_ups_smote_y_prediction, average='weighted'))\n",
        "print('Recall:',recall_score(y_test, rf_pca_ups_smote_y_prediction, average='weighted'))\n",
        "print('F1 Score:',f1_score(y_test, rf_pca_ups_smote_y_prediction, average='weighted'))\n",
        "print('Cohen Kappa Score:',cohen_kappa_score(y_test, rf_pca_ups_smote_y_prediction))"
      ],
      "metadata": {
        "execution": {
          "iopub.status.busy": "2022-11-28T05:00:43.258590Z",
          "iopub.execute_input": "2022-11-28T05:00:43.259159Z",
          "iopub.status.idle": "2022-11-28T05:00:45.568410Z",
          "shell.execute_reply.started": "2022-11-28T05:00:43.259123Z",
          "shell.execute_reply": "2022-11-28T05:00:45.567294Z"
        },
        "trusted": true,
        "id": "uQFarm4MOK0J"
      },
      "execution_count": null,
      "outputs": []
    },
    {
      "cell_type": "code",
      "source": [
        "falsePositiveRate = dict()\n",
        "truePositiveRate = dict()\n",
        "threshold = dict()\n",
        "\n",
        "for i in range(6):    \n",
        "    falsePositiveRate[i], truePositiveRate[i], threshold[i] = roc_curve(y_test, rf_pca_ups_smote_y_prediction, pos_label=i)\n",
        "    \n",
        "plt.plot(falsePositiveRate[0], truePositiveRate[0], linestyle='--',color='blue', label='Class 0 vs Rest')\n",
        "plt.plot(falsePositiveRate[1], truePositiveRate[1], linestyle='--',color='yellow', label='Class 1 vs Rest')\n",
        "plt.plot(falsePositiveRate[2], truePositiveRate[2], linestyle='--',color='orangered', label='Class 2 vs Rest')\n",
        "plt.plot(falsePositiveRate[3], truePositiveRate[3], linestyle='--',color='green', label='Class 3 vs Rest')\n",
        "plt.plot(falsePositiveRate[4], truePositiveRate[4], linestyle='--',color='magenta', label='Class 4 vs Rest')\n",
        "plt.plot(falsePositiveRate[5], truePositiveRate[5], linestyle='--',color='purple', label='Class 5 vs Rest')\n",
        "\n",
        "plt.title('Multiclass ROC curve for Random Forest Algorithm with PCA and SMOTE upsampled data')\n",
        "plt.xlabel('False Positive Rate')\n",
        "plt.ylabel('True Positive rate')\n",
        "plt.legend(loc='best')\n",
        "plt.savefig('Multiclass ROC curve for Random Forest Algorithm with PCA and SMOTE upsampled data',dpi=400)"
      ],
      "metadata": {
        "execution": {
          "iopub.status.busy": "2022-11-28T05:00:50.620540Z",
          "iopub.execute_input": "2022-11-28T05:00:50.620860Z",
          "iopub.status.idle": "2022-11-28T05:00:51.927932Z",
          "shell.execute_reply.started": "2022-11-28T05:00:50.620826Z",
          "shell.execute_reply": "2022-11-28T05:00:51.927054Z"
        },
        "trusted": true,
        "id": "my0uhqW9OK0J"
      },
      "execution_count": null,
      "outputs": []
    },
    {
      "cell_type": "code",
      "source": [
        "pickle.dump(rf_pca_ups_smote_y_prediction, open('rf_classifer_smote_upsampling_pca.pkl', 'wb'))"
      ],
      "metadata": {
        "execution": {
          "iopub.status.busy": "2022-11-28T05:00:55.517722Z",
          "iopub.execute_input": "2022-11-28T05:00:55.518420Z",
          "iopub.status.idle": "2022-11-28T05:00:55.528300Z",
          "shell.execute_reply.started": "2022-11-28T05:00:55.518378Z",
          "shell.execute_reply": "2022-11-28T05:00:55.527541Z"
        },
        "trusted": true,
        "id": "H4qamRc_OK0J"
      },
      "execution_count": null,
      "outputs": []
    },
    {
      "cell_type": "markdown",
      "source": [
        "#### <font color='Magenta'>Random Forest Algorithm with LDA and SMOTE upsampled data"
      ],
      "metadata": {
        "id": "Z1TTgufMOK0K"
      }
    },
    {
      "cell_type": "code",
      "source": [
        "rf_classifer_smote_ups_lda = RandomForestClassifier(n_estimators = 20, max_depth=70, random_state=0)\n",
        "rf_classifer_smote_ups_lda.fit(X_train_upsampled_LDA,y_train_ures_SMOTE)\n",
        "# prediction of train data\n",
        "rf_ytrain_pred = rf_classifer_smote_ups_lda.predict(X_train_upsampled_LDA)\n",
        "# prediction of test data\n",
        "rf_lda_ups_smote_y_prediction = rf_classifer_smote_ups_lda.predict(X_test_upsampled_LDA_transformed)"
      ],
      "metadata": {
        "execution": {
          "iopub.status.busy": "2022-11-28T05:45:50.040473Z",
          "iopub.execute_input": "2022-11-28T05:45:50.040880Z",
          "iopub.status.idle": "2022-11-28T06:06:19.119510Z",
          "shell.execute_reply.started": "2022-11-28T05:45:50.040836Z",
          "shell.execute_reply": "2022-11-28T06:06:19.117690Z"
        },
        "trusted": true,
        "id": "UDZzANRBOK0K"
      },
      "execution_count": null,
      "outputs": []
    },
    {
      "cell_type": "code",
      "source": [
        "print('F1 Score:',f1_score(y_train_ures_SMOTE, rf_ytrain_pred, average='weighted'))"
      ],
      "metadata": {
        "execution": {
          "iopub.status.busy": "2022-11-28T06:22:29.647531Z",
          "iopub.execute_input": "2022-11-28T06:22:29.648045Z",
          "iopub.status.idle": "2022-11-28T06:22:32.791740Z",
          "shell.execute_reply.started": "2022-11-28T06:22:29.648007Z",
          "shell.execute_reply": "2022-11-28T06:22:32.790781Z"
        },
        "trusted": true,
        "id": "HiB_N4NGOK0K",
        "outputId": "f945d2cb-757c-47fb-cbc4-9ef5258ca1af"
      },
      "execution_count": null,
      "outputs": [
        {
          "name": "stdout",
          "text": "F1 Score: 0.9916754256915947\n",
          "output_type": "stream"
        }
      ]
    },
    {
      "cell_type": "code",
      "source": [
        "print('Results of Random Forest Algorithm with LDA and SMOTE upsampled data:\\n')\n",
        "print(confusion_matrix(y_test, rf_lda_ups_smote_y_prediction))\n",
        "print(classification_report(y_test, rf_lda_ups_smote_y_prediction))\n",
        "print('Accuracy:',accuracy_score(y_test, rf_lda_ups_smote_y_prediction))\n",
        "print('Precision:',precision_score(y_test, rf_lda_ups_smote_y_prediction, average='weighted'))\n",
        "print('Recall:',recall_score(y_test, rf_lda_ups_smote_y_prediction, average='weighted'))\n",
        "print('F1 Score:',f1_score(y_test, rf_lda_ups_smote_y_prediction, average='weighted'))\n",
        "print('Cohen Kappa Score:',cohen_kappa_score(y_test, rf_lda_ups_smote_y_prediction))"
      ],
      "metadata": {
        "execution": {
          "iopub.status.busy": "2022-11-28T06:22:37.629637Z",
          "iopub.execute_input": "2022-11-28T06:22:37.629965Z",
          "iopub.status.idle": "2022-11-28T06:22:40.041521Z",
          "shell.execute_reply.started": "2022-11-28T06:22:37.629933Z",
          "shell.execute_reply": "2022-11-28T06:22:40.040568Z"
        },
        "trusted": true,
        "id": "W39ZFCBAOK0K",
        "outputId": "83024347-9eb5-4137-d6f7-d35394c1b6e4"
      },
      "execution_count": null,
      "outputs": [
        {
          "name": "stdout",
          "text": "Results of Random Forest Algorithm with LDA and SMOTE upsampled data:\n\n[[281369  41381  22495  14969   9271   4623]\n [ 25559  50916  13878   6869   4346   2076]\n [  9159  11836  29995   8989   3968   1775]\n [  4532   4090   7510  19808   5528   1704]\n [  1832   1846   2088   4224  10933   2122]\n [   574    525    583    798   1661   4753]]\n              precision    recall  f1-score   support\n\n           0       0.87      0.75      0.81    374108\n           1       0.46      0.49      0.48    103644\n           2       0.39      0.46      0.42     65722\n           3       0.36      0.46      0.40     43172\n           4       0.31      0.47      0.37     23045\n           5       0.28      0.53      0.37      8894\n\n    accuracy                           0.64    618585\n   macro avg       0.44      0.53      0.47    618585\nweighted avg       0.69      0.64      0.66    618585\n\nAccuracy: 0.6430385476531115\nPrecision: 0.6858120648356018\nRecall: 0.6430385476531115\nF1 Score: 0.6597379572638886\nCohen Kappa Score: 0.4354147050862709\n",
          "output_type": "stream"
        }
      ]
    },
    {
      "cell_type": "code",
      "source": [
        "falsePositiveRate = dict()\n",
        "truePositiveRate = dict()\n",
        "threshold = dict()\n",
        "\n",
        "for i in range(6):    \n",
        "    falsePositiveRate[i], truePositiveRate[i], threshold[i] = roc_curve(y_test, rf_lda_ups_smote_y_prediction, pos_label=i)\n",
        "    \n",
        "plt.plot(falsePositiveRate[0], truePositiveRate[0], linestyle='--',color='blue', label='Class 0 vs Rest')\n",
        "plt.plot(falsePositiveRate[1], truePositiveRate[1], linestyle='--',color='yellow', label='Class 1 vs Rest')\n",
        "plt.plot(falsePositiveRate[2], truePositiveRate[2], linestyle='--',color='orangered', label='Class 2 vs Rest')\n",
        "plt.plot(falsePositiveRate[3], truePositiveRate[3], linestyle='--',color='green', label='Class 3 vs Rest')\n",
        "plt.plot(falsePositiveRate[4], truePositiveRate[4], linestyle='--',color='magenta', label='Class 4 vs Rest')\n",
        "plt.plot(falsePositiveRate[5], truePositiveRate[5], linestyle='--',color='purple', label='Class 5 vs Rest')\n",
        "\n",
        "plt.title('Multiclass ROC curve for Random Forest Algorithm with LDA and SMOTE upsampled data')\n",
        "plt.xlabel('False Positive Rate')\n",
        "plt.ylabel('True Positive rate')\n",
        "plt.legend(loc='best')\n",
        "plt.savefig('Multiclass ROC curve for Random Forest Algorithm with LDA and SMOTE upsampled data',dpi=400)"
      ],
      "metadata": {
        "execution": {
          "iopub.status.busy": "2022-11-28T06:22:47.348880Z",
          "iopub.execute_input": "2022-11-28T06:22:47.349167Z",
          "iopub.status.idle": "2022-11-28T06:22:48.728069Z",
          "shell.execute_reply.started": "2022-11-28T06:22:47.349139Z",
          "shell.execute_reply": "2022-11-28T06:22:48.727206Z"
        },
        "trusted": true,
        "id": "z2V3rsoUOK0K",
        "outputId": "47877a93-7051-4945-f8e7-eaf3b24d9b7a"
      },
      "execution_count": null,
      "outputs": [
        {
          "output_type": "display_data",
          "data": {
            "text/plain": "<Figure size 432x288 with 1 Axes>",
            "image/png": "[encoded data removed]"
          },
          "metadata": {}
        }
      ]
    },
    {
      "cell_type": "code",
      "source": [
        "pickle.dump(rf_lda_ups_smote_y_prediction, open('rf_classifer_smote_upsampling_lda.pkl', 'wb'))"
      ],
      "metadata": {
        "execution": {
          "iopub.status.busy": "2022-11-28T06:22:51.196678Z",
          "iopub.execute_input": "2022-11-28T06:22:51.197626Z",
          "iopub.status.idle": "2022-11-28T06:22:51.207579Z",
          "shell.execute_reply.started": "2022-11-28T06:22:51.197575Z",
          "shell.execute_reply": "2022-11-28T06:22:51.206851Z"
        },
        "trusted": true,
        "id": "IViX3FccOK0K"
      },
      "execution_count": null,
      "outputs": []
    }
  ],
  "metadata": {
    "colab": {
      "provenance": [],
      "collapsed_sections": [
        "UUPw-QKOZoKc",
        "DzzMi0HgZoKh",
        "WdfPQxXYZoKh",
        "SUsGoBCSZoKi",
        "oRDqv3q3ZoKi",
        "w7WFZDK9ZoKo",
        "veq55pyIZoKo",
        "xJQvjJU9ZoKo",
        "1TWmSkfNZoKo",
        "jOW-nBJhEM_N"
      ],
      "include_colab_link": true
    },
    "kernelspec": {
      "display_name": "Python 3 (ipykernel)",
      "language": "python",
      "name": "python3"
    },
    "language_info": {
      "codemirror_mode": {
        "name": "ipython",
        "version": 3
      },
      "file_extension": ".py",
      "mimetype": "text/x-python",
      "name": "python",
      "nbconvert_exporter": "python",
      "pygments_lexer": "ipython3",
      "version": "3.10.7"
    },
    "gpuClass": "standard"
  },
  "nbformat": 4,
  "nbformat_minor": 0
}